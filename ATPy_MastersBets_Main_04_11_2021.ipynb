{
 "cells": [
  {
   "cell_type": "markdown",
   "id": "9df20e6f",
   "metadata": {},
   "source": [
    "'liens utiles : \n",
    "http://www.tennis-data.co.uk/notes.txt pour la l�gende\n",
    "https://www.kaggle.com/edouardthomas/atp-matches-dataset/code source du dataset\n",
    "http://www.tennisabstract.com/blog/2019/12/03/an-introduction-to-tennis-elo/ pour le elo ranking\n",
    "https://tennisabstract.com/reports/atp_elo_ratings.html elo ranking appliqu�'"
   ]
  },
  {
   "cell_type": "code",
   "execution_count": 1,
   "id": "e4804111",
   "metadata": {},
   "outputs": [
    {
     "data": {
      "text/plain": [
       "Index(['ATP', 'Location', 'Tournament', 'Date', 'Series', 'Court', 'Surface',\n",
       "       'Round', 'Best of', 'Winner', 'Loser', 'WRank', 'LRank', 'Wsets',\n",
       "       'Lsets', 'Comment', 'PSW', 'PSL', 'B365W', 'B365L', 'elo_winner',\n",
       "       'elo_loser', 'proba_elo'],\n",
       "      dtype='object')"
      ]
     },
     "execution_count": 1,
     "metadata": {},
     "output_type": "execute_result"
    }
   ],
   "source": [
    "# Import les modules � utiliser pour data set\n",
    "import pandas as pd\n",
    "import numpy as np\n",
    "import matplotlib.pyplot as plt\n",
    "import seaborn as sns\n",
    "\n",
    "#importer le fichier Atp_Paris_Master.csv et afficher les variables\n",
    "\n",
    "df=pd.read_csv(r'C:\\Users\\Utilisateur\\Documents\\R�mi\\Data Science\\Projet ATPy Masters Bets\\atp_data.csv')\n",
    "df.columns\n"
   ]
  },
  {
   "cell_type": "code",
   "execution_count": 2,
   "id": "c4d88c50",
   "metadata": {},
   "outputs": [
    {
     "data": {
      "text/html": [
       "<div>\n",
       "<style scoped>\n",
       "    .dataframe tbody tr th:only-of-type {\n",
       "        vertical-align: middle;\n",
       "    }\n",
       "\n",
       "    .dataframe tbody tr th {\n",
       "        vertical-align: top;\n",
       "    }\n",
       "\n",
       "    .dataframe thead th {\n",
       "        text-align: right;\n",
       "    }\n",
       "</style>\n",
       "<table border=\"1\" class=\"dataframe\">\n",
       "  <thead>\n",
       "    <tr style=\"text-align: right;\">\n",
       "      <th></th>\n",
       "      <th>Colonnes</th>\n",
       "      <th>Dtypes</th>\n",
       "      <th>Nombre de valeurs uniques</th>\n",
       "    </tr>\n",
       "  </thead>\n",
       "  <tbody>\n",
       "    <tr>\n",
       "      <th>5</th>\n",
       "      <td>Court</td>\n",
       "      <td>object</td>\n",
       "      <td>2</td>\n",
       "    </tr>\n",
       "    <tr>\n",
       "      <th>8</th>\n",
       "      <td>Best of</td>\n",
       "      <td>int64</td>\n",
       "      <td>2</td>\n",
       "    </tr>\n",
       "    <tr>\n",
       "      <th>14</th>\n",
       "      <td>Lsets</td>\n",
       "      <td>float64</td>\n",
       "      <td>3</td>\n",
       "    </tr>\n",
       "    <tr>\n",
       "      <th>6</th>\n",
       "      <td>Surface</td>\n",
       "      <td>object</td>\n",
       "      <td>4</td>\n",
       "    </tr>\n",
       "    <tr>\n",
       "      <th>15</th>\n",
       "      <td>Comment</td>\n",
       "      <td>object</td>\n",
       "      <td>4</td>\n",
       "    </tr>\n",
       "    <tr>\n",
       "      <th>13</th>\n",
       "      <td>Wsets</td>\n",
       "      <td>float64</td>\n",
       "      <td>4</td>\n",
       "    </tr>\n",
       "    <tr>\n",
       "      <th>4</th>\n",
       "      <td>Series</td>\n",
       "      <td>object</td>\n",
       "      <td>8</td>\n",
       "    </tr>\n",
       "    <tr>\n",
       "      <th>7</th>\n",
       "      <td>Round</td>\n",
       "      <td>object</td>\n",
       "      <td>8</td>\n",
       "    </tr>\n",
       "    <tr>\n",
       "      <th>0</th>\n",
       "      <td>ATP</td>\n",
       "      <td>int64</td>\n",
       "      <td>69</td>\n",
       "    </tr>\n",
       "    <tr>\n",
       "      <th>1</th>\n",
       "      <td>Location</td>\n",
       "      <td>object</td>\n",
       "      <td>115</td>\n",
       "    </tr>\n",
       "    <tr>\n",
       "      <th>18</th>\n",
       "      <td>B365W</td>\n",
       "      <td>float64</td>\n",
       "      <td>133</td>\n",
       "    </tr>\n",
       "    <tr>\n",
       "      <th>19</th>\n",
       "      <td>B365L</td>\n",
       "      <td>float64</td>\n",
       "      <td>137</td>\n",
       "    </tr>\n",
       "    <tr>\n",
       "      <th>2</th>\n",
       "      <td>Tournament</td>\n",
       "      <td>object</td>\n",
       "      <td>207</td>\n",
       "    </tr>\n",
       "    <tr>\n",
       "      <th>11</th>\n",
       "      <td>WRank</td>\n",
       "      <td>int64</td>\n",
       "      <td>587</td>\n",
       "    </tr>\n",
       "    <tr>\n",
       "      <th>9</th>\n",
       "      <td>Winner</td>\n",
       "      <td>object</td>\n",
       "      <td>899</td>\n",
       "    </tr>\n",
       "    <tr>\n",
       "      <th>12</th>\n",
       "      <td>LRank</td>\n",
       "      <td>int64</td>\n",
       "      <td>920</td>\n",
       "    </tr>\n",
       "    <tr>\n",
       "      <th>16</th>\n",
       "      <td>PSW</td>\n",
       "      <td>float64</td>\n",
       "      <td>1177</td>\n",
       "    </tr>\n",
       "    <tr>\n",
       "      <th>10</th>\n",
       "      <td>Loser</td>\n",
       "      <td>object</td>\n",
       "      <td>1400</td>\n",
       "    </tr>\n",
       "    <tr>\n",
       "      <th>17</th>\n",
       "      <td>PSL</td>\n",
       "      <td>float64</td>\n",
       "      <td>1580</td>\n",
       "    </tr>\n",
       "    <tr>\n",
       "      <th>3</th>\n",
       "      <td>Date</td>\n",
       "      <td>object</td>\n",
       "      <td>4104</td>\n",
       "    </tr>\n",
       "    <tr>\n",
       "      <th>21</th>\n",
       "      <td>elo_loser</td>\n",
       "      <td>float64</td>\n",
       "      <td>43522</td>\n",
       "    </tr>\n",
       "    <tr>\n",
       "      <th>20</th>\n",
       "      <td>elo_winner</td>\n",
       "      <td>float64</td>\n",
       "      <td>44297</td>\n",
       "    </tr>\n",
       "    <tr>\n",
       "      <th>22</th>\n",
       "      <td>proba_elo</td>\n",
       "      <td>float64</td>\n",
       "      <td>44555</td>\n",
       "    </tr>\n",
       "  </tbody>\n",
       "</table>\n",
       "</div>"
      ],
      "text/plain": [
       "      Colonnes   Dtypes  Nombre de valeurs uniques\n",
       "5        Court   object                          2\n",
       "8      Best of    int64                          2\n",
       "14       Lsets  float64                          3\n",
       "6      Surface   object                          4\n",
       "15     Comment   object                          4\n",
       "13       Wsets  float64                          4\n",
       "4       Series   object                          8\n",
       "7        Round   object                          8\n",
       "0          ATP    int64                         69\n",
       "1     Location   object                        115\n",
       "18       B365W  float64                        133\n",
       "19       B365L  float64                        137\n",
       "2   Tournament   object                        207\n",
       "11       WRank    int64                        587\n",
       "9       Winner   object                        899\n",
       "12       LRank    int64                        920\n",
       "16         PSW  float64                       1177\n",
       "10       Loser   object                       1400\n",
       "17         PSL  float64                       1580\n",
       "3         Date   object                       4104\n",
       "21   elo_loser  float64                      43522\n",
       "20  elo_winner  float64                      44297\n",
       "22   proba_elo  float64                      44555"
      ]
     },
     "execution_count": 2,
     "metadata": {},
     "output_type": "execute_result"
    }
   ],
   "source": [
    "dftypes=df.dtypes\n",
    "dfnombreduniques=df.nunique()\n",
    "noms=df.columns\n",
    "dfexpli = pd.DataFrame(list(zip(noms,dftypes,dfnombreduniques)), columns = ['Colonnes','Dtypes','Nombre de valeurs uniques'])\n",
    "\n",
    "dfexpli.sort_values(by = ['Nombre de valeurs uniques']).head(23)\n",
    "#On constate plusieurs choses :\n",
    "    #les colonnes de donn�es Float ou Int on toutes de tr�s nombreuses valeurs diff�rentes, ce qui est attendu\n",
    "    #La plupart des colonnes de type Object et certaines num�riques (comme Best Of / Wsets / Lsets) ont peu de valeurs diff�rentes et peuvent �tre trait�es comme des cat�gorielles\n",
    "    "
   ]
  },
  {
   "cell_type": "markdown",
   "id": "b0cd4814",
   "metadata": {},
   "source": [
    "## Traitement des NA et nettoyage du dataset"
   ]
  },
  {
   "cell_type": "code",
   "execution_count": 3,
   "id": "126ab48d",
   "metadata": {},
   "outputs": [
    {
     "data": {
      "text/plain": [
       "ATP               0\n",
       "Location          0\n",
       "Tournament        0\n",
       "Date              0\n",
       "Series            0\n",
       "Court             0\n",
       "Surface           0\n",
       "Round             0\n",
       "Best of           0\n",
       "Winner            0\n",
       "Loser             0\n",
       "WRank             0\n",
       "LRank             0\n",
       "Wsets           187\n",
       "Lsets           187\n",
       "Comment           0\n",
       "PSW           11965\n",
       "PSL           11965\n",
       "B365W          5671\n",
       "B365L          5651\n",
       "elo_winner        0\n",
       "elo_loser         0\n",
       "proba_elo         0\n",
       "dtype: int64"
      ]
     },
     "execution_count": 3,
     "metadata": {},
     "output_type": "execute_result"
    }
   ],
   "source": [
    "# Valeurs manquantes \n",
    "df.isnull().sum()\n",
    "#Il y a de nombreuses valeurs nulles notamment dns PSW, PSL, B365W et 365L. \n",
    "# On constate que les valeurs manquantes se trouvent dans 6 variables"
   ]
  },
  {
   "cell_type": "code",
   "execution_count": 4,
   "id": "4e33aef4",
   "metadata": {
    "scrolled": false
   },
   "outputs": [
    {
     "data": {
      "text/html": [
       "<div>\n",
       "<style scoped>\n",
       "    .dataframe tbody tr th:only-of-type {\n",
       "        vertical-align: middle;\n",
       "    }\n",
       "\n",
       "    .dataframe tbody tr th {\n",
       "        vertical-align: top;\n",
       "    }\n",
       "\n",
       "    .dataframe thead th {\n",
       "        text-align: right;\n",
       "    }\n",
       "</style>\n",
       "<table border=\"1\" class=\"dataframe\">\n",
       "  <thead>\n",
       "    <tr style=\"text-align: right;\">\n",
       "      <th></th>\n",
       "      <th>ATP</th>\n",
       "      <th>Location</th>\n",
       "      <th>Tournament</th>\n",
       "      <th>Date</th>\n",
       "      <th>Series</th>\n",
       "      <th>Court</th>\n",
       "      <th>Surface</th>\n",
       "      <th>Round</th>\n",
       "      <th>Best of</th>\n",
       "      <th>Winner</th>\n",
       "      <th>Loser</th>\n",
       "      <th>WRank</th>\n",
       "      <th>LRank</th>\n",
       "      <th>Wsets</th>\n",
       "      <th>Lsets</th>\n",
       "      <th>Comment</th>\n",
       "      <th>PSW</th>\n",
       "      <th>PSL</th>\n",
       "      <th>B365W</th>\n",
       "      <th>B365L</th>\n",
       "      <th>elo_winner</th>\n",
       "      <th>elo_loser</th>\n",
       "      <th>proba_elo</th>\n",
       "    </tr>\n",
       "  </thead>\n",
       "  <tbody>\n",
       "    <tr>\n",
       "      <th>0</th>\n",
       "      <td>1</td>\n",
       "      <td>Adelaide</td>\n",
       "      <td>Australian Hardcourt Championships</td>\n",
       "      <td>2000-01-03</td>\n",
       "      <td>International</td>\n",
       "      <td>Outdoor</td>\n",
       "      <td>Hard</td>\n",
       "      <td>1st Round</td>\n",
       "      <td>3</td>\n",
       "      <td>Dosedel S.</td>\n",
       "      <td>Ljubicic I.</td>\n",
       "      <td>63</td>\n",
       "      <td>77</td>\n",
       "      <td>2.0</td>\n",
       "      <td>0.0</td>\n",
       "      <td>Completed</td>\n",
       "      <td>NaN</td>\n",
       "      <td>NaN</td>\n",
       "      <td>NaN</td>\n",
       "      <td>NaN</td>\n",
       "      <td>1500.0</td>\n",
       "      <td>1500.0</td>\n",
       "      <td>0.5</td>\n",
       "    </tr>\n",
       "    <tr>\n",
       "      <th>1</th>\n",
       "      <td>3</td>\n",
       "      <td>Doha</td>\n",
       "      <td>Qatar Open</td>\n",
       "      <td>2000-01-03</td>\n",
       "      <td>International</td>\n",
       "      <td>Outdoor</td>\n",
       "      <td>Hard</td>\n",
       "      <td>1st Round</td>\n",
       "      <td>3</td>\n",
       "      <td>Kiefer N.</td>\n",
       "      <td>Tarango J.</td>\n",
       "      <td>6</td>\n",
       "      <td>59</td>\n",
       "      <td>2.0</td>\n",
       "      <td>0.0</td>\n",
       "      <td>Completed</td>\n",
       "      <td>NaN</td>\n",
       "      <td>NaN</td>\n",
       "      <td>NaN</td>\n",
       "      <td>NaN</td>\n",
       "      <td>1500.0</td>\n",
       "      <td>1500.0</td>\n",
       "      <td>0.5</td>\n",
       "    </tr>\n",
       "    <tr>\n",
       "      <th>2</th>\n",
       "      <td>3</td>\n",
       "      <td>Doha</td>\n",
       "      <td>Qatar Open</td>\n",
       "      <td>2000-01-03</td>\n",
       "      <td>International</td>\n",
       "      <td>Outdoor</td>\n",
       "      <td>Hard</td>\n",
       "      <td>1st Round</td>\n",
       "      <td>3</td>\n",
       "      <td>Gaudio G.</td>\n",
       "      <td>Luxa P.</td>\n",
       "      <td>73</td>\n",
       "      <td>174</td>\n",
       "      <td>2.0</td>\n",
       "      <td>1.0</td>\n",
       "      <td>Completed</td>\n",
       "      <td>NaN</td>\n",
       "      <td>NaN</td>\n",
       "      <td>NaN</td>\n",
       "      <td>NaN</td>\n",
       "      <td>1500.0</td>\n",
       "      <td>1500.0</td>\n",
       "      <td>0.5</td>\n",
       "    </tr>\n",
       "    <tr>\n",
       "      <th>3</th>\n",
       "      <td>3</td>\n",
       "      <td>Doha</td>\n",
       "      <td>Qatar Open</td>\n",
       "      <td>2000-01-03</td>\n",
       "      <td>International</td>\n",
       "      <td>Outdoor</td>\n",
       "      <td>Hard</td>\n",
       "      <td>1st Round</td>\n",
       "      <td>3</td>\n",
       "      <td>El Aynaoui Y.</td>\n",
       "      <td>Dupuis A.</td>\n",
       "      <td>33</td>\n",
       "      <td>78</td>\n",
       "      <td>2.0</td>\n",
       "      <td>1.0</td>\n",
       "      <td>Completed</td>\n",
       "      <td>NaN</td>\n",
       "      <td>NaN</td>\n",
       "      <td>NaN</td>\n",
       "      <td>NaN</td>\n",
       "      <td>1500.0</td>\n",
       "      <td>1500.0</td>\n",
       "      <td>0.5</td>\n",
       "    </tr>\n",
       "    <tr>\n",
       "      <th>4</th>\n",
       "      <td>3</td>\n",
       "      <td>Doha</td>\n",
       "      <td>Qatar Open</td>\n",
       "      <td>2000-01-03</td>\n",
       "      <td>International</td>\n",
       "      <td>Outdoor</td>\n",
       "      <td>Hard</td>\n",
       "      <td>1st Round</td>\n",
       "      <td>3</td>\n",
       "      <td>Cherkasov A.</td>\n",
       "      <td>Arazi H.</td>\n",
       "      <td>206</td>\n",
       "      <td>35</td>\n",
       "      <td>2.0</td>\n",
       "      <td>0.0</td>\n",
       "      <td>Completed</td>\n",
       "      <td>NaN</td>\n",
       "      <td>NaN</td>\n",
       "      <td>NaN</td>\n",
       "      <td>NaN</td>\n",
       "      <td>1500.0</td>\n",
       "      <td>1500.0</td>\n",
       "      <td>0.5</td>\n",
       "    </tr>\n",
       "    <tr>\n",
       "      <th>5</th>\n",
       "      <td>3</td>\n",
       "      <td>Doha</td>\n",
       "      <td>Qatar Open</td>\n",
       "      <td>2000-01-03</td>\n",
       "      <td>International</td>\n",
       "      <td>Outdoor</td>\n",
       "      <td>Hard</td>\n",
       "      <td>1st Round</td>\n",
       "      <td>3</td>\n",
       "      <td>Caratti C.</td>\n",
       "      <td>Heuberger I.</td>\n",
       "      <td>211</td>\n",
       "      <td>219</td>\n",
       "      <td>2.0</td>\n",
       "      <td>1.0</td>\n",
       "      <td>Completed</td>\n",
       "      <td>NaN</td>\n",
       "      <td>NaN</td>\n",
       "      <td>NaN</td>\n",
       "      <td>NaN</td>\n",
       "      <td>1500.0</td>\n",
       "      <td>1500.0</td>\n",
       "      <td>0.5</td>\n",
       "    </tr>\n",
       "    <tr>\n",
       "      <th>6</th>\n",
       "      <td>3</td>\n",
       "      <td>Doha</td>\n",
       "      <td>Qatar Open</td>\n",
       "      <td>2000-01-03</td>\n",
       "      <td>International</td>\n",
       "      <td>Outdoor</td>\n",
       "      <td>Hard</td>\n",
       "      <td>1st Round</td>\n",
       "      <td>3</td>\n",
       "      <td>Berasategui A.</td>\n",
       "      <td>Al-Alawi S.K.</td>\n",
       "      <td>60</td>\n",
       "      <td>2000</td>\n",
       "      <td>2.0</td>\n",
       "      <td>0.0</td>\n",
       "      <td>Completed</td>\n",
       "      <td>NaN</td>\n",
       "      <td>NaN</td>\n",
       "      <td>NaN</td>\n",
       "      <td>NaN</td>\n",
       "      <td>1500.0</td>\n",
       "      <td>1500.0</td>\n",
       "      <td>0.5</td>\n",
       "    </tr>\n",
       "    <tr>\n",
       "      <th>7</th>\n",
       "      <td>3</td>\n",
       "      <td>Doha</td>\n",
       "      <td>Qatar Open</td>\n",
       "      <td>2000-01-03</td>\n",
       "      <td>International</td>\n",
       "      <td>Outdoor</td>\n",
       "      <td>Hard</td>\n",
       "      <td>1st Round</td>\n",
       "      <td>3</td>\n",
       "      <td>Bastl G.</td>\n",
       "      <td>Novak J.</td>\n",
       "      <td>85</td>\n",
       "      <td>36</td>\n",
       "      <td>2.0</td>\n",
       "      <td>0.0</td>\n",
       "      <td>Completed</td>\n",
       "      <td>NaN</td>\n",
       "      <td>NaN</td>\n",
       "      <td>NaN</td>\n",
       "      <td>NaN</td>\n",
       "      <td>1500.0</td>\n",
       "      <td>1500.0</td>\n",
       "      <td>0.5</td>\n",
       "    </tr>\n",
       "    <tr>\n",
       "      <th>8</th>\n",
       "      <td>2</td>\n",
       "      <td>Chennai</td>\n",
       "      <td>Gold Flake Open</td>\n",
       "      <td>2000-01-03</td>\n",
       "      <td>International</td>\n",
       "      <td>Outdoor</td>\n",
       "      <td>Hard</td>\n",
       "      <td>Semifinals</td>\n",
       "      <td>3</td>\n",
       "      <td>Hantschk M.</td>\n",
       "      <td>Pioline C.</td>\n",
       "      <td>128</td>\n",
       "      <td>14</td>\n",
       "      <td>2.0</td>\n",
       "      <td>1.0</td>\n",
       "      <td>Completed</td>\n",
       "      <td>NaN</td>\n",
       "      <td>NaN</td>\n",
       "      <td>NaN</td>\n",
       "      <td>NaN</td>\n",
       "      <td>1500.0</td>\n",
       "      <td>1500.0</td>\n",
       "      <td>0.5</td>\n",
       "    </tr>\n",
       "    <tr>\n",
       "      <th>9</th>\n",
       "      <td>2</td>\n",
       "      <td>Chennai</td>\n",
       "      <td>Gold Flake Open</td>\n",
       "      <td>2000-01-03</td>\n",
       "      <td>International</td>\n",
       "      <td>Outdoor</td>\n",
       "      <td>Hard</td>\n",
       "      <td>Semifinals</td>\n",
       "      <td>3</td>\n",
       "      <td>Golmard J.</td>\n",
       "      <td>Damm M.</td>\n",
       "      <td>38</td>\n",
       "      <td>104</td>\n",
       "      <td>2.0</td>\n",
       "      <td>1.0</td>\n",
       "      <td>Completed</td>\n",
       "      <td>NaN</td>\n",
       "      <td>NaN</td>\n",
       "      <td>NaN</td>\n",
       "      <td>NaN</td>\n",
       "      <td>1500.0</td>\n",
       "      <td>1500.0</td>\n",
       "      <td>0.5</td>\n",
       "    </tr>\n",
       "  </tbody>\n",
       "</table>\n",
       "</div>"
      ],
      "text/plain": [
       "   ATP  Location                          Tournament       Date  \\\n",
       "0    1  Adelaide  Australian Hardcourt Championships 2000-01-03   \n",
       "1    3      Doha                          Qatar Open 2000-01-03   \n",
       "2    3      Doha                          Qatar Open 2000-01-03   \n",
       "3    3      Doha                          Qatar Open 2000-01-03   \n",
       "4    3      Doha                          Qatar Open 2000-01-03   \n",
       "5    3      Doha                          Qatar Open 2000-01-03   \n",
       "6    3      Doha                          Qatar Open 2000-01-03   \n",
       "7    3      Doha                          Qatar Open 2000-01-03   \n",
       "8    2   Chennai                     Gold Flake Open 2000-01-03   \n",
       "9    2   Chennai                     Gold Flake Open 2000-01-03   \n",
       "\n",
       "          Series    Court Surface       Round  Best of          Winner  \\\n",
       "0  International  Outdoor    Hard   1st Round        3      Dosedel S.   \n",
       "1  International  Outdoor    Hard   1st Round        3       Kiefer N.   \n",
       "2  International  Outdoor    Hard   1st Round        3       Gaudio G.   \n",
       "3  International  Outdoor    Hard   1st Round        3   El Aynaoui Y.   \n",
       "4  International  Outdoor    Hard   1st Round        3    Cherkasov A.   \n",
       "5  International  Outdoor    Hard   1st Round        3      Caratti C.   \n",
       "6  International  Outdoor    Hard   1st Round        3  Berasategui A.   \n",
       "7  International  Outdoor    Hard   1st Round        3        Bastl G.   \n",
       "8  International  Outdoor    Hard  Semifinals        3     Hantschk M.   \n",
       "9  International  Outdoor    Hard  Semifinals        3      Golmard J.   \n",
       "\n",
       "           Loser  WRank  LRank  Wsets  Lsets    Comment  PSW  PSL  B365W  \\\n",
       "0    Ljubicic I.     63     77    2.0    0.0  Completed  NaN  NaN    NaN   \n",
       "1     Tarango J.      6     59    2.0    0.0  Completed  NaN  NaN    NaN   \n",
       "2        Luxa P.     73    174    2.0    1.0  Completed  NaN  NaN    NaN   \n",
       "3      Dupuis A.     33     78    2.0    1.0  Completed  NaN  NaN    NaN   \n",
       "4       Arazi H.    206     35    2.0    0.0  Completed  NaN  NaN    NaN   \n",
       "5   Heuberger I.    211    219    2.0    1.0  Completed  NaN  NaN    NaN   \n",
       "6  Al-Alawi S.K.     60   2000    2.0    0.0  Completed  NaN  NaN    NaN   \n",
       "7       Novak J.     85     36    2.0    0.0  Completed  NaN  NaN    NaN   \n",
       "8     Pioline C.    128     14    2.0    1.0  Completed  NaN  NaN    NaN   \n",
       "9        Damm M.     38    104    2.0    1.0  Completed  NaN  NaN    NaN   \n",
       "\n",
       "   B365L  elo_winner  elo_loser  proba_elo  \n",
       "0    NaN      1500.0     1500.0        0.5  \n",
       "1    NaN      1500.0     1500.0        0.5  \n",
       "2    NaN      1500.0     1500.0        0.5  \n",
       "3    NaN      1500.0     1500.0        0.5  \n",
       "4    NaN      1500.0     1500.0        0.5  \n",
       "5    NaN      1500.0     1500.0        0.5  \n",
       "6    NaN      1500.0     1500.0        0.5  \n",
       "7    NaN      1500.0     1500.0        0.5  \n",
       "8    NaN      1500.0     1500.0        0.5  \n",
       "9    NaN      1500.0     1500.0        0.5  "
      ]
     },
     "execution_count": 4,
     "metadata": {},
     "output_type": "execute_result"
    }
   ],
   "source": [
    "df['Date']=pd.to_datetime(df['Date']) #On utilise DateTime pour pouvoir trier comparer les dates\n",
    "pd.set_option(\"max_columns\", None) #Pour afficher toutes les colonnes\n",
    "df.head(10)"
   ]
  },
  {
   "cell_type": "code",
   "execution_count": 5,
   "id": "cdc5aec3",
   "metadata": {
    "scrolled": false
   },
   "outputs": [
    {
     "data": {
      "image/png": "[encoded data removed]",
      "text/plain": [
       "<Figure size 1080x576 with 1 Axes>"
      ]
     },
     "metadata": {
      "needs_background": "light"
     },
     "output_type": "display_data"
    }
   ],
   "source": [
    "#On regarde la distribution des NA par anne� sur la colonne PSW qui en a le plus\n",
    "\n",
    "dfmois=df.copy()\n",
    "\n",
    "dfmois['Mois']=dfmois['Date'].dt.to_period('M')\n",
    "dfmois['Annee']=dfmois['Date'].dt.to_period('Y')\n",
    "\n",
    "plt.figure( figsize= (15, 8) );\n",
    "plt.title('Nombre de cotes manquantes ann�e par ann�e')\n",
    "sns.countplot(x='Annee', data=dfmois.loc[df['PSW'].isna(),['Annee']]);\n",
    "\n",
    "#Il y a des valeurs non nulles seulement apr�s 2004, et aucune en 2009. Partir de 2010 semble donc une bonne option\n",
    "#df=df.drop(['Mois','Annee'], axis=1)\n"
   ]
  },
  {
   "cell_type": "code",
   "execution_count": 6,
   "id": "2e2286d5",
   "metadata": {},
   "outputs": [
    {
     "name": "stdout",
     "output_type": "stream",
     "text": [
      "ATP             0\n",
      "Location        0\n",
      "Tournament      0\n",
      "Date            0\n",
      "Series          0\n",
      "Court           0\n",
      "Surface         0\n",
      "Round           0\n",
      "Best of         0\n",
      "Winner          0\n",
      "Loser           0\n",
      "WRank           0\n",
      "LRank           0\n",
      "Wsets         110\n",
      "Lsets         111\n",
      "Comment         0\n",
      "PSW           106\n",
      "PSL           106\n",
      "B365W          84\n",
      "B365L          64\n",
      "elo_winner      0\n",
      "elo_loser       0\n",
      "proba_elo       0\n",
      "dtype: int64\n"
     ]
    }
   ],
   "source": [
    "print(df[df['Date']>'2010-01-1'].isnull().sum())\n",
    "#La quasi-totalit� des valeurs manquantes de PSW, PSL, B65W et B365L est avant 2010\n",
    "#Il y en a bien moins apr�s 2010\n",
    "#Les joueurs et les Series ayant chang� avec les ann�es, on a fait de choix de garder uniquement les donn�es post�rieures � 2010')\n"
   ]
  },
  {
   "cell_type": "code",
   "execution_count": 7,
   "id": "5d68cdc4",
   "metadata": {},
   "outputs": [
    {
     "data": {
      "text/plain": [
       "ATP             0\n",
       "Location        0\n",
       "Tournament      0\n",
       "Date            0\n",
       "Series          0\n",
       "Court           0\n",
       "Surface         0\n",
       "Round           0\n",
       "Best of         0\n",
       "Winner          0\n",
       "Loser           0\n",
       "WRank           0\n",
       "LRank           0\n",
       "Wsets         110\n",
       "Lsets         111\n",
       "Comment         0\n",
       "PSW           106\n",
       "PSL           106\n",
       "B365W          84\n",
       "B365L          64\n",
       "elo_winner      0\n",
       "elo_loser       0\n",
       "proba_elo       0\n",
       "dtype: int64"
      ]
     },
     "execution_count": 7,
     "metadata": {},
     "output_type": "execute_result"
    }
   ],
   "source": [
    "#On nettoye en gardant uniquement � partir du 1er janvier 2010\n",
    "df=df[df['Date']>='2010-01-1']\n",
    "df.isnull().sum()\n",
    "#Presque plus de valeurs manquantes. On va les nettoyer."
   ]
  },
  {
   "cell_type": "code",
   "execution_count": 8,
   "id": "031db47b",
   "metadata": {},
   "outputs": [
    {
     "name": "stdout",
     "output_type": "stream",
     "text": [
      "Les matchs t�rmin�s(Completed) sont les plus fr�quents, et ce sont les seuls qui nous int�ressent\n"
     ]
    },
    {
     "name": "stderr",
     "output_type": "stream",
     "text": [
      "C:\\Program Files\\Anaconda3\\lib\\site-packages\\seaborn\\_decorators.py:36: FutureWarning: Pass the following variable as a keyword arg: x. From version 0.12, the only valid positional argument will be `data`, and passing other arguments without an explicit keyword will result in an error or misinterpretation.\n",
      "  warnings.warn(\n"
     ]
    },
    {
     "data": {
      "text/plain": [
       "Completed       18330\n",
       "Retired           655\n",
       "Walkover          105\n",
       "Disqualified        1\n",
       "Name: Comment, dtype: int64"
      ]
     },
     "execution_count": 8,
     "metadata": {},
     "output_type": "execute_result"
    },
    {
     "data": {
      "image/png": "[encoded data removed]",
      "text/plain": [
       "<Figure size 432x288 with 1 Axes>"
      ]
     },
     "metadata": {
      "needs_background": "light"
     },
     "output_type": "display_data"
    }
   ],
   "source": [
    "# Affichons un graphique nous permettant de savoir comment se terminent les matchs\n",
    "#La variable �Comment� est un commentaire sur le match soit Termin�, gagn� par retraite du perdant ou via Walkover ou disqualifi�  \n",
    "\n",
    "sns.countplot(df.Comment);\n",
    "plt.title('Issues les plus fr�quentes des matches')\n",
    "print('Les matchs t�rmin�s(Completed) sont les plus fr�quents, et ce sont les seuls qui nous int�ressent')\n",
    "df['Comment'].value_counts()"
   ]
  },
  {
   "cell_type": "code",
   "execution_count": 9,
   "id": "2a83b960",
   "metadata": {},
   "outputs": [
    {
     "data": {
      "text/plain": [
       "ATP             0\n",
       "Location        0\n",
       "Tournament      0\n",
       "Date            0\n",
       "Series          0\n",
       "Court           0\n",
       "Surface         0\n",
       "Round           0\n",
       "Best of         0\n",
       "Winner          0\n",
       "Loser           0\n",
       "WRank           0\n",
       "LRank           0\n",
       "Wsets           0\n",
       "Lsets           0\n",
       "Comment         0\n",
       "PSW           100\n",
       "PSL           100\n",
       "B365W          76\n",
       "B365L          59\n",
       "elo_winner      0\n",
       "elo_loser       0\n",
       "proba_elo       0\n",
       "dtype: int64"
      ]
     },
     "execution_count": 9,
     "metadata": {},
     "output_type": "execute_result"
    }
   ],
   "source": [
    "# En effet nous constatons que quelques matchs se terminent par des abandons ou des victoires faciles \n",
    "#Pour l'exercice nous garderons uniquement les matchs termin�s ('Completed')\n",
    "df=df[df['Comment']=='Completed']\n",
    "#Il reste des valeurs nulles dans 4 colonnes : on va les supprimer\n",
    "df.isnull().sum()\n"
   ]
  },
  {
   "cell_type": "code",
   "execution_count": 10,
   "id": "e8a2cbd4",
   "metadata": {},
   "outputs": [
    {
     "data": {
      "text/plain": [
       "ATP           0\n",
       "LRank         0\n",
       "elo_loser     0\n",
       "elo_winner    0\n",
       "B365L         0\n",
       "B365W         0\n",
       "PSL           0\n",
       "PSW           0\n",
       "Comment       0\n",
       "Lsets         0\n",
       "Wsets         0\n",
       "WRank         0\n",
       "Location      0\n",
       "Loser         0\n",
       "Winner        0\n",
       "Best of       0\n",
       "Round         0\n",
       "Surface       0\n",
       "Court         0\n",
       "Series        0\n",
       "Date          0\n",
       "Tournament    0\n",
       "proba_elo     0\n",
       "dtype: int64"
      ]
     },
     "execution_count": 10,
     "metadata": {},
     "output_type": "execute_result"
    }
   ],
   "source": [
    "# Suppression des valeurs manquantes dans ces 6 variables \n",
    "\n",
    "df=df.dropna(axis = 0, how = 'any', subset = ['B365L','B365W','PSL','PSW'])\n",
    "\n",
    "df.isnull().sum().sort_values(ascending=False) # V�rification les valeurs manquantes\n",
    "#Le dataset est nettoy�"
   ]
  },
  {
   "cell_type": "code",
   "execution_count": 11,
   "id": "1cdf0ce6",
   "metadata": {},
   "outputs": [
    {
     "name": "stdout",
     "output_type": "stream",
     "text": [
      "(18207, 23)\n",
      "<class 'pandas.core.frame.DataFrame'>\n",
      "Int64Index: 18207 entries, 25617 to 44707\n",
      "Data columns (total 23 columns):\n",
      " #   Column      Non-Null Count  Dtype         \n",
      "---  ------      --------------  -----         \n",
      " 0   ATP         18207 non-null  int64         \n",
      " 1   Location    18207 non-null  object        \n",
      " 2   Tournament  18207 non-null  object        \n",
      " 3   Date        18207 non-null  datetime64[ns]\n",
      " 4   Series      18207 non-null  object        \n",
      " 5   Court       18207 non-null  object        \n",
      " 6   Surface     18207 non-null  object        \n",
      " 7   Round       18207 non-null  object        \n",
      " 8   Best of     18207 non-null  int64         \n",
      " 9   Winner      18207 non-null  object        \n",
      " 10  Loser       18207 non-null  object        \n",
      " 11  WRank       18207 non-null  int64         \n",
      " 12  LRank       18207 non-null  int64         \n",
      " 13  Wsets       18207 non-null  float64       \n",
      " 14  Lsets       18207 non-null  float64       \n",
      " 15  Comment     18207 non-null  object        \n",
      " 16  PSW         18207 non-null  float64       \n",
      " 17  PSL         18207 non-null  float64       \n",
      " 18  B365W       18207 non-null  float64       \n",
      " 19  B365L       18207 non-null  float64       \n",
      " 20  elo_winner  18207 non-null  float64       \n",
      " 21  elo_loser   18207 non-null  float64       \n",
      " 22  proba_elo   18207 non-null  float64       \n",
      "dtypes: datetime64[ns](1), float64(9), int64(4), object(9)\n",
      "memory usage: 3.3+ MB\n",
      "None\n"
     ]
    }
   ],
   "source": [
    "print(df.shape)\n",
    "#18098 lignes: le dataset est sufisamment grand apr�s nettoyage\n",
    "print(df.info())"
   ]
  },
  {
   "cell_type": "markdown",
   "id": "d9f85291",
   "metadata": {},
   "source": [
    "## Le dataset est nettoy� ! On passe � l'exploration de nos donn�es"
   ]
  },
  {
   "cell_type": "code",
   "execution_count": 12,
   "id": "fd687f9c",
   "metadata": {},
   "outputs": [
    {
     "data": {
      "text/plain": [
       "2.0    14717\n",
       "3.0     3486\n",
       "0.0        2\n",
       "1.0        2\n",
       "Name: Wsets, dtype: int64"
      ]
     },
     "execution_count": 12,
     "metadata": {},
     "output_type": "execute_result"
    }
   ],
   "source": [
    "# Valeurs incoh�rentes\n",
    "df['Wsets'].value_counts() #\"On remarque qu'il y a 4 valeurs incoh�rentes dans le Wsets: 0 & 1  \")"
   ]
  },
  {
   "cell_type": "code",
   "execution_count": 13,
   "id": "332824dd",
   "metadata": {},
   "outputs": [
    {
     "name": "stdout",
     "output_type": "stream",
     "text": [
      "(4, 23)\n"
     ]
    },
    {
     "data": {
      "text/plain": [
       "2.0    14717\n",
       "3.0     3486\n",
       "Name: Wsets, dtype: int64"
      ]
     },
     "execution_count": 13,
     "metadata": {},
     "output_type": "execute_result"
    }
   ],
   "source": [
    "#un match gagn� doit avoir au minimum 2 sets gagnants (Wsets). On v�rifie qu'il n'y ait pas de valeurs aberrantes :\n",
    "print(df[df['Wsets']<2].shape)\n",
    "#4 matches aberrants � supprimer\n",
    "#On supprime :\n",
    "df=df[df['Wsets']>=2]\n"
   ]
  },
  {
   "cell_type": "code",
   "execution_count": 16,
   "id": "32c7c22c",
   "metadata": {},
   "outputs": [
    {
     "name": "stderr",
     "output_type": "stream",
     "text": [
      "C:\\Program Files\\Anaconda3\\lib\\site-packages\\seaborn\\_decorators.py:36: FutureWarning: Pass the following variable as a keyword arg: x. From version 0.12, the only valid positional argument will be `data`, and passing other arguments without an explicit keyword will result in an error or misinterpretation.\n",
      "  warnings.warn(\n"
     ]
    },
    {
     "data": {
      "text/plain": [
       "Text(0.5, 1.0, 'Diagrammme de Wsets des matchs ATP World Tour t�rmin�s')"
      ]
     },
     "execution_count": 16,
     "metadata": {},
     "output_type": "execute_result"
    },
    {
     "data": {
      "image/png": "[encoded data removed]",
      "text/plain": [
       "<Figure size 432x288 with 1 Axes>"
      ]
     },
     "metadata": {
      "needs_background": "light"
     },
     "output_type": "display_data"
    }
   ],
   "source": [
    "sns.countplot(df.Wsets);\n",
    "plt.title('Diagrammme de Wsets des matchs ATP World Tour t�rmin�s')"
   ]
  },
  {
   "cell_type": "code",
   "execution_count": 14,
   "id": "85cea997",
   "metadata": {},
   "outputs": [
    {
     "name": "stdout",
     "output_type": "stream",
     "text": [
      "Les tournois ATP250 repr�sentent la majorit� (43%) des matches, les Masters Cup sont les plus rares\n",
      "Les Masters Cup n'existent plus depuis 2009-2010 : remplac�s par un autre tournoi\n"
     ]
    },
    {
     "data": {
      "image/png": "[encoded data removed]",
      "text/plain": [
       "<Figure size 576x576 with 1 Axes>"
      ]
     },
     "metadata": {},
     "output_type": "display_data"
    }
   ],
   "source": [
    "#On regarde quels sont les tournois (Series) les plus jou�s \n",
    "plt.figure( figsize= (8, 8) );\n",
    "seriesdf=pd.DataFrame(df['Series'].value_counts())\n",
    "plt.pie (seriesdf['Series'],labels=seriesdf.index, autopct='%1.1f%%');\n",
    "plt.title('R�partition des matches selon les tournois');\n",
    "plt.legend();\n",
    "print('Les tournois ATP250 repr�sentent la majorit� (43%) des matches, les Masters Cup sont les plus rares')\n",
    "print('Les Masters Cup n\\'existent plus depuis 2009-2010 : remplac�s par un autre tournoi')\n"
   ]
  },
  {
   "cell_type": "code",
   "execution_count": 15,
   "id": "c400a1aa",
   "metadata": {},
   "outputs": [
    {
     "name": "stdout",
     "output_type": "stream",
     "text": [
      "on pourrait supprimer les matches de Masters Cup qui ne sont que tr�s peu nombreux et n'apporteront rien � l'apprentissage\n"
     ]
    },
    {
     "name": "stderr",
     "output_type": "stream",
     "text": [
      "C:\\Program Files\\Anaconda3\\lib\\site-packages\\seaborn\\_decorators.py:36: FutureWarning: Pass the following variable as a keyword arg: x. From version 0.12, the only valid positional argument will be `data`, and passing other arguments without an explicit keyword will result in an error or misinterpretation.\n",
      "  warnings.warn(\n"
     ]
    },
    {
     "data": {
      "text/plain": [
       "Text(0.5, 1.0, 'Nombre de matches sur chacun des tournois')"
      ]
     },
     "execution_count": 15,
     "metadata": {},
     "output_type": "execute_result"
    },
    {
     "data": {
      "image/png": "[encoded data removed]",
      "text/plain": [
       "<Figure size 432x288 with 1 Axes>"
      ]
     },
     "metadata": {
      "needs_background": "light"
     },
     "output_type": "display_data"
    }
   ],
   "source": [
    "print('on pourrait supprimer les matches de Masters Cup qui ne sont que tr�s peu nombreux et n\\'apporteront rien � l\\'apprentissage')\n",
    "df=df[df['Series']!='Masters Cup']\n",
    "sns.countplot(df.Series, hue=df.Surface);\n",
    "plt.title('Nombre de matches sur chacun des tournois')\n",
    "\n",
    "#On n'a d�sormais plus que 4 tournois �quilibr�s"
   ]
  },
  {
   "cell_type": "code",
   "execution_count": 16,
   "id": "d9fa0cae",
   "metadata": {},
   "outputs": [
    {
     "name": "stdout",
     "output_type": "stream",
     "text": [
      "Plus de la moitit� des matches sont sur terrain dur, la terre battue un tiers et l'herbe est assez rare\n"
     ]
    },
    {
     "data": {
      "image/png": "[encoded data removed]",
      "text/plain": [
       "<Figure size 576x576 with 1 Axes>"
      ]
     },
     "metadata": {},
     "output_type": "display_data"
    }
   ],
   "source": [
    "plt.figure( figsize= (8, 8) );\n",
    "terrainsdf=pd.DataFrame(df['Surface'].value_counts())\n",
    "plt.pie (terrainsdf['Surface'],labels=terrainsdf.index, autopct='%1.1f%%');\n",
    "plt.title('Surfaces les plus fr�quentes')\n",
    "plt.legend();\n",
    "print('Plus de la moitit� des matches sont sur terrain dur, la terre battue un tiers et l\\'herbe est assez rare')"
   ]
  },
  {
   "cell_type": "code",
   "execution_count": 18,
   "id": "a34b666d",
   "metadata": {},
   "outputs": [
    {
     "name": "stdout",
     "output_type": "stream",
     "text": [
      "Seuls les Matches du tournoi Grand Slam se jouent en 5 sets\n"
     ]
    },
    {
     "data": {
      "image/png": "[encoded data removed]",
      "text/plain": [
       "<Figure size 576x360 with 1 Axes>"
      ]
     },
     "metadata": {
      "needs_background": "light"
     },
     "output_type": "display_data"
    }
   ],
   "source": [
    "#Influence des tournois sur les matches\n",
    "plt.figure( figsize= (8, 5) );\n",
    "\n",
    "plt.bar(df['Series'],df['Best of']);\n",
    "plt.title('Nombre de sets maximum selon le tournoi');\n",
    "print('Seuls les Matches du tournoi Grand Slam se jouent en 5 sets')"
   ]
  },
  {
   "cell_type": "code",
   "execution_count": 19,
   "id": "52e24802",
   "metadata": {},
   "outputs": [
    {
     "name": "stdout",
     "output_type": "stream",
     "text": [
      "Nombre de sets jou�s en grand slam :  5    3479\n",
      "3       7\n",
      "Name: Best of, dtype: int64\n",
      "Nombre de sets gagnants en grand slam :  3.0    3486\n",
      "Name: Wsets, dtype: int64\n"
     ]
    }
   ],
   "source": [
    "# Grand Slam doit avoir 5 sets gagnants donc Best of = 5\n",
    "\n",
    "slam=df[(df['Wsets']==3.0) & (df['Series']=='Grand Slam')]\n",
    "print('Nombre de sets jou�s en grand slam : ',slam['Best of'].value_counts())\n",
    "#On trouve 7 lignes incoh�rentes Best of=3 au lieu de Best of=5 dans la Variable S�ries Grand Slam\n",
    "print('Nombre de sets gagnants en grand slam : ',slam['Wsets'].value_counts())\n",
    "#On a logiquement 3 sets gagnants soit la majorit� des 5 sets max jou�s.\n"
   ]
  },
  {
   "cell_type": "code",
   "execution_count": 20,
   "id": "994c222b",
   "metadata": {
    "scrolled": true
   },
   "outputs": [
    {
     "name": "stdout",
     "output_type": "stream",
     "text": [
      "Best of=3 :  ['ATP250' 'ATP500' 'Masters 1000']\n",
      "Best of=5 :  ['Grand Slam']\n",
      "\n",
      "  col_0       0      1\n",
      "Best of             \n",
      "3           0  14612\n",
      "5        3486      0\n",
      "\n",
      " La variable S�ries est maintenant corrig�e avec le Nombre maximum de sets en match correct\n"
     ]
    }
   ],
   "source": [
    "#On trouve donc 7 lignes incoh�rentes Best of=3 au lieu de Best of=5 dans la Variable S�ries Grand Slam\n",
    "\n",
    "df.loc[df['Series']=='Grand Slam', 'Best of']=5 # Une correction sur les 7 lignes incoh�rentes\n",
    "#V�rification de la variable Best of qui correspond aux S�ries ATP \n",
    "fd=df[df[\"Best of\"]==3]\n",
    "dd=df[df[\"Best of\"]==5]\n",
    "\n",
    "print(\"Best of=3 : \" ,fd[\"Series\"].unique())\n",
    "print(\"Best of=5 : \" ,dd[\"Series\"].unique())\n",
    "#On v�rifie que tous les Best Of 3 ont un Wsets 2 et Best of 5 ont un Wset 3 avec un crosstab :\n",
    "print('\\n ',pd.crosstab(df['Best of'], np.where(df['Wsets']==3,0,1)))\n",
    "\n",
    "print('\\n La variable S�ries est maintenant corrig�e avec le Nombre maximum de sets en match correct')\n"
   ]
  },
  {
   "cell_type": "code",
   "execution_count": 21,
   "id": "a4d12fbc",
   "metadata": {},
   "outputs": [
    {
     "data": {
      "text/plain": [
       "2.0    14612\n",
       "3.0     3486\n",
       "Name: Wsets, dtype: int64"
      ]
     },
     "execution_count": 21,
     "metadata": {},
     "output_type": "execute_result"
    },
    {
     "data": {
      "image/png": "[encoded data removed]",
      "text/plain": [
       "<Figure size 576x360 with 1 Axes>"
      ]
     },
     "metadata": {
      "needs_background": "light"
     },
     "output_type": "display_data"
    }
   ],
   "source": [
    "# Affichons un graphique nous permettant de v�rifier les Wsets des matchs t�rmin�s\n",
    "\n",
    "plt.figure( figsize= (8, 5) );\n",
    "plt.bar(df['Series'],df['Wsets']);\n",
    "plt.title('Sets gagnants des matchs ATP World Tour t�rmin�s');\n",
    "\n",
    "#Les chiffres sont bon !\n",
    "\n",
    "#Les matchs avec Wsets t�rmin�s(Completed)\n",
    "df['Wsets'].value_counts()"
   ]
  },
  {
   "cell_type": "code",
   "execution_count": 22,
   "id": "bb30e5de",
   "metadata": {},
   "outputs": [
    {
     "data": {
      "text/plain": [
       "(18098, 23)"
      ]
     },
     "execution_count": 22,
     "metadata": {},
     "output_type": "execute_result"
    }
   ],
   "source": [
    "# Nbre de ligne et de variable\n",
    "df.shape"
   ]
  },
  {
   "cell_type": "code",
   "execution_count": 24,
   "id": "a1e966b5",
   "metadata": {},
   "outputs": [
    {
     "name": "stdout",
     "output_type": "stream",
     "text": [
      "<class 'pandas.core.frame.DataFrame'>\n",
      "Int64Index: 18098 entries, 25617 to 44707\n",
      "Data columns (total 23 columns):\n",
      " #   Column      Non-Null Count  Dtype         \n",
      "---  ------      --------------  -----         \n",
      " 0   ATP         18098 non-null  int64         \n",
      " 1   Location    18098 non-null  object        \n",
      " 2   Tournament  18098 non-null  object        \n",
      " 3   Date        18098 non-null  datetime64[ns]\n",
      " 4   Series      18098 non-null  object        \n",
      " 5   Court       18098 non-null  object        \n",
      " 6   Surface     18098 non-null  object        \n",
      " 7   Round       18098 non-null  object        \n",
      " 8   Best of     18098 non-null  int64         \n",
      " 9   Winner      18098 non-null  object        \n",
      " 10  Loser       18098 non-null  object        \n",
      " 11  WRank       18098 non-null  int64         \n",
      " 12  LRank       18098 non-null  int64         \n",
      " 13  Wsets       18098 non-null  float64       \n",
      " 14  Lsets       18098 non-null  float64       \n",
      " 15  Comment     18098 non-null  object        \n",
      " 16  PSW         18098 non-null  float64       \n",
      " 17  PSL         18098 non-null  float64       \n",
      " 18  B365W       18098 non-null  float64       \n",
      " 19  B365L       18098 non-null  float64       \n",
      " 20  elo_winner  18098 non-null  float64       \n",
      " 21  elo_loser   18098 non-null  float64       \n",
      " 22  proba_elo   18098 non-null  float64       \n",
      "dtypes: datetime64[ns](1), float64(9), int64(4), object(9)\n",
      "memory usage: 3.8+ MB\n"
     ]
    }
   ],
   "source": [
    "#informations sur les variables : \n",
    "df.info()"
   ]
  },
  {
   "cell_type": "markdown",
   "id": "70b01d00",
   "metadata": {},
   "source": [
    "## Comparaison des bookmakers: qui a les meilleures cotes ?"
   ]
  },
  {
   "cell_type": "code",
   "execution_count": 25,
   "id": "ca2c8a51",
   "metadata": {
    "scrolled": false
   },
   "outputs": [
    {
     "data": {
      "text/html": [
       "<div>\n",
       "<style scoped>\n",
       "    .dataframe tbody tr th:only-of-type {\n",
       "        vertical-align: middle;\n",
       "    }\n",
       "\n",
       "    .dataframe tbody tr th {\n",
       "        vertical-align: top;\n",
       "    }\n",
       "\n",
       "    .dataframe thead th {\n",
       "        text-align: right;\n",
       "    }\n",
       "</style>\n",
       "<table border=\"1\" class=\"dataframe\">\n",
       "  <thead>\n",
       "    <tr style=\"text-align: right;\">\n",
       "      <th></th>\n",
       "      <th>ATP</th>\n",
       "      <th>Location</th>\n",
       "      <th>Tournament</th>\n",
       "      <th>Date</th>\n",
       "      <th>Series</th>\n",
       "      <th>Court</th>\n",
       "      <th>Surface</th>\n",
       "      <th>Round</th>\n",
       "      <th>Best of</th>\n",
       "      <th>Winner</th>\n",
       "      <th>Loser</th>\n",
       "      <th>WRank</th>\n",
       "      <th>LRank</th>\n",
       "      <th>Wsets</th>\n",
       "      <th>Lsets</th>\n",
       "      <th>Comment</th>\n",
       "      <th>PSW</th>\n",
       "      <th>PSL</th>\n",
       "      <th>B365W</th>\n",
       "      <th>B365L</th>\n",
       "      <th>elo_winner</th>\n",
       "      <th>elo_loser</th>\n",
       "      <th>proba_elo</th>\n",
       "    </tr>\n",
       "  </thead>\n",
       "  <tbody>\n",
       "    <tr>\n",
       "      <th>31959</th>\n",
       "      <td>24</td>\n",
       "      <td>Barcelona</td>\n",
       "      <td>Open Banco Sabadell</td>\n",
       "      <td>2012-04-26</td>\n",
       "      <td>ATP500</td>\n",
       "      <td>Outdoor</td>\n",
       "      <td>Clay</td>\n",
       "      <td>3rd Round</td>\n",
       "      <td>3</td>\n",
       "      <td>Nadal R.</td>\n",
       "      <td>Farah R.</td>\n",
       "      <td>2</td>\n",
       "      <td>246</td>\n",
       "      <td>2.0</td>\n",
       "      <td>0.0</td>\n",
       "      <td>Completed</td>\n",
       "      <td>1.00</td>\n",
       "      <td>121.0</td>\n",
       "      <td>1.000</td>\n",
       "      <td>41.0</td>\n",
       "      <td>2156.184410</td>\n",
       "      <td>1494.225148</td>\n",
       "      <td>0.978343</td>\n",
       "    </tr>\n",
       "    <tr>\n",
       "      <th>33075</th>\n",
       "      <td>51</td>\n",
       "      <td>New York</td>\n",
       "      <td>US Open</td>\n",
       "      <td>2012-08-29</td>\n",
       "      <td>Grand Slam</td>\n",
       "      <td>Outdoor</td>\n",
       "      <td>Hard</td>\n",
       "      <td>1st Round</td>\n",
       "      <td>5</td>\n",
       "      <td>Djokovic N.</td>\n",
       "      <td>Lorenzi P.</td>\n",
       "      <td>2</td>\n",
       "      <td>69</td>\n",
       "      <td>3.0</td>\n",
       "      <td>0.0</td>\n",
       "      <td>Completed</td>\n",
       "      <td>1.00</td>\n",
       "      <td>91.0</td>\n",
       "      <td>1.002</td>\n",
       "      <td>34.0</td>\n",
       "      <td>2225.065156</td>\n",
       "      <td>1449.779411</td>\n",
       "      <td>0.988603</td>\n",
       "    </tr>\n",
       "    <tr>\n",
       "      <th>30469</th>\n",
       "      <td>50</td>\n",
       "      <td>New York</td>\n",
       "      <td>US Open</td>\n",
       "      <td>2011-09-02</td>\n",
       "      <td>Grand Slam</td>\n",
       "      <td>Outdoor</td>\n",
       "      <td>Hard</td>\n",
       "      <td>2nd Round</td>\n",
       "      <td>5</td>\n",
       "      <td>Djokovic N.</td>\n",
       "      <td>Berlocq C.</td>\n",
       "      <td>1</td>\n",
       "      <td>74</td>\n",
       "      <td>3.0</td>\n",
       "      <td>0.0</td>\n",
       "      <td>Completed</td>\n",
       "      <td>1.01</td>\n",
       "      <td>86.0</td>\n",
       "      <td>1.002</td>\n",
       "      <td>34.0</td>\n",
       "      <td>2274.118741</td>\n",
       "      <td>1569.806286</td>\n",
       "      <td>0.982949</td>\n",
       "    </tr>\n",
       "    <tr>\n",
       "      <th>34888</th>\n",
       "      <td>32</td>\n",
       "      <td>Paris</td>\n",
       "      <td>French Open</td>\n",
       "      <td>2013-05-27</td>\n",
       "      <td>Grand Slam</td>\n",
       "      <td>Outdoor</td>\n",
       "      <td>Clay</td>\n",
       "      <td>1st Round</td>\n",
       "      <td>5</td>\n",
       "      <td>Nadal R.</td>\n",
       "      <td>Brands D.</td>\n",
       "      <td>4</td>\n",
       "      <td>59</td>\n",
       "      <td>3.0</td>\n",
       "      <td>1.0</td>\n",
       "      <td>Completed</td>\n",
       "      <td>1.01</td>\n",
       "      <td>81.0</td>\n",
       "      <td>1.002</td>\n",
       "      <td>29.0</td>\n",
       "      <td>2274.000400</td>\n",
       "      <td>1647.483063</td>\n",
       "      <td>0.973571</td>\n",
       "    </tr>\n",
       "    <tr>\n",
       "      <th>33110</th>\n",
       "      <td>51</td>\n",
       "      <td>New York</td>\n",
       "      <td>US Open</td>\n",
       "      <td>2012-08-31</td>\n",
       "      <td>Grand Slam</td>\n",
       "      <td>Outdoor</td>\n",
       "      <td>Hard</td>\n",
       "      <td>2nd Round</td>\n",
       "      <td>5</td>\n",
       "      <td>Federer R.</td>\n",
       "      <td>Phau B.</td>\n",
       "      <td>1</td>\n",
       "      <td>83</td>\n",
       "      <td>3.0</td>\n",
       "      <td>0.0</td>\n",
       "      <td>Completed</td>\n",
       "      <td>1.00</td>\n",
       "      <td>81.0</td>\n",
       "      <td>1.002</td>\n",
       "      <td>34.0</td>\n",
       "      <td>2261.534316</td>\n",
       "      <td>1515.345125</td>\n",
       "      <td>0.986552</td>\n",
       "    </tr>\n",
       "  </tbody>\n",
       "</table>\n",
       "</div>"
      ],
      "text/plain": [
       "       ATP   Location           Tournament       Date      Series    Court  \\\n",
       "31959   24  Barcelona  Open Banco Sabadell 2012-04-26      ATP500  Outdoor   \n",
       "33075   51   New York              US Open 2012-08-29  Grand Slam  Outdoor   \n",
       "30469   50   New York              US Open 2011-09-02  Grand Slam  Outdoor   \n",
       "34888   32      Paris          French Open 2013-05-27  Grand Slam  Outdoor   \n",
       "33110   51   New York              US Open 2012-08-31  Grand Slam  Outdoor   \n",
       "\n",
       "      Surface      Round  Best of       Winner       Loser  WRank  LRank  \\\n",
       "31959    Clay  3rd Round        3     Nadal R.    Farah R.      2    246   \n",
       "33075    Hard  1st Round        5  Djokovic N.  Lorenzi P.      2     69   \n",
       "30469    Hard  2nd Round        5  Djokovic N.  Berlocq C.      1     74   \n",
       "34888    Clay  1st Round        5     Nadal R.   Brands D.      4     59   \n",
       "33110    Hard  2nd Round        5   Federer R.     Phau B.      1     83   \n",
       "\n",
       "       Wsets  Lsets    Comment   PSW    PSL  B365W  B365L   elo_winner  \\\n",
       "31959    2.0    0.0  Completed  1.00  121.0  1.000   41.0  2156.184410   \n",
       "33075    3.0    0.0  Completed  1.00   91.0  1.002   34.0  2225.065156   \n",
       "30469    3.0    0.0  Completed  1.01   86.0  1.002   34.0  2274.118741   \n",
       "34888    3.0    1.0  Completed  1.01   81.0  1.002   29.0  2274.000400   \n",
       "33110    3.0    0.0  Completed  1.00   81.0  1.002   34.0  2261.534316   \n",
       "\n",
       "         elo_loser  proba_elo  \n",
       "31959  1494.225148   0.978343  \n",
       "33075  1449.779411   0.988603  \n",
       "30469  1569.806286   0.982949  \n",
       "34888  1647.483063   0.973571  \n",
       "33110  1515.345125   0.986552  "
      ]
     },
     "execution_count": 25,
     "metadata": {},
     "output_type": "execute_result"
    }
   ],
   "source": [
    "dfext=df.copy().sort_values(by=['PSL'], ascending=False)\n",
    "dfext.head()\n",
    " #Certains matches ont une cote extr�me : Match 31959, Nadal contre le 246eme, PSL = 121 ! 0,8% de chances de d�faite"
   ]
  },
  {
   "cell_type": "code",
   "execution_count": 26,
   "id": "bf4df2eb",
   "metadata": {
    "scrolled": true
   },
   "outputs": [
    {
     "name": "stdout",
     "output_type": "stream",
     "text": [
      "La probabilit� de victoire selon un bookmaker peut �tre calcul�e par l inverse de la c�te : ex PSW et B365W du match 44527 de federer :\n",
      "c�te PSW : 1.29 / c�te B365W: 1.25\n",
      "cela donne une proba victoire selon Pinnacle : 0.7751937984496123 proba selon B365 : 0.8\n",
      "Proba de victoire + proba de d�faite doit �tre �gal de 1 : la diff�rence est la proba que le bookmaker encaisse\n"
     ]
    }
   ],
   "source": [
    "print('La probabilit� de victoire selon un bookmaker peut �tre calcul�e par l inverse de la c�te : ex PSW et B365W du match 44527 de federer :')\n",
    "print ('c�te PSW : 1.29 / c�te B365W: 1.25')\n",
    "print('cela donne une proba victoire selon Pinnacle :',1/1.29,'proba selon B365 :',1/1.25)\n",
    "print('Proba de victoire + proba de d�faite doit �tre �gal de 1 : la diff�rence est la proba que le bookmaker encaisse')"
   ]
  },
  {
   "cell_type": "code",
   "execution_count": 27,
   "id": "aa9d0a32",
   "metadata": {
    "scrolled": false
   },
   "outputs": [
    {
     "name": "stdout",
     "output_type": "stream",
     "text": [
      "R�partition des cotes selont les surfaces et les s�ries, sur les 4 cotes : victoires ou d�faites des 2 bookmakers\n"
     ]
    },
    {
     "data": {
      "image/png": "[encoded data removed]",
      "text/plain": [
       "<Figure size 1080x720 with 4 Axes>"
      ]
     },
     "metadata": {
      "needs_background": "light"
     },
     "output_type": "display_data"
    }
   ],
   "source": [
    "#y a-t-il des valeurs extremes ou aberrantes dans les cotes ?\n",
    "\n",
    "f = plt.figure(figsize=(15, 10))\n",
    "\n",
    "gs = f.add_gridspec(2, 2)\n",
    "print('R�partition des cotes selont les surfaces et les s�ries, sur les 4 cotes : victoires ou d�faites des 2 bookmakers')\n",
    "\n",
    "with sns.axes_style(\"white\"):\n",
    "    ax = f.add_subplot(gs[0, 0])\n",
    "    sns.boxplot(x=df['Series'], y=1/df['B365W']);\n",
    "    plt.title(\"1.Cote B365W avec les Variables Series\")\n",
    "\n",
    "\n",
    "with sns.axes_style(\"darkgrid\"):\n",
    "    ax = f.add_subplot(gs[0, 1])\n",
    "    sns.boxplot(x=df['Series'], y=1/df['PSW']);\n",
    "    plt.title(\"2.Cote PSW avec les Variables Series\")\n",
    "f.tight_layout()\n",
    "\n",
    "\n",
    "with sns.axes_style(\"darkgrid\"):\n",
    "    ax = f.add_subplot(gs[1, 0])\n",
    "    sns.boxplot(x=df['Series'], y=1/df['B365L']);\n",
    "    plt.title(\"3.Cote B365L avec les Variables Series\")\n",
    "f.tight_layout()\n",
    "\n",
    "with sns.axes_style(\"white\"):\n",
    "    ax = f.add_subplot(gs[1, 1])\n",
    "    sns.boxplot(x=df['Series'], y=1/df['PSL']);\n",
    "    plt.title(\"4.Cote PSL avec les Variables Series\")    \n",
    "f.tight_layout()\n",
    "\n",
    "\n",
    "#sns.set(rc={'figure.figsize':(15,10)})\n",
    "#sns.boxplot(x='Series', y='B365W', hue='Surface', data=df);\n",
    "#sns.boxplot(x='Series', y='PSW', hue='Surface', data=df);\n",
    "\n",
    "#Quel que soit le bookmaker, le c�tes montrent beaucoup de valeurs extr�mes notamment sur le Grand Slam"
   ]
  },
  {
   "cell_type": "code",
   "execution_count": 31,
   "id": "9127cc72",
   "metadata": {
    "scrolled": true
   },
   "outputs": [
    {
     "name": "stdout",
     "output_type": "stream",
     "text": [
      "moyenne des cotes PinnaCle Sports :  1.0239998888625428\n",
      "moyenne des cotes B365 Sports :  1.067151385052018\n",
      "Les cotes Pinnacle sont plus favorables aux parieurs que celles de B365 \n",
      "\n",
      "Voyons si c est r�gulier au fil des matches :\n",
      "ecart type des cotes Pinnacle :  0.005451081110887228\n",
      "ecart type des cotes B365 :  0.012448976745446615\n",
      "Pinnacle est tr�s r�gulier dans ses cotes, B365 les change plus souvent selon les matches \n",
      "\n",
      "Synth�se : Sur les deux cotes(PS & B365), il y a plus de valeurs ab�rantes sur\n",
      "            la cote B365, ce qui veut dire que la cote PS est plus fiable et que\n",
      "            les cotes Pinnacles Sports sont plus utilis�es par les bookmakers \n",
      "\n",
      "Conclusion: \n",
      "\n",
      "Notre variable cible est definie par la fiabilit� de la Cote et PS est la cote \n",
      "la plus proche dans ce cas et la probabilit� de la cote PSW (cote Pinnacle Sportif du \n",
      "vainqueur du match (1/PSW)) sera notre variable cible pour d�finir un r�sultat gagnant \n",
      "d'un matche entre le joeur A et le joueur B\n"
     ]
    }
   ],
   "source": [
    "cotes=['PSL'],['PSW'],['B365W'],['B365L']\n",
    "dfcotes=pd.DataFrame(df.loc[:,(df.columns==cotes)])\n",
    "dfcotes['PSW']=df['PSW']\n",
    "dfcotes['PSL']=df['PSL']\n",
    "dfcotes['B365W']=df['B365W']\n",
    "dfcotes['B365L']=df['B365L']\n",
    "\n",
    "dfcotes['cotesPS']=1/df['PSW']+1/df['PSL']\n",
    "dfcotes['cotesB365']=1/df['B365W']+1/df['B365L']\n",
    "print('moyenne des cotes PinnaCle Sports : ',dfcotes['cotesPS'].mean())\n",
    "print('moyenne des cotes B365 Sports : ',dfcotes['cotesB365'].mean())\n",
    "print('Les cotes Pinnacle sont plus favorables aux parieurs que celles de B365',\"\\n\")\n",
    "\n",
    "print('Voyons si c est r�gulier au fil des matches :')\n",
    "print('ecart type des cotes Pinnacle : ',dfcotes['cotesPS'].std())\n",
    "print('ecart type des cotes B365 : ',dfcotes['cotesB365'].std())\n",
    "print('Pinnacle est tr�s r�gulier dans ses cotes, B365 les change plus souvent selon les matches',\"\\n\")\n",
    "\n",
    "print('Synth�se : Sur les deux cotes(PS & B365), il y a plus de valeurs ab�rantes sur')\n",
    "print('            la cote B365, ce qui veut dire que la cote PS est plus fiable et que')\n",
    "print('            les cotes Pinnacles Sports sont plus utilis�es par les bookmakers \\n')\n",
    "\n",
    "\n",
    "print('Conclusion: \\n')\n",
    "print(\"Notre variable cible est definie par la fiabilit� de la Cote et PS est la cote \")\n",
    "print(\"la plus proche dans ce cas et la probabilit� de la cote PSW (cote Pinnacle Sportif du \")\n",
    "print(\"vainqueur du match (1/PSW)) sera notre variable cible pour d�finir un r�sultat gagnant \")\n",
    "print(\"d'un matche entre le joeur A et le joueur B\")"
   ]
  },
  {
   "cell_type": "code",
   "execution_count": 32,
   "id": "71f334d9",
   "metadata": {},
   "outputs": [],
   "source": [
    "\n",
    "#faire uen colonne (psw - PSL)\n",
    "#on aura des valeurs n�gatives normalement\n",
    "#V�rifier combien sont positives\n",
    "#Du coup ca v�rifie si le PSW c est li� au winner ou si c'est vraiment la cote de d�part\n",
    "\n",
    "#Comparer ensuite la proba de chacun au Winner r��l\n"
   ]
  },
  {
   "cell_type": "code",
   "execution_count": 33,
   "id": "c83599c4",
   "metadata": {},
   "outputs": [],
   "source": [
    "#Faire aussi une visualisation sur le Winner avec un countplot et hue = surface ?"
   ]
  },
  {
   "cell_type": "code",
   "execution_count": 34,
   "id": "8293d2cb",
   "metadata": {},
   "outputs": [
    {
     "data": {
      "image/png": "[encoded data removed]",
      "text/plain": [
       "<Figure size 576x360 with 1 Axes>"
      ]
     },
     "metadata": {
      "needs_background": "light"
     },
     "output_type": "display_data"
    }
   ],
   "source": [
    "#Voyons l'�volution de la cote dans le temps\n",
    "dfcotes['Date']=df['Date'].dt.year\n",
    "\n",
    "cotesparM = dfcotes.groupby(['Date'], as_index = False).agg({'cotesPS':'mean','cotesB365':'mean'})\n",
    "cotesparM.head(10)\n",
    "\n",
    "dfcotes['Date']=df['Date'].dt.year\n",
    "#Voyons l'�volution de la cote dans le temps selon les cotes et gains possibles par bookmakers\n",
    "\n",
    "plt.figure( figsize= (8, 5) );\n",
    "plt.plot(cotesparM['Date'],cotesparM['cotesPS'],label='Cotes Pinnacle')\n",
    "plt.plot(cotesparM['Date'],cotesparM['cotesB365'],label='Cotes B365')\n",
    "plt.title('Evolution de la qualit� des probabilit�s des 2 bookmakers')\n",
    "plt.legend();\n",
    "#Les c�tes B365 s'am�liorent l�g�rement depuis 2017 et celles de Pinnacle sont assez stables\n",
    "#Pinnacle reste bien plus proche de l'objectif (1)"
   ]
  },
  {
   "cell_type": "code",
   "execution_count": 35,
   "id": "b21cd3e8",
   "metadata": {},
   "outputs": [
    {
     "data": {
      "image/png": "[encoded data removed]",
      "text/plain": [
       "<Figure size 576x720 with 1 Axes>"
      ]
     },
     "metadata": {
      "needs_background": "light"
     },
     "output_type": "display_data"
    }
   ],
   "source": [
    "#Voyons l'�volution des probabilit�s victoire / d�faite selon les 2 bookmakers\n",
    "dfcotes['Date']=df['Date'].dt.year\n",
    "\n",
    "plt.figure( figsize= (8, 10) );\n",
    "cotesparM2 = dfcotes.groupby(['Date'], as_index = False).agg({'B365W':'mean','B365L':'mean','PSL':'mean','PSW':'mean'})\n",
    "cotesparM2.head(10)\n",
    "plt.plot(cotesparM2['Date'],(1/cotesparM2['PSL']),label='Cotes Pinnacle Lose', color=\"red\")\n",
    "plt.plot(cotesparM2['Date'],(1/cotesparM2['B365L']),label='Cotes B365 Lose', color=\"yellow\")\n",
    "plt.plot(cotesparM2['Date'],(1/cotesparM2['PSW']),label='Cotes Pinnacle Win', color=\"blue\")\n",
    "plt.plot(cotesparM2['Date'],(1/cotesparM2['B365W']),label='Cotes B365 Win', color=\"green\")\n",
    "plt.title('�volution des probabilit�s de victoire & d�faite')\n",
    "plt.legend();\n",
    "#Les bookmakers �voluent parall�lement\n",
    "#Depuis 2012 les probabilit�s de d�faites pr�dites sont plus fortes"
   ]
  },
  {
   "cell_type": "code",
   "execution_count": 36,
   "id": "1b340c64",
   "metadata": {},
   "outputs": [
    {
     "data": {
      "image/png": "[encoded data removed]",
      "text/plain": [
       "<Figure size 864x576 with 2 Axes>"
      ]
     },
     "metadata": {
      "needs_background": "light"
     },
     "output_type": "display_data"
    }
   ],
   "source": [
    "#Voyons l'�volution de la cote dans le temps selon les gains possibles\n",
    "\n",
    "# create figure and axis objects with subplots()\n",
    "fig,ax = plt.subplots();\n",
    "fig.set_figheight(8)\n",
    "fig.set_figwidth(12)\n",
    "# make a plot\n",
    "ax.plot(cotesparM2['Date'],cotesparM2['PSL'],label='Cotes Pinnacle Lose', color=\"red\", marker=\"o\");\n",
    "ax.plot(cotesparM2['Date'],cotesparM2['B365L'],label='Cotes B365 Lose', color=\"yellow\", marker=\"o\");\n",
    "plt.legend(loc='upper left')\n",
    "\n",
    "# set x-axis label\n",
    "ax.set_xlabel(\"ann�e\");\n",
    "# set y-axis label\n",
    "ax.set_ylabel(\"cote d�faite\",color=\"black\");\n",
    "\n",
    "# twin object for two different y-axis on the sample plot\n",
    "ax2=ax.twinx()\n",
    "# make a plot with different y-axis using second axis object\n",
    "ax2.plot(cotesparM2['Date'],cotesparM2['PSW'],label='Cotes Pinnacle Win', color=\"blue\",marker=\"x\");\n",
    "ax2.plot(cotesparM2['Date'],cotesparM2['B365W'],label='Cotes B365 Win', color=\"green\",marker=\"x\");\n",
    "ax2.set_ylabel(\"cotes victoire\",color=\"black\");\n",
    "plt.title('Evolution des c�tes de victoire et d�faite ann�e par ann�e');\n",
    "plt.legend(loc='upper right')\n",
    "plt.show();\n",
    "#Les c�tes de d�faite des 2 bookmakers sont en baisse : il ya moins � grosses cotes de d�faites. \n",
    "#Sont-ils plus s�rs de leur algo ? En tout cas on gagne moins qu'en 2012 � parier \"contre\"\n",
    "#Pinnacle reste bien plus proche de l'objectif (1)"
   ]
  },
  {
   "cell_type": "code",
   "execution_count": 37,
   "id": "e4844727",
   "metadata": {
    "scrolled": false
   },
   "outputs": [
    {
     "data": {
      "image/png": "[encoded data removed]",
      "text/plain": [
       "<Figure size 864x720 with 2 Axes>"
      ]
     },
     "metadata": {
      "needs_background": "light"
     },
     "output_type": "display_data"
    }
   ],
   "source": [
    "plt.subplots(figsize = (12,10))\n",
    "sns.heatmap(df.corr(), cmap='RdBu_r', annot=True, center = 0, );"
   ]
  },
  {
   "cell_type": "code",
   "execution_count": 38,
   "id": "ff12539f",
   "metadata": {},
   "outputs": [
    {
     "name": "stdout",
     "output_type": "stream",
     "text": [
      "la pr�diction Bet365 est proche de celle de Pinnacle Sports (PSW/B365W et PSL/B365L). Par contre c est assez �loign� de la proba donn�e par le elo.\n"
     ]
    }
   ],
   "source": [
    "print('la pr�diction Bet365 est proche de celle de Pinnacle Sports (PSW/B365W et PSL/B365L). Par contre c est assez �loign� de la proba donn�e par le elo.')"
   ]
  },
  {
   "cell_type": "markdown",
   "id": "e1d45ebc",
   "metadata": {},
   "source": [
    "#Comparer Winner et Elo_Winner : id�e = % de match gagn�s par joueur compar� � leur Elo\n"
   ]
  },
  {
   "cell_type": "code",
   "execution_count": 39,
   "id": "4459112b",
   "metadata": {},
   "outputs": [
    {
     "data": {
      "image/png": "[encoded data removed]",
      "text/plain": [
       "<Figure size 360x360 with 1 Axes>"
      ]
     },
     "metadata": {
      "needs_background": "light"
     },
     "output_type": "display_data"
    },
    {
     "data": {
      "image/png": "[encoded data removed]",
      "text/plain": [
       "<Figure size 360x360 with 1 Axes>"
      ]
     },
     "metadata": {
      "needs_background": "light"
     },
     "output_type": "display_data"
    }
   ],
   "source": [
    "sns.displot(df[\"elo_winner\"], bins=10, kde=True, color='red');\n",
    "plt.title(\"Analyse de la variable elo_winner\")\n",
    "plt.legend([\"densit�\",\"elo_winner\"])\n",
    "\n",
    "\n",
    "sns.displot(df[\"elo_loser\"], bins=10, kde=True, color='blue');\n",
    "plt.title(\"Analyse de la variable elo_loser\")\n",
    "plt.legend([\"densit�\",\"elo_loser\"]);\n",
    "\n",
    "#La densit� de elo > 2000 plonge chez les 'losers' : � partir de ce seuil lse joueurs ne perdent presque plus jamais\n"
   ]
  },
  {
   "cell_type": "code",
   "execution_count": 40,
   "id": "609c1848",
   "metadata": {},
   "outputs": [
    {
     "data": {
      "image/png": "[encoded data removed]",
      "text/plain": [
       "<Figure size 432x288 with 1 Axes>"
      ]
     },
     "metadata": {
      "needs_background": "light"
     },
     "output_type": "display_data"
    }
   ],
   "source": [
    "sns.kdeplot(df.elo_winner, shade=True, cut=0)\n",
    "sns.kdeplot(df.elo_loser, shade=True, cut=0)\n",
    "plt.title(\"Analyse de la densit� entre elo_winner & elo_loser\")\n",
    "plt.legend([\"elo_winner\",\"elo_loser\"]);\n",
    "#Les joueurs \"moyens\" ayant un elo entre 1500 et 1700 sont tr�s nombreux, et une faible proportion de joueurs elo > 2000 survole les comp�titions"
   ]
  },
  {
   "cell_type": "code",
   "execution_count": 34,
   "id": "26137e57",
   "metadata": {},
   "outputs": [],
   "source": [
    "#Faire les quantiles des probabilit�s : les matches �quilibr�s 25 - 75%, les matches �quilibr�s 50%-50%... Les mettre dans 4 classes"
   ]
  },
  {
   "cell_type": "code",
   "execution_count": 41,
   "id": "b5384e9a",
   "metadata": {},
   "outputs": [
    {
     "data": {
      "text/html": [
       "<div>\n",
       "<style scoped>\n",
       "    .dataframe tbody tr th:only-of-type {\n",
       "        vertical-align: middle;\n",
       "    }\n",
       "\n",
       "    .dataframe tbody tr th {\n",
       "        vertical-align: top;\n",
       "    }\n",
       "\n",
       "    .dataframe thead th {\n",
       "        text-align: right;\n",
       "    }\n",
       "</style>\n",
       "<table border=\"1\" class=\"dataframe\">\n",
       "  <thead>\n",
       "    <tr style=\"text-align: right;\">\n",
       "      <th></th>\n",
       "      <th>ATP</th>\n",
       "      <th>Location</th>\n",
       "      <th>Tournament</th>\n",
       "      <th>Date</th>\n",
       "      <th>Series</th>\n",
       "      <th>Court</th>\n",
       "      <th>Surface</th>\n",
       "      <th>Round</th>\n",
       "      <th>Best of</th>\n",
       "      <th>Winner</th>\n",
       "      <th>Loser</th>\n",
       "      <th>WRank</th>\n",
       "      <th>LRank</th>\n",
       "      <th>Wsets</th>\n",
       "      <th>Lsets</th>\n",
       "      <th>Comment</th>\n",
       "      <th>PSW</th>\n",
       "      <th>PSL</th>\n",
       "      <th>B365W</th>\n",
       "      <th>B365L</th>\n",
       "      <th>elo_winner</th>\n",
       "      <th>elo_loser</th>\n",
       "      <th>proba_elo</th>\n",
       "    </tr>\n",
       "  </thead>\n",
       "  <tbody>\n",
       "    <tr>\n",
       "      <th>0</th>\n",
       "      <td>3</td>\n",
       "      <td>Doha</td>\n",
       "      <td>Qatar Exxon Mobil Open</td>\n",
       "      <td>2010-01-04</td>\n",
       "      <td>ATP250</td>\n",
       "      <td>Outdoor</td>\n",
       "      <td>Hard</td>\n",
       "      <td>1st Round</td>\n",
       "      <td>3</td>\n",
       "      <td>Karlovic I.</td>\n",
       "      <td>Fognini F.</td>\n",
       "      <td>37</td>\n",
       "      <td>54</td>\n",
       "      <td>2.0</td>\n",
       "      <td>0.0</td>\n",
       "      <td>Completed</td>\n",
       "      <td>1.376</td>\n",
       "      <td>3.410</td>\n",
       "      <td>1.36</td>\n",
       "      <td>3.00</td>\n",
       "      <td>1700.586950</td>\n",
       "      <td>1564.557532</td>\n",
       "      <td>0.686337</td>\n",
       "    </tr>\n",
       "    <tr>\n",
       "      <th>1</th>\n",
       "      <td>1</td>\n",
       "      <td>Brisbane</td>\n",
       "      <td>Brisbane International</td>\n",
       "      <td>2010-01-04</td>\n",
       "      <td>ATP250</td>\n",
       "      <td>Outdoor</td>\n",
       "      <td>Hard</td>\n",
       "      <td>1st Round</td>\n",
       "      <td>3</td>\n",
       "      <td>Falla A.</td>\n",
       "      <td>Chardy J.</td>\n",
       "      <td>81</td>\n",
       "      <td>32</td>\n",
       "      <td>2.0</td>\n",
       "      <td>0.0</td>\n",
       "      <td>Completed</td>\n",
       "      <td>2.580</td>\n",
       "      <td>1.581</td>\n",
       "      <td>2.62</td>\n",
       "      <td>1.44</td>\n",
       "      <td>1494.870839</td>\n",
       "      <td>1676.396972</td>\n",
       "      <td>0.260196</td>\n",
       "    </tr>\n",
       "    <tr>\n",
       "      <th>2</th>\n",
       "      <td>1</td>\n",
       "      <td>Brisbane</td>\n",
       "      <td>Brisbane International</td>\n",
       "      <td>2010-01-04</td>\n",
       "      <td>ATP250</td>\n",
       "      <td>Outdoor</td>\n",
       "      <td>Hard</td>\n",
       "      <td>1st Round</td>\n",
       "      <td>3</td>\n",
       "      <td>Levy H.</td>\n",
       "      <td>Llodra M.</td>\n",
       "      <td>119</td>\n",
       "      <td>67</td>\n",
       "      <td>2.0</td>\n",
       "      <td>0.0</td>\n",
       "      <td>Completed</td>\n",
       "      <td>2.170</td>\n",
       "      <td>1.787</td>\n",
       "      <td>3.00</td>\n",
       "      <td>1.36</td>\n",
       "      <td>1325.868154</td>\n",
       "      <td>1663.757847</td>\n",
       "      <td>0.125094</td>\n",
       "    </tr>\n",
       "    <tr>\n",
       "      <th>3</th>\n",
       "      <td>1</td>\n",
       "      <td>Brisbane</td>\n",
       "      <td>Brisbane International</td>\n",
       "      <td>2010-01-04</td>\n",
       "      <td>ATP250</td>\n",
       "      <td>Outdoor</td>\n",
       "      <td>Hard</td>\n",
       "      <td>1st Round</td>\n",
       "      <td>3</td>\n",
       "      <td>Stepanek R.</td>\n",
       "      <td>Millman J.</td>\n",
       "      <td>12</td>\n",
       "      <td>306</td>\n",
       "      <td>2.0</td>\n",
       "      <td>0.0</td>\n",
       "      <td>Completed</td>\n",
       "      <td>1.087</td>\n",
       "      <td>9.950</td>\n",
       "      <td>1.04</td>\n",
       "      <td>10.00</td>\n",
       "      <td>1872.712058</td>\n",
       "      <td>1500.000000</td>\n",
       "      <td>0.895248</td>\n",
       "    </tr>\n",
       "    <tr>\n",
       "      <th>4</th>\n",
       "      <td>1</td>\n",
       "      <td>Brisbane</td>\n",
       "      <td>Brisbane International</td>\n",
       "      <td>2010-01-04</td>\n",
       "      <td>ATP250</td>\n",
       "      <td>Outdoor</td>\n",
       "      <td>Hard</td>\n",
       "      <td>1st Round</td>\n",
       "      <td>3</td>\n",
       "      <td>Roddick A.</td>\n",
       "      <td>Luczak P.</td>\n",
       "      <td>7</td>\n",
       "      <td>77</td>\n",
       "      <td>2.0</td>\n",
       "      <td>0.0</td>\n",
       "      <td>Completed</td>\n",
       "      <td>1.121</td>\n",
       "      <td>7.830</td>\n",
       "      <td>1.08</td>\n",
       "      <td>7.00</td>\n",
       "      <td>1934.828255</td>\n",
       "      <td>1431.488569</td>\n",
       "      <td>0.947721</td>\n",
       "    </tr>\n",
       "  </tbody>\n",
       "</table>\n",
       "</div>"
      ],
      "text/plain": [
       "   ATP  Location              Tournament       Date  Series    Court Surface  \\\n",
       "0    3      Doha  Qatar Exxon Mobil Open 2010-01-04  ATP250  Outdoor    Hard   \n",
       "1    1  Brisbane  Brisbane International 2010-01-04  ATP250  Outdoor    Hard   \n",
       "2    1  Brisbane  Brisbane International 2010-01-04  ATP250  Outdoor    Hard   \n",
       "3    1  Brisbane  Brisbane International 2010-01-04  ATP250  Outdoor    Hard   \n",
       "4    1  Brisbane  Brisbane International 2010-01-04  ATP250  Outdoor    Hard   \n",
       "\n",
       "       Round  Best of       Winner       Loser  WRank  LRank  Wsets  Lsets  \\\n",
       "0  1st Round        3  Karlovic I.  Fognini F.     37     54    2.0    0.0   \n",
       "1  1st Round        3     Falla A.   Chardy J.     81     32    2.0    0.0   \n",
       "2  1st Round        3      Levy H.   Llodra M.    119     67    2.0    0.0   \n",
       "3  1st Round        3  Stepanek R.  Millman J.     12    306    2.0    0.0   \n",
       "4  1st Round        3   Roddick A.   Luczak P.      7     77    2.0    0.0   \n",
       "\n",
       "     Comment    PSW    PSL  B365W  B365L   elo_winner    elo_loser  proba_elo  \n",
       "0  Completed  1.376  3.410   1.36   3.00  1700.586950  1564.557532   0.686337  \n",
       "1  Completed  2.580  1.581   2.62   1.44  1494.870839  1676.396972   0.260196  \n",
       "2  Completed  2.170  1.787   3.00   1.36  1325.868154  1663.757847   0.125094  \n",
       "3  Completed  1.087  9.950   1.04  10.00  1872.712058  1500.000000   0.895248  \n",
       "4  Completed  1.121  7.830   1.08   7.00  1934.828255  1431.488569   0.947721  "
      ]
     },
     "execution_count": 41,
     "metadata": {},
     "output_type": "execute_result"
    }
   ],
   "source": [
    "# df tri� selo nal variable Date\n",
    "df = df.sort_values(by='Date').reset_index(drop=True)\n",
    "df.head(5)"
   ]
  },
  {
   "cell_type": "markdown",
   "id": "7c58355a",
   "metadata": {},
   "source": [
    "## D�finition de la cible "
   ]
  },
  {
   "cell_type": "code",
   "execution_count": 42,
   "id": "51ac9509",
   "metadata": {},
   "outputs": [
    {
     "data": {
      "text/html": [
       "<div>\n",
       "<style scoped>\n",
       "    .dataframe tbody tr th:only-of-type {\n",
       "        vertical-align: middle;\n",
       "    }\n",
       "\n",
       "    .dataframe tbody tr th {\n",
       "        vertical-align: top;\n",
       "    }\n",
       "\n",
       "    .dataframe thead th {\n",
       "        text-align: right;\n",
       "    }\n",
       "</style>\n",
       "<table border=\"1\" class=\"dataframe\">\n",
       "  <thead>\n",
       "    <tr style=\"text-align: right;\">\n",
       "      <th></th>\n",
       "      <th>ATP</th>\n",
       "      <th>Location</th>\n",
       "      <th>Tournament</th>\n",
       "      <th>Date</th>\n",
       "      <th>Series</th>\n",
       "      <th>Court</th>\n",
       "      <th>Surface</th>\n",
       "      <th>Round</th>\n",
       "      <th>Best of</th>\n",
       "      <th>Winner</th>\n",
       "      <th>Loser</th>\n",
       "      <th>WRank</th>\n",
       "      <th>LRank</th>\n",
       "      <th>Wsets</th>\n",
       "      <th>Lsets</th>\n",
       "      <th>Comment</th>\n",
       "      <th>PSW</th>\n",
       "      <th>PSL</th>\n",
       "      <th>B365W</th>\n",
       "      <th>B365L</th>\n",
       "      <th>elo_winner</th>\n",
       "      <th>elo_loser</th>\n",
       "      <th>proba_elo</th>\n",
       "      <th>Cote</th>\n",
       "    </tr>\n",
       "  </thead>\n",
       "  <tbody>\n",
       "    <tr>\n",
       "      <th>0</th>\n",
       "      <td>3</td>\n",
       "      <td>Doha</td>\n",
       "      <td>Qatar Exxon Mobil Open</td>\n",
       "      <td>2010-01-04</td>\n",
       "      <td>ATP250</td>\n",
       "      <td>Outdoor</td>\n",
       "      <td>Hard</td>\n",
       "      <td>1st Round</td>\n",
       "      <td>3</td>\n",
       "      <td>Karlovic I.</td>\n",
       "      <td>Fognini F.</td>\n",
       "      <td>37</td>\n",
       "      <td>54</td>\n",
       "      <td>2.0</td>\n",
       "      <td>0.0</td>\n",
       "      <td>Completed</td>\n",
       "      <td>1.376</td>\n",
       "      <td>3.410</td>\n",
       "      <td>1.36</td>\n",
       "      <td>3.00</td>\n",
       "      <td>1700.586950</td>\n",
       "      <td>1564.557532</td>\n",
       "      <td>0.686337</td>\n",
       "      <td>0.726744</td>\n",
       "    </tr>\n",
       "    <tr>\n",
       "      <th>1</th>\n",
       "      <td>1</td>\n",
       "      <td>Brisbane</td>\n",
       "      <td>Brisbane International</td>\n",
       "      <td>2010-01-04</td>\n",
       "      <td>ATP250</td>\n",
       "      <td>Outdoor</td>\n",
       "      <td>Hard</td>\n",
       "      <td>1st Round</td>\n",
       "      <td>3</td>\n",
       "      <td>Falla A.</td>\n",
       "      <td>Chardy J.</td>\n",
       "      <td>81</td>\n",
       "      <td>32</td>\n",
       "      <td>2.0</td>\n",
       "      <td>0.0</td>\n",
       "      <td>Completed</td>\n",
       "      <td>2.580</td>\n",
       "      <td>1.581</td>\n",
       "      <td>2.62</td>\n",
       "      <td>1.44</td>\n",
       "      <td>1494.870839</td>\n",
       "      <td>1676.396972</td>\n",
       "      <td>0.260196</td>\n",
       "      <td>0.387597</td>\n",
       "    </tr>\n",
       "    <tr>\n",
       "      <th>2</th>\n",
       "      <td>1</td>\n",
       "      <td>Brisbane</td>\n",
       "      <td>Brisbane International</td>\n",
       "      <td>2010-01-04</td>\n",
       "      <td>ATP250</td>\n",
       "      <td>Outdoor</td>\n",
       "      <td>Hard</td>\n",
       "      <td>1st Round</td>\n",
       "      <td>3</td>\n",
       "      <td>Levy H.</td>\n",
       "      <td>Llodra M.</td>\n",
       "      <td>119</td>\n",
       "      <td>67</td>\n",
       "      <td>2.0</td>\n",
       "      <td>0.0</td>\n",
       "      <td>Completed</td>\n",
       "      <td>2.170</td>\n",
       "      <td>1.787</td>\n",
       "      <td>3.00</td>\n",
       "      <td>1.36</td>\n",
       "      <td>1325.868154</td>\n",
       "      <td>1663.757847</td>\n",
       "      <td>0.125094</td>\n",
       "      <td>0.460829</td>\n",
       "    </tr>\n",
       "    <tr>\n",
       "      <th>3</th>\n",
       "      <td>1</td>\n",
       "      <td>Brisbane</td>\n",
       "      <td>Brisbane International</td>\n",
       "      <td>2010-01-04</td>\n",
       "      <td>ATP250</td>\n",
       "      <td>Outdoor</td>\n",
       "      <td>Hard</td>\n",
       "      <td>1st Round</td>\n",
       "      <td>3</td>\n",
       "      <td>Stepanek R.</td>\n",
       "      <td>Millman J.</td>\n",
       "      <td>12</td>\n",
       "      <td>306</td>\n",
       "      <td>2.0</td>\n",
       "      <td>0.0</td>\n",
       "      <td>Completed</td>\n",
       "      <td>1.087</td>\n",
       "      <td>9.950</td>\n",
       "      <td>1.04</td>\n",
       "      <td>10.00</td>\n",
       "      <td>1872.712058</td>\n",
       "      <td>1500.000000</td>\n",
       "      <td>0.895248</td>\n",
       "      <td>0.919963</td>\n",
       "    </tr>\n",
       "    <tr>\n",
       "      <th>4</th>\n",
       "      <td>1</td>\n",
       "      <td>Brisbane</td>\n",
       "      <td>Brisbane International</td>\n",
       "      <td>2010-01-04</td>\n",
       "      <td>ATP250</td>\n",
       "      <td>Outdoor</td>\n",
       "      <td>Hard</td>\n",
       "      <td>1st Round</td>\n",
       "      <td>3</td>\n",
       "      <td>Roddick A.</td>\n",
       "      <td>Luczak P.</td>\n",
       "      <td>7</td>\n",
       "      <td>77</td>\n",
       "      <td>2.0</td>\n",
       "      <td>0.0</td>\n",
       "      <td>Completed</td>\n",
       "      <td>1.121</td>\n",
       "      <td>7.830</td>\n",
       "      <td>1.08</td>\n",
       "      <td>7.00</td>\n",
       "      <td>1934.828255</td>\n",
       "      <td>1431.488569</td>\n",
       "      <td>0.947721</td>\n",
       "      <td>0.892061</td>\n",
       "    </tr>\n",
       "    <tr>\n",
       "      <th>...</th>\n",
       "      <td>...</td>\n",
       "      <td>...</td>\n",
       "      <td>...</td>\n",
       "      <td>...</td>\n",
       "      <td>...</td>\n",
       "      <td>...</td>\n",
       "      <td>...</td>\n",
       "      <td>...</td>\n",
       "      <td>...</td>\n",
       "      <td>...</td>\n",
       "      <td>...</td>\n",
       "      <td>...</td>\n",
       "      <td>...</td>\n",
       "      <td>...</td>\n",
       "      <td>...</td>\n",
       "      <td>...</td>\n",
       "      <td>...</td>\n",
       "      <td>...</td>\n",
       "      <td>...</td>\n",
       "      <td>...</td>\n",
       "      <td>...</td>\n",
       "      <td>...</td>\n",
       "      <td>...</td>\n",
       "      <td>...</td>\n",
       "    </tr>\n",
       "    <tr>\n",
       "      <th>18093</th>\n",
       "      <td>17</td>\n",
       "      <td>Dubai</td>\n",
       "      <td>Dubai Tennis Championships</td>\n",
       "      <td>2018-03-03</td>\n",
       "      <td>ATP500</td>\n",
       "      <td>Outdoor</td>\n",
       "      <td>Hard</td>\n",
       "      <td>The Final</td>\n",
       "      <td>3</td>\n",
       "      <td>Bautista Agut R.</td>\n",
       "      <td>Pouille L.</td>\n",
       "      <td>23</td>\n",
       "      <td>15</td>\n",
       "      <td>2.0</td>\n",
       "      <td>0.0</td>\n",
       "      <td>Completed</td>\n",
       "      <td>1.650</td>\n",
       "      <td>2.430</td>\n",
       "      <td>1.66</td>\n",
       "      <td>2.20</td>\n",
       "      <td>1835.901543</td>\n",
       "      <td>1842.459807</td>\n",
       "      <td>0.490563</td>\n",
       "      <td>0.606061</td>\n",
       "    </tr>\n",
       "    <tr>\n",
       "      <th>18094</th>\n",
       "      <td>16</td>\n",
       "      <td>Acapulco</td>\n",
       "      <td>Abierto Mexicano</td>\n",
       "      <td>2018-03-03</td>\n",
       "      <td>ATP500</td>\n",
       "      <td>Outdoor</td>\n",
       "      <td>Hard</td>\n",
       "      <td>Semifinals</td>\n",
       "      <td>3</td>\n",
       "      <td>Anderson K.</td>\n",
       "      <td>Donaldson J.</td>\n",
       "      <td>8</td>\n",
       "      <td>59</td>\n",
       "      <td>2.0</td>\n",
       "      <td>1.0</td>\n",
       "      <td>Completed</td>\n",
       "      <td>1.340</td>\n",
       "      <td>3.630</td>\n",
       "      <td>1.30</td>\n",
       "      <td>3.50</td>\n",
       "      <td>1843.576914</td>\n",
       "      <td>1647.967561</td>\n",
       "      <td>0.755103</td>\n",
       "      <td>0.746269</td>\n",
       "    </tr>\n",
       "    <tr>\n",
       "      <th>18095</th>\n",
       "      <td>18</td>\n",
       "      <td>Sao Paulo</td>\n",
       "      <td>Brasil Open</td>\n",
       "      <td>2018-03-03</td>\n",
       "      <td>ATP250</td>\n",
       "      <td>Indoor</td>\n",
       "      <td>Clay</td>\n",
       "      <td>Semifinals</td>\n",
       "      <td>3</td>\n",
       "      <td>Jarry N.</td>\n",
       "      <td>Zeballos H.</td>\n",
       "      <td>73</td>\n",
       "      <td>69</td>\n",
       "      <td>2.0</td>\n",
       "      <td>1.0</td>\n",
       "      <td>Completed</td>\n",
       "      <td>1.850</td>\n",
       "      <td>2.090</td>\n",
       "      <td>1.90</td>\n",
       "      <td>1.90</td>\n",
       "      <td>1588.293069</td>\n",
       "      <td>1619.758421</td>\n",
       "      <td>0.454841</td>\n",
       "      <td>0.540541</td>\n",
       "    </tr>\n",
       "    <tr>\n",
       "      <th>18096</th>\n",
       "      <td>16</td>\n",
       "      <td>Acapulco</td>\n",
       "      <td>Abierto Mexicano</td>\n",
       "      <td>2018-03-04</td>\n",
       "      <td>ATP500</td>\n",
       "      <td>Outdoor</td>\n",
       "      <td>Hard</td>\n",
       "      <td>The Final</td>\n",
       "      <td>3</td>\n",
       "      <td>Del Potro J.M.</td>\n",
       "      <td>Anderson K.</td>\n",
       "      <td>9</td>\n",
       "      <td>8</td>\n",
       "      <td>2.0</td>\n",
       "      <td>0.0</td>\n",
       "      <td>Completed</td>\n",
       "      <td>1.520</td>\n",
       "      <td>2.750</td>\n",
       "      <td>1.50</td>\n",
       "      <td>2.62</td>\n",
       "      <td>1966.532849</td>\n",
       "      <td>1851.413609</td>\n",
       "      <td>0.659862</td>\n",
       "      <td>0.657895</td>\n",
       "    </tr>\n",
       "    <tr>\n",
       "      <th>18097</th>\n",
       "      <td>18</td>\n",
       "      <td>Sao Paulo</td>\n",
       "      <td>Brasil Open</td>\n",
       "      <td>2018-03-04</td>\n",
       "      <td>ATP250</td>\n",
       "      <td>Indoor</td>\n",
       "      <td>Clay</td>\n",
       "      <td>The Final</td>\n",
       "      <td>3</td>\n",
       "      <td>Fognini F.</td>\n",
       "      <td>Jarry N.</td>\n",
       "      <td>20</td>\n",
       "      <td>73</td>\n",
       "      <td>2.0</td>\n",
       "      <td>1.0</td>\n",
       "      <td>Completed</td>\n",
       "      <td>1.380</td>\n",
       "      <td>3.380</td>\n",
       "      <td>1.36</td>\n",
       "      <td>3.25</td>\n",
       "      <td>1814.065865</td>\n",
       "      <td>1605.738153</td>\n",
       "      <td>0.768388</td>\n",
       "      <td>0.724638</td>\n",
       "    </tr>\n",
       "  </tbody>\n",
       "</table>\n",
       "<p>18098 rows � 24 columns</p>\n",
       "</div>"
      ],
      "text/plain": [
       "       ATP   Location                  Tournament       Date  Series    Court  \\\n",
       "0        3       Doha      Qatar Exxon Mobil Open 2010-01-04  ATP250  Outdoor   \n",
       "1        1   Brisbane      Brisbane International 2010-01-04  ATP250  Outdoor   \n",
       "2        1   Brisbane      Brisbane International 2010-01-04  ATP250  Outdoor   \n",
       "3        1   Brisbane      Brisbane International 2010-01-04  ATP250  Outdoor   \n",
       "4        1   Brisbane      Brisbane International 2010-01-04  ATP250  Outdoor   \n",
       "...    ...        ...                         ...        ...     ...      ...   \n",
       "18093   17     Dubai   Dubai Tennis Championships 2018-03-03  ATP500  Outdoor   \n",
       "18094   16   Acapulco            Abierto Mexicano 2018-03-03  ATP500  Outdoor   \n",
       "18095   18  Sao Paulo                 Brasil Open 2018-03-03  ATP250   Indoor   \n",
       "18096   16   Acapulco            Abierto Mexicano 2018-03-04  ATP500  Outdoor   \n",
       "18097   18  Sao Paulo                 Brasil Open 2018-03-04  ATP250   Indoor   \n",
       "\n",
       "      Surface       Round  Best of            Winner         Loser  WRank  \\\n",
       "0        Hard   1st Round        3       Karlovic I.    Fognini F.     37   \n",
       "1        Hard   1st Round        3          Falla A.     Chardy J.     81   \n",
       "2        Hard   1st Round        3           Levy H.     Llodra M.    119   \n",
       "3        Hard   1st Round        3       Stepanek R.    Millman J.     12   \n",
       "4        Hard   1st Round        3        Roddick A.     Luczak P.      7   \n",
       "...       ...         ...      ...               ...           ...    ...   \n",
       "18093    Hard   The Final        3  Bautista Agut R.    Pouille L.     23   \n",
       "18094    Hard  Semifinals        3       Anderson K.  Donaldson J.      8   \n",
       "18095    Clay  Semifinals        3          Jarry N.   Zeballos H.     73   \n",
       "18096    Hard   The Final        3    Del Potro J.M.   Anderson K.      9   \n",
       "18097    Clay   The Final        3        Fognini F.      Jarry N.     20   \n",
       "\n",
       "       LRank  Wsets  Lsets    Comment    PSW    PSL  B365W  B365L  \\\n",
       "0         54    2.0    0.0  Completed  1.376  3.410   1.36   3.00   \n",
       "1         32    2.0    0.0  Completed  2.580  1.581   2.62   1.44   \n",
       "2         67    2.0    0.0  Completed  2.170  1.787   3.00   1.36   \n",
       "3        306    2.0    0.0  Completed  1.087  9.950   1.04  10.00   \n",
       "4         77    2.0    0.0  Completed  1.121  7.830   1.08   7.00   \n",
       "...      ...    ...    ...        ...    ...    ...    ...    ...   \n",
       "18093     15    2.0    0.0  Completed  1.650  2.430   1.66   2.20   \n",
       "18094     59    2.0    1.0  Completed  1.340  3.630   1.30   3.50   \n",
       "18095     69    2.0    1.0  Completed  1.850  2.090   1.90   1.90   \n",
       "18096      8    2.0    0.0  Completed  1.520  2.750   1.50   2.62   \n",
       "18097     73    2.0    1.0  Completed  1.380  3.380   1.36   3.25   \n",
       "\n",
       "        elo_winner    elo_loser  proba_elo      Cote  \n",
       "0      1700.586950  1564.557532   0.686337  0.726744  \n",
       "1      1494.870839  1676.396972   0.260196  0.387597  \n",
       "2      1325.868154  1663.757847   0.125094  0.460829  \n",
       "3      1872.712058  1500.000000   0.895248  0.919963  \n",
       "4      1934.828255  1431.488569   0.947721  0.892061  \n",
       "...            ...          ...        ...       ...  \n",
       "18093  1835.901543  1842.459807   0.490563  0.606061  \n",
       "18094  1843.576914  1647.967561   0.755103  0.746269  \n",
       "18095  1588.293069  1619.758421   0.454841  0.540541  \n",
       "18096  1966.532849  1851.413609   0.659862  0.657895  \n",
       "18097  1814.065865  1605.738153   0.768388  0.724638  \n",
       "\n",
       "[18098 rows x 24 columns]"
      ]
     },
     "execution_count": 42,
     "metadata": {},
     "output_type": "execute_result"
    }
   ],
   "source": [
    "#D�finir la VARIABLE CIBLE 'target'\n",
    "\n",
    "#On rajoute dans df la chance de victoire du meileur bookmaker : c'est � dire la cote PSW invers�e\n",
    "\n",
    "df['Cote'] = 1/df['PSW']\n",
    "\n",
    "df"
   ]
  },
  {
   "cell_type": "code",
   "execution_count": 43,
   "id": "dab787a1",
   "metadata": {},
   "outputs": [
    {
     "name": "stdout",
     "output_type": "stream",
     "text": [
      "count    18098.000000\n",
      "mean         0.632984\n",
      "std          0.210853\n",
      "min          0.021739\n",
      "25%          0.473934\n",
      "50%          0.657895\n",
      "75%          0.800000\n",
      "max          1.000000\n",
      "Name: Cote, dtype: float64\n",
      "0        2\n",
      "1        0\n",
      "2        0\n",
      "3        3\n",
      "4        3\n",
      "        ..\n",
      "18093    1\n",
      "18094    2\n",
      "18095    1\n",
      "18096    1\n",
      "18097    2\n",
      "Name: Cote, Length: 18098, dtype: category\n",
      "Categories (4, int64): [0 < 1 < 2 < 3]\n"
     ]
    }
   ],
   "source": [
    "###### La Variable cible 'target'\n",
    "#On prend ici 4 cas de figure : les matches perdus d'avance / Equilibr�s mais perdants / Equilibr�s mais gagnats / Gagn�s d'avance\n",
    "\n",
    "print(df[\"Cote\"].describe())\n",
    "\n",
    "# Une solution\n",
    "target=[]\n",
    "for i in df[\"Cote\"]:\n",
    "    if i<=0.473934:\n",
    "        target.append(0)# i<=25% plus grande de chance de perdre\n",
    "    elif i<=0.657895:\n",
    "        target.append(1)# 25<i<=50% plus de chance de perdre\n",
    "    elif i<=0.800000: \n",
    "        target.append(2)# 50%<i<=75%  plus de chance de gagner\n",
    "    else :\n",
    "        target.append(3)# i>75%  plus grande de chance de gagner\n",
    "\n",
    "# Une solution Avec la fonction qcut \n",
    "target = pd.qcut(df.Cote, labels=[0,1,2,3],q=4)\n",
    "        \n",
    "        \n",
    "print(target)"
   ]
  },
  {
   "cell_type": "code",
   "execution_count": 44,
   "id": "08f74330",
   "metadata": {},
   "outputs": [
    {
     "data": {
      "text/plain": [
       "18098"
      ]
     },
     "execution_count": 44,
     "metadata": {},
     "output_type": "execute_result"
    }
   ],
   "source": [
    "len(target)"
   ]
  },
  {
   "cell_type": "markdown",
   "id": "1d41aeb3",
   "metadata": {},
   "source": [
    "Les Variables de type 'Objet' � transformer en variables num�riques\n"
   ]
  },
  {
   "cell_type": "code",
   "execution_count": 45,
   "id": "da594612",
   "metadata": {},
   "outputs": [
    {
     "name": "stdout",
     "output_type": "stream",
     "text": [
      "<class 'pandas.core.frame.DataFrame'>\n",
      "RangeIndex: 18098 entries, 0 to 18097\n",
      "Data columns (total 24 columns):\n",
      " #   Column      Non-Null Count  Dtype         \n",
      "---  ------      --------------  -----         \n",
      " 0   ATP         18098 non-null  int64         \n",
      " 1   Location    18098 non-null  int32         \n",
      " 2   Tournament  18098 non-null  int32         \n",
      " 3   Date        18098 non-null  datetime64[ns]\n",
      " 4   Series      18098 non-null  int32         \n",
      " 5   Court       18098 non-null  int32         \n",
      " 6   Surface     18098 non-null  int32         \n",
      " 7   Round       18098 non-null  int32         \n",
      " 8   Best of     18098 non-null  int64         \n",
      " 9   Winner      18098 non-null  int32         \n",
      " 10  Loser       18098 non-null  int32         \n",
      " 11  WRank       18098 non-null  int64         \n",
      " 12  LRank       18098 non-null  int64         \n",
      " 13  Wsets       18098 non-null  float64       \n",
      " 14  Lsets       18098 non-null  float64       \n",
      " 15  Comment     18098 non-null  int32         \n",
      " 16  PSW         18098 non-null  float64       \n",
      " 17  PSL         18098 non-null  float64       \n",
      " 18  B365W       18098 non-null  float64       \n",
      " 19  B365L       18098 non-null  float64       \n",
      " 20  elo_winner  18098 non-null  float64       \n",
      " 21  elo_loser   18098 non-null  float64       \n",
      " 22  proba_elo   18098 non-null  float64       \n",
      " 23  Cote        18098 non-null  float64       \n",
      "dtypes: datetime64[ns](1), float64(10), int32(9), int64(4)\n",
      "memory usage: 2.7 MB\n",
      "None\n"
     ]
    }
   ],
   "source": [
    "# Les Variables avec type 'objet'\n",
    "\n",
    "# Les Variables avec type 'objet'\n",
    "cf=['Series','Court','Surface','Round','Comment','Winner','Loser','Location','Tournament']\n",
    "\n",
    "#Label Encoding pour convertir les variables de type object � numerique\n",
    "from sklearn.preprocessing import LabelEncoder\n",
    "\n",
    "le = LabelEncoder()\n",
    "for i in cf:\n",
    "    df[i] = le.fit_transform(df[i].astype(str))\n",
    "\n",
    "print (df.info())\n",
    "\n"
   ]
  },
  {
   "cell_type": "code",
   "execution_count": 49,
   "id": "7ba2b569",
   "metadata": {},
   "outputs": [
    {
     "data": {
      "text/html": [
       "<div>\n",
       "<style scoped>\n",
       "    .dataframe tbody tr th:only-of-type {\n",
       "        vertical-align: middle;\n",
       "    }\n",
       "\n",
       "    .dataframe tbody tr th {\n",
       "        vertical-align: top;\n",
       "    }\n",
       "\n",
       "    .dataframe thead th {\n",
       "        text-align: right;\n",
       "    }\n",
       "</style>\n",
       "<table border=\"1\" class=\"dataframe\">\n",
       "  <thead>\n",
       "    <tr style=\"text-align: right;\">\n",
       "      <th></th>\n",
       "      <th>ATP</th>\n",
       "      <th>Location</th>\n",
       "      <th>Tournament</th>\n",
       "      <th>Date</th>\n",
       "      <th>Series</th>\n",
       "      <th>Court</th>\n",
       "      <th>Surface</th>\n",
       "      <th>Round</th>\n",
       "      <th>Best of</th>\n",
       "      <th>Winner</th>\n",
       "      <th>Loser</th>\n",
       "      <th>WRank</th>\n",
       "      <th>LRank</th>\n",
       "      <th>Wsets</th>\n",
       "      <th>Lsets</th>\n",
       "      <th>Comment</th>\n",
       "      <th>PSW</th>\n",
       "      <th>PSL</th>\n",
       "      <th>B365W</th>\n",
       "      <th>B365L</th>\n",
       "      <th>elo_winner</th>\n",
       "      <th>elo_loser</th>\n",
       "      <th>proba_elo</th>\n",
       "      <th>Cote</th>\n",
       "    </tr>\n",
       "  </thead>\n",
       "  <tbody>\n",
       "    <tr>\n",
       "      <th>0</th>\n",
       "      <td>3</td>\n",
       "      <td>23</td>\n",
       "      <td>79</td>\n",
       "      <td>2010-01-04</td>\n",
       "      <td>0</td>\n",
       "      <td>1</td>\n",
       "      <td>2</td>\n",
       "      <td>0</td>\n",
       "      <td>3</td>\n",
       "      <td>196</td>\n",
       "      <td>196</td>\n",
       "      <td>37</td>\n",
       "      <td>54</td>\n",
       "      <td>2.0</td>\n",
       "      <td>0.0</td>\n",
       "      <td>0</td>\n",
       "      <td>1.376</td>\n",
       "      <td>3.410</td>\n",
       "      <td>1.36</td>\n",
       "      <td>3.00</td>\n",
       "      <td>1700.586950</td>\n",
       "      <td>1564.557532</td>\n",
       "      <td>0.686337</td>\n",
       "      <td>0.726744</td>\n",
       "    </tr>\n",
       "    <tr>\n",
       "      <th>1</th>\n",
       "      <td>1</td>\n",
       "      <td>13</td>\n",
       "      <td>22</td>\n",
       "      <td>2010-01-04</td>\n",
       "      <td>0</td>\n",
       "      <td>1</td>\n",
       "      <td>2</td>\n",
       "      <td>0</td>\n",
       "      <td>3</td>\n",
       "      <td>121</td>\n",
       "      <td>102</td>\n",
       "      <td>81</td>\n",
       "      <td>32</td>\n",
       "      <td>2.0</td>\n",
       "      <td>0.0</td>\n",
       "      <td>0</td>\n",
       "      <td>2.580</td>\n",
       "      <td>1.581</td>\n",
       "      <td>2.62</td>\n",
       "      <td>1.44</td>\n",
       "      <td>1494.870839</td>\n",
       "      <td>1676.396972</td>\n",
       "      <td>0.260196</td>\n",
       "      <td>0.387597</td>\n",
       "    </tr>\n",
       "    <tr>\n",
       "      <th>2</th>\n",
       "      <td>1</td>\n",
       "      <td>13</td>\n",
       "      <td>22</td>\n",
       "      <td>2010-01-04</td>\n",
       "      <td>0</td>\n",
       "      <td>1</td>\n",
       "      <td>2</td>\n",
       "      <td>0</td>\n",
       "      <td>3</td>\n",
       "      <td>241</td>\n",
       "      <td>377</td>\n",
       "      <td>119</td>\n",
       "      <td>67</td>\n",
       "      <td>2.0</td>\n",
       "      <td>0.0</td>\n",
       "      <td>0</td>\n",
       "      <td>2.170</td>\n",
       "      <td>1.787</td>\n",
       "      <td>3.00</td>\n",
       "      <td>1.36</td>\n",
       "      <td>1325.868154</td>\n",
       "      <td>1663.757847</td>\n",
       "      <td>0.125094</td>\n",
       "      <td>0.460829</td>\n",
       "    </tr>\n",
       "    <tr>\n",
       "      <th>3</th>\n",
       "      <td>1</td>\n",
       "      <td>13</td>\n",
       "      <td>22</td>\n",
       "      <td>2010-01-04</td>\n",
       "      <td>0</td>\n",
       "      <td>1</td>\n",
       "      <td>2</td>\n",
       "      <td>0</td>\n",
       "      <td>3</td>\n",
       "      <td>393</td>\n",
       "      <td>426</td>\n",
       "      <td>12</td>\n",
       "      <td>306</td>\n",
       "      <td>2.0</td>\n",
       "      <td>0.0</td>\n",
       "      <td>0</td>\n",
       "      <td>1.087</td>\n",
       "      <td>9.950</td>\n",
       "      <td>1.04</td>\n",
       "      <td>10.00</td>\n",
       "      <td>1872.712058</td>\n",
       "      <td>1500.000000</td>\n",
       "      <td>0.895248</td>\n",
       "      <td>0.919963</td>\n",
       "    </tr>\n",
       "    <tr>\n",
       "      <th>4</th>\n",
       "      <td>1</td>\n",
       "      <td>13</td>\n",
       "      <td>22</td>\n",
       "      <td>2010-01-04</td>\n",
       "      <td>0</td>\n",
       "      <td>1</td>\n",
       "      <td>2</td>\n",
       "      <td>0</td>\n",
       "      <td>3</td>\n",
       "      <td>344</td>\n",
       "      <td>386</td>\n",
       "      <td>7</td>\n",
       "      <td>77</td>\n",
       "      <td>2.0</td>\n",
       "      <td>0.0</td>\n",
       "      <td>0</td>\n",
       "      <td>1.121</td>\n",
       "      <td>7.830</td>\n",
       "      <td>1.08</td>\n",
       "      <td>7.00</td>\n",
       "      <td>1934.828255</td>\n",
       "      <td>1431.488569</td>\n",
       "      <td>0.947721</td>\n",
       "      <td>0.892061</td>\n",
       "    </tr>\n",
       "  </tbody>\n",
       "</table>\n",
       "</div>"
      ],
      "text/plain": [
       "   ATP  Location  Tournament       Date  Series  Court  Surface  Round  \\\n",
       "0    3        23          79 2010-01-04       0      1        2      0   \n",
       "1    1        13          22 2010-01-04       0      1        2      0   \n",
       "2    1        13          22 2010-01-04       0      1        2      0   \n",
       "3    1        13          22 2010-01-04       0      1        2      0   \n",
       "4    1        13          22 2010-01-04       0      1        2      0   \n",
       "\n",
       "   Best of  Winner  Loser  WRank  LRank  Wsets  Lsets  Comment    PSW    PSL  \\\n",
       "0        3     196    196     37     54    2.0    0.0        0  1.376  3.410   \n",
       "1        3     121    102     81     32    2.0    0.0        0  2.580  1.581   \n",
       "2        3     241    377    119     67    2.0    0.0        0  2.170  1.787   \n",
       "3        3     393    426     12    306    2.0    0.0        0  1.087  9.950   \n",
       "4        3     344    386      7     77    2.0    0.0        0  1.121  7.830   \n",
       "\n",
       "   B365W  B365L   elo_winner    elo_loser  proba_elo      Cote  \n",
       "0   1.36   3.00  1700.586950  1564.557532   0.686337  0.726744  \n",
       "1   2.62   1.44  1494.870839  1676.396972   0.260196  0.387597  \n",
       "2   3.00   1.36  1325.868154  1663.757847   0.125094  0.460829  \n",
       "3   1.04  10.00  1872.712058  1500.000000   0.895248  0.919963  \n",
       "4   1.08   7.00  1934.828255  1431.488569   0.947721  0.892061  "
      ]
     },
     "execution_count": 49,
     "metadata": {},
     "output_type": "execute_result"
    }
   ],
   "source": [
    "df.head()"
   ]
  },
  {
   "cell_type": "code",
   "execution_count": 50,
   "id": "11e0254a",
   "metadata": {},
   "outputs": [
    {
     "data": {
      "text/plain": [
       "ATP              66\n",
       "Location         87\n",
       "Tournament      111\n",
       "Date           1995\n",
       "Series            4\n",
       "Court             2\n",
       "Surface           3\n",
       "Round             7\n",
       "Best of           2\n",
       "Winner          452\n",
       "Loser           708\n",
       "WRank           444\n",
       "LRank           687\n",
       "Wsets             2\n",
       "Lsets             3\n",
       "Comment           1\n",
       "PSW             889\n",
       "PSL            1179\n",
       "B365W            90\n",
       "B365L            93\n",
       "elo_winner    18016\n",
       "elo_loser     17795\n",
       "proba_elo     18091\n",
       "Cote            889\n",
       "dtype: int64"
      ]
     },
     "execution_count": 50,
     "metadata": {},
     "output_type": "execute_result"
    }
   ],
   "source": [
    "# Affichage le nombre de valeurs uniques pour chaque variable du dataframe.\n",
    "df.nunique()"
   ]
  },
  {
   "cell_type": "markdown",
   "id": "0a046d7a",
   "metadata": {},
   "source": [
    "Les variables cat�gorielles et num�riques"
   ]
  },
  {
   "cell_type": "code",
   "execution_count": 52,
   "id": "cdfe155e",
   "metadata": {},
   "outputs": [
    {
     "name": "stdout",
     "output_type": "stream",
     "text": [
      "Variables Num�rique de df :  ['ATP', 'Location', 'Tournament', 'Date', 'Winner', 'Loser', 'WRank', 'LRank', 'PSW', 'PSL', 'B365W', 'B365L', 'elo_winner', 'elo_loser', 'proba_elo', 'Cote'] \n",
      "\n",
      "Variables Cat�gorielle de df :  ['Series', 'Court', 'Surface', 'Round', 'Best of', 'Wsets', 'Lsets', 'Comment']\n"
     ]
    }
   ],
   "source": [
    "#Identifier les variables cat�gorielles et num�riques dans deux listes distinctes\n",
    "\n",
    "Cat_df=[]\n",
    "Num_df=[]\n",
    "for i in df:\n",
    "    if (df[i].nunique())<=7:\n",
    "        Cat_df.append(i)\n",
    "    else:\n",
    "        Num_df.append(i)\n",
    "\n",
    "print(\"Variables Num�rique de df : \" , Num_df, '\\n')\n",
    "\n",
    "print(\"Variables Cat�gorielle de df : \" , Cat_df)"
   ]
  },
  {
   "cell_type": "markdown",
   "id": "77bb8055",
   "metadata": {},
   "source": [
    "Cr�er des mod�les permettant de pr�dire : features & target\n"
   ]
  },
  {
   "cell_type": "code",
   "execution_count": 53,
   "id": "614d7f90",
   "metadata": {},
   "outputs": [],
   "source": [
    "# Les variables dans feats=X\n",
    "# La data frame est tri�e selon la date alors pour un match entre A et B on n'a pas besoin de date\n",
    "# enlever les variables cote (1/PSW) et PSW, PSL, Wsets, Lsets, B365W, B365L car on essaye de les reproduire pas des les imiter\n",
    "\n",
    "X=df.drop(['PSW','PSL', 'Cote','Wsets','Lsets', 'B365W','B365L','Date'], axis=1)"
   ]
  },
  {
   "cell_type": "code",
   "execution_count": 54,
   "id": "e766a890",
   "metadata": {},
   "outputs": [
    {
     "data": {
      "text/html": [
       "<div>\n",
       "<style scoped>\n",
       "    .dataframe tbody tr th:only-of-type {\n",
       "        vertical-align: middle;\n",
       "    }\n",
       "\n",
       "    .dataframe tbody tr th {\n",
       "        vertical-align: top;\n",
       "    }\n",
       "\n",
       "    .dataframe thead th {\n",
       "        text-align: right;\n",
       "    }\n",
       "</style>\n",
       "<table border=\"1\" class=\"dataframe\">\n",
       "  <thead>\n",
       "    <tr style=\"text-align: right;\">\n",
       "      <th></th>\n",
       "      <th>ATP</th>\n",
       "      <th>Location</th>\n",
       "      <th>Tournament</th>\n",
       "      <th>Series</th>\n",
       "      <th>Court</th>\n",
       "      <th>Surface</th>\n",
       "      <th>Round</th>\n",
       "      <th>Best of</th>\n",
       "      <th>Winner</th>\n",
       "      <th>Loser</th>\n",
       "      <th>WRank</th>\n",
       "      <th>LRank</th>\n",
       "      <th>Comment</th>\n",
       "      <th>elo_winner</th>\n",
       "      <th>elo_loser</th>\n",
       "      <th>proba_elo</th>\n",
       "    </tr>\n",
       "  </thead>\n",
       "  <tbody>\n",
       "    <tr>\n",
       "      <th>0</th>\n",
       "      <td>3</td>\n",
       "      <td>23</td>\n",
       "      <td>79</td>\n",
       "      <td>0</td>\n",
       "      <td>1</td>\n",
       "      <td>2</td>\n",
       "      <td>0</td>\n",
       "      <td>3</td>\n",
       "      <td>196</td>\n",
       "      <td>196</td>\n",
       "      <td>37</td>\n",
       "      <td>54</td>\n",
       "      <td>0</td>\n",
       "      <td>1700.586950</td>\n",
       "      <td>1564.557532</td>\n",
       "      <td>0.686337</td>\n",
       "    </tr>\n",
       "    <tr>\n",
       "      <th>1</th>\n",
       "      <td>1</td>\n",
       "      <td>13</td>\n",
       "      <td>22</td>\n",
       "      <td>0</td>\n",
       "      <td>1</td>\n",
       "      <td>2</td>\n",
       "      <td>0</td>\n",
       "      <td>3</td>\n",
       "      <td>121</td>\n",
       "      <td>102</td>\n",
       "      <td>81</td>\n",
       "      <td>32</td>\n",
       "      <td>0</td>\n",
       "      <td>1494.870839</td>\n",
       "      <td>1676.396972</td>\n",
       "      <td>0.260196</td>\n",
       "    </tr>\n",
       "    <tr>\n",
       "      <th>2</th>\n",
       "      <td>1</td>\n",
       "      <td>13</td>\n",
       "      <td>22</td>\n",
       "      <td>0</td>\n",
       "      <td>1</td>\n",
       "      <td>2</td>\n",
       "      <td>0</td>\n",
       "      <td>3</td>\n",
       "      <td>241</td>\n",
       "      <td>377</td>\n",
       "      <td>119</td>\n",
       "      <td>67</td>\n",
       "      <td>0</td>\n",
       "      <td>1325.868154</td>\n",
       "      <td>1663.757847</td>\n",
       "      <td>0.125094</td>\n",
       "    </tr>\n",
       "    <tr>\n",
       "      <th>3</th>\n",
       "      <td>1</td>\n",
       "      <td>13</td>\n",
       "      <td>22</td>\n",
       "      <td>0</td>\n",
       "      <td>1</td>\n",
       "      <td>2</td>\n",
       "      <td>0</td>\n",
       "      <td>3</td>\n",
       "      <td>393</td>\n",
       "      <td>426</td>\n",
       "      <td>12</td>\n",
       "      <td>306</td>\n",
       "      <td>0</td>\n",
       "      <td>1872.712058</td>\n",
       "      <td>1500.000000</td>\n",
       "      <td>0.895248</td>\n",
       "    </tr>\n",
       "    <tr>\n",
       "      <th>4</th>\n",
       "      <td>1</td>\n",
       "      <td>13</td>\n",
       "      <td>22</td>\n",
       "      <td>0</td>\n",
       "      <td>1</td>\n",
       "      <td>2</td>\n",
       "      <td>0</td>\n",
       "      <td>3</td>\n",
       "      <td>344</td>\n",
       "      <td>386</td>\n",
       "      <td>7</td>\n",
       "      <td>77</td>\n",
       "      <td>0</td>\n",
       "      <td>1934.828255</td>\n",
       "      <td>1431.488569</td>\n",
       "      <td>0.947721</td>\n",
       "    </tr>\n",
       "  </tbody>\n",
       "</table>\n",
       "</div>"
      ],
      "text/plain": [
       "   ATP  Location  Tournament  Series  Court  Surface  Round  Best of  Winner  \\\n",
       "0    3        23          79       0      1        2      0        3     196   \n",
       "1    1        13          22       0      1        2      0        3     121   \n",
       "2    1        13          22       0      1        2      0        3     241   \n",
       "3    1        13          22       0      1        2      0        3     393   \n",
       "4    1        13          22       0      1        2      0        3     344   \n",
       "\n",
       "   Loser  WRank  LRank  Comment   elo_winner    elo_loser  proba_elo  \n",
       "0    196     37     54        0  1700.586950  1564.557532   0.686337  \n",
       "1    102     81     32        0  1494.870839  1676.396972   0.260196  \n",
       "2    377    119     67        0  1325.868154  1663.757847   0.125094  \n",
       "3    426     12    306        0  1872.712058  1500.000000   0.895248  \n",
       "4    386      7     77        0  1934.828255  1431.488569   0.947721  "
      ]
     },
     "execution_count": 54,
     "metadata": {},
     "output_type": "execute_result"
    }
   ],
   "source": [
    "X.head(5)"
   ]
  },
  {
   "cell_type": "code",
   "execution_count": 55,
   "id": "a8c2d474",
   "metadata": {},
   "outputs": [
    {
     "name": "stdout",
     "output_type": "stream",
     "text": [
      "0        2\n",
      "1        0\n",
      "2        0\n",
      "3        3\n",
      "4        3\n",
      "        ..\n",
      "18093    1\n",
      "18094    2\n",
      "18095    1\n",
      "18096    1\n",
      "18097    2\n",
      "Name: Cote, Length: 18098, dtype: category\n",
      "Categories (4, int64): [0 < 1 < 2 < 3]\n"
     ]
    }
   ],
   "source": [
    "#la variable cible 'target' : y=target\n",
    "\n",
    "y=target\n",
    "print(y)"
   ]
  },
  {
   "cell_type": "markdown",
   "id": "8350af4c",
   "metadata": {},
   "source": [
    "Scikit-learn, une biblioth�que de machine learning-"
   ]
  },
  {
   "cell_type": "code",
   "execution_count": 56,
   "id": "23293598",
   "metadata": {},
   "outputs": [],
   "source": [
    "from sklearn import model_selection\n",
    "from sklearn import ensemble\n",
    "from sklearn import svm\n",
    "from sklearn import neighbors\n",
    "from sklearn.model_selection import train_test_split\n",
    "from sklearn import preprocessing\n",
    "from sklearn.ensemble import VotingClassifier\n",
    "import matplotlib.pyplot as plt"
   ]
  },
  {
   "cell_type": "code",
   "execution_count": 57,
   "id": "cf395c54",
   "metadata": {
    "scrolled": false
   },
   "outputs": [],
   "source": [
    "# On partitionne les donn�es en �chantillon d'apprentissage et de test \n",
    "X_train, X_test, y_train, y_test = train_test_split(X, y, test_size= 0.2, shuffle=False)\n",
    "\n",
    "# On r�cup�re la moyenne et variance sur l'�chantillon d'apprentissage \n",
    "scaler = preprocessing.StandardScaler().fit(X_train)\n",
    "\n",
    "# On transforme l'�chantillon d'apprentissage \n",
    "X_train_scaled = scaler.transform(X_train)\n",
    "\n",
    "# On tranforme l'�chantillon de test avec le \"scaler\" de l'�chantillon d'apprentissage \n",
    "X_test_scaled = scaler.transform(X_test)"
   ]
  },
  {
   "cell_type": "markdown",
   "id": "34d60b17",
   "metadata": {},
   "source": [
    "## Machine Learning:les 4 types d'algorithmes: Knn, SVM, Random Forest (RF) et Regression Logistique (RL)"
   ]
  },
  {
   "cell_type": "markdown",
   "id": "3f9013d5",
   "metadata": {},
   "source": [
    "KNN"
   ]
  },
  {
   "cell_type": "code",
   "execution_count": 59,
   "id": "b8d52d94",
   "metadata": {},
   "outputs": [
    {
     "data": {
      "text/plain": [
       "GridSearchCV(estimator=KNeighborsClassifier(),\n",
       "             param_grid={'n_neighbors': range(2, 50)})"
      ]
     },
     "execution_count": 59,
     "metadata": {},
     "output_type": "execute_result"
    }
   ],
   "source": [
    "# Algorithme Knn\n",
    "knn = neighbors.KNeighborsClassifier()\n",
    "parametres = {'n_neighbors': range(2,50)}\n",
    "grid_knn = model_selection.GridSearchCV(estimator=knn, param_grid=parametres)\n",
    "\n",
    "grid_knn.fit(X_train_scaled, y_train)"
   ]
  },
  {
   "cell_type": "code",
   "execution_count": 60,
   "id": "423c967a",
   "metadata": {},
   "outputs": [
    {
     "data": {
      "text/plain": [
       "{'n_neighbors': 40}"
      ]
     },
     "execution_count": 60,
     "metadata": {},
     "output_type": "execute_result"
    }
   ],
   "source": [
    "grid_knn.best_params_ ### Param�tres retenus"
   ]
  },
  {
   "cell_type": "code",
   "execution_count": 61,
   "id": "04d47c45",
   "metadata": {},
   "outputs": [
    {
     "data": {
      "text/plain": [
       "0.6102209944751381"
      ]
     },
     "execution_count": 61,
     "metadata": {},
     "output_type": "execute_result"
    }
   ],
   "source": [
    "grid_knn.score(X_test_scaled, y_test) ## taux de bien class�s"
   ]
  },
  {
   "cell_type": "code",
   "execution_count": 62,
   "id": "5f6a358e",
   "metadata": {
    "scrolled": false
   },
   "outputs": [
    {
     "name": "stdout",
     "output_type": "stream",
     "text": [
      "              precision    recall  f1-score   support\n",
      "\n",
      "           0       0.73      0.75      0.74       978\n",
      "           1       0.51      0.47      0.49       961\n",
      "           2       0.50      0.53      0.51       900\n",
      "           3       0.71      0.71      0.71       781\n",
      "\n",
      "    accuracy                           0.61      3620\n",
      "   macro avg       0.61      0.61      0.61      3620\n",
      "weighted avg       0.61      0.61      0.61      3620\n",
      "\n"
     ]
    },
    {
     "data": {
      "text/html": [
       "<div>\n",
       "<style scoped>\n",
       "    .dataframe tbody tr th:only-of-type {\n",
       "        vertical-align: middle;\n",
       "    }\n",
       "\n",
       "    .dataframe tbody tr th {\n",
       "        vertical-align: top;\n",
       "    }\n",
       "\n",
       "    .dataframe thead th {\n",
       "        text-align: right;\n",
       "    }\n",
       "</style>\n",
       "<table border=\"1\" class=\"dataframe\">\n",
       "  <thead>\n",
       "    <tr style=\"text-align: right;\">\n",
       "      <th>Classe pr�dite knn</th>\n",
       "      <th>0</th>\n",
       "      <th>1</th>\n",
       "      <th>2</th>\n",
       "      <th>3</th>\n",
       "      <th>All</th>\n",
       "    </tr>\n",
       "    <tr>\n",
       "      <th>Classe r�elle</th>\n",
       "      <th></th>\n",
       "      <th></th>\n",
       "      <th></th>\n",
       "      <th></th>\n",
       "      <th></th>\n",
       "    </tr>\n",
       "  </thead>\n",
       "  <tbody>\n",
       "    <tr>\n",
       "      <th>0</th>\n",
       "      <td>730</td>\n",
       "      <td>200</td>\n",
       "      <td>39</td>\n",
       "      <td>9</td>\n",
       "      <td>978</td>\n",
       "    </tr>\n",
       "    <tr>\n",
       "      <th>1</th>\n",
       "      <td>223</td>\n",
       "      <td>447</td>\n",
       "      <td>256</td>\n",
       "      <td>35</td>\n",
       "      <td>961</td>\n",
       "    </tr>\n",
       "    <tr>\n",
       "      <th>2</th>\n",
       "      <td>43</td>\n",
       "      <td>194</td>\n",
       "      <td>481</td>\n",
       "      <td>182</td>\n",
       "      <td>900</td>\n",
       "    </tr>\n",
       "    <tr>\n",
       "      <th>3</th>\n",
       "      <td>5</td>\n",
       "      <td>32</td>\n",
       "      <td>193</td>\n",
       "      <td>551</td>\n",
       "      <td>781</td>\n",
       "    </tr>\n",
       "    <tr>\n",
       "      <th>All</th>\n",
       "      <td>1001</td>\n",
       "      <td>873</td>\n",
       "      <td>969</td>\n",
       "      <td>777</td>\n",
       "      <td>3620</td>\n",
       "    </tr>\n",
       "  </tbody>\n",
       "</table>\n",
       "</div>"
      ],
      "text/plain": [
       "Classe pr�dite knn     0    1    2    3   All\n",
       "Classe r�elle                                \n",
       "0                    730  200   39    9   978\n",
       "1                    223  447  256   35   961\n",
       "2                     43  194  481  182   900\n",
       "3                      5   32  193  551   781\n",
       "All                 1001  873  969  777  3620"
      ]
     },
     "execution_count": 62,
     "metadata": {},
     "output_type": "execute_result"
    }
   ],
   "source": [
    "# Calcul et affichage de classification_report\n",
    "\n",
    "from sklearn.metrics import classification_report\n",
    "\n",
    "y_pred = grid_knn.predict(X_test_scaled)\n",
    "print( classification_report(y_test, y_pred) )\n",
    "\n",
    "\n",
    "from sklearn.metrics import confusion_matrix\n",
    "# matrice de confusion\n",
    "y_pred = grid_knn.predict(X_test_scaled)\n",
    "confusion_matrix=pd.crosstab(np.array(y_test), np.array(y_pred), rownames=['Classe r�elle'],\n",
    "                             colnames=['Classe pr�dite knn'],margins=True)\n",
    "confusion_matrix"
   ]
  },
  {
   "cell_type": "markdown",
   "id": "c6154729",
   "metadata": {},
   "source": [
    "SVM"
   ]
  },
  {
   "cell_type": "code",
   "execution_count": 76,
   "id": "73b55d71",
   "metadata": {},
   "outputs": [
    {
     "data": {
      "text/plain": [
       "GridSearchCV(estimator=SVC(probability=True),\n",
       "             param_grid={'C': [0.1, 1, 10, 50], 'kernel': ['rbf', 'linear']})"
      ]
     },
     "execution_count": 76,
     "metadata": {},
     "output_type": "execute_result"
    }
   ],
   "source": [
    "##Algorithme SVM\n",
    "svm_clf = svm.SVC(probability=True)\n",
    "parametres = {'C':[0.1,1,10,50],'kernel':['rbf','linear']}\n",
    "grid_svm = model_selection.GridSearchCV(estimator=svm_clf, param_grid=parametres)\n",
    "grid_svm.fit(X_train_scaled, y_train)"
   ]
  },
  {
   "cell_type": "code",
   "execution_count": 77,
   "id": "5bf2e648",
   "metadata": {},
   "outputs": [
    {
     "data": {
      "text/plain": [
       "{'C': 0.1, 'kernel': 'linear'}"
      ]
     },
     "execution_count": 77,
     "metadata": {},
     "output_type": "execute_result"
    }
   ],
   "source": [
    "grid_svm.best_params_ ### Param�tres retenus"
   ]
  },
  {
   "cell_type": "code",
   "execution_count": 78,
   "id": "0569ff74",
   "metadata": {},
   "outputs": [
    {
     "data": {
      "text/plain": [
       "0.6546961325966851"
      ]
     },
     "execution_count": 78,
     "metadata": {},
     "output_type": "execute_result"
    }
   ],
   "source": [
    "grid_svm.score(X_test_scaled, y_test) ## taux de bien class�s"
   ]
  },
  {
   "cell_type": "code",
   "execution_count": 79,
   "id": "a1db9b1f",
   "metadata": {},
   "outputs": [
    {
     "name": "stdout",
     "output_type": "stream",
     "text": [
      "              precision    recall  f1-score   support\n",
      "\n",
      "           0       0.77      0.77      0.77       978\n",
      "           1       0.55      0.49      0.52       961\n",
      "           2       0.55      0.62      0.58       900\n",
      "           3       0.77      0.75      0.76       781\n",
      "\n",
      "    accuracy                           0.65      3620\n",
      "   macro avg       0.66      0.66      0.66      3620\n",
      "weighted avg       0.66      0.65      0.65      3620\n",
      "\n"
     ]
    },
    {
     "data": {
      "text/html": [
       "<div>\n",
       "<style scoped>\n",
       "    .dataframe tbody tr th:only-of-type {\n",
       "        vertical-align: middle;\n",
       "    }\n",
       "\n",
       "    .dataframe tbody tr th {\n",
       "        vertical-align: top;\n",
       "    }\n",
       "\n",
       "    .dataframe thead th {\n",
       "        text-align: right;\n",
       "    }\n",
       "</style>\n",
       "<table border=\"1\" class=\"dataframe\">\n",
       "  <thead>\n",
       "    <tr style=\"text-align: right;\">\n",
       "      <th>Classe pr�dite svm</th>\n",
       "      <th>0</th>\n",
       "      <th>1</th>\n",
       "      <th>2</th>\n",
       "      <th>3</th>\n",
       "      <th>All</th>\n",
       "    </tr>\n",
       "    <tr>\n",
       "      <th>Classe r�elle</th>\n",
       "      <th></th>\n",
       "      <th></th>\n",
       "      <th></th>\n",
       "      <th></th>\n",
       "      <th></th>\n",
       "    </tr>\n",
       "  </thead>\n",
       "  <tbody>\n",
       "    <tr>\n",
       "      <th>0</th>\n",
       "      <td>752</td>\n",
       "      <td>195</td>\n",
       "      <td>27</td>\n",
       "      <td>4</td>\n",
       "      <td>978</td>\n",
       "    </tr>\n",
       "    <tr>\n",
       "      <th>1</th>\n",
       "      <td>191</td>\n",
       "      <td>474</td>\n",
       "      <td>267</td>\n",
       "      <td>29</td>\n",
       "      <td>961</td>\n",
       "    </tr>\n",
       "    <tr>\n",
       "      <th>2</th>\n",
       "      <td>28</td>\n",
       "      <td>169</td>\n",
       "      <td>561</td>\n",
       "      <td>142</td>\n",
       "      <td>900</td>\n",
       "    </tr>\n",
       "    <tr>\n",
       "      <th>3</th>\n",
       "      <td>3</td>\n",
       "      <td>24</td>\n",
       "      <td>171</td>\n",
       "      <td>583</td>\n",
       "      <td>781</td>\n",
       "    </tr>\n",
       "    <tr>\n",
       "      <th>All</th>\n",
       "      <td>974</td>\n",
       "      <td>862</td>\n",
       "      <td>1026</td>\n",
       "      <td>758</td>\n",
       "      <td>3620</td>\n",
       "    </tr>\n",
       "  </tbody>\n",
       "</table>\n",
       "</div>"
      ],
      "text/plain": [
       "Classe pr�dite svm    0    1     2    3   All\n",
       "Classe r�elle                                \n",
       "0                   752  195    27    4   978\n",
       "1                   191  474   267   29   961\n",
       "2                    28  169   561  142   900\n",
       "3                     3   24   171  583   781\n",
       "All                 974  862  1026  758  3620"
      ]
     },
     "execution_count": 79,
     "metadata": {},
     "output_type": "execute_result"
    }
   ],
   "source": [
    "# Calcul et affichage de classification_report\n",
    "\n",
    "\n",
    "y_pred = grid_svm.predict(X_test_scaled)\n",
    "print( classification_report(y_test, y_pred) )\n",
    "\n",
    "\n",
    "## matrice de confusion\n",
    "y_pred = grid_svm.predict(X_test_scaled)\n",
    "\n",
    "confusion_matrix=pd.crosstab(np.array(y_test), np.array(y_pred), rownames=['Classe r�elle'],\n",
    "                             colnames=['Classe pr�dite svm'],margins=True)\n",
    "confusion_matrix\n"
   ]
  },
  {
   "cell_type": "markdown",
   "id": "18217bd5",
   "metadata": {},
   "source": [
    "Random Forest"
   ]
  },
  {
   "cell_type": "code",
   "execution_count": 80,
   "id": "5fdf3c66",
   "metadata": {},
   "outputs": [],
   "source": [
    "# Algorithme Random Forest\n",
    "rf = ensemble.RandomForestClassifier()"
   ]
  },
  {
   "cell_type": "code",
   "execution_count": 81,
   "id": "b5096283",
   "metadata": {},
   "outputs": [
    {
     "data": {
      "text/plain": [
       "GridSearchCV(estimator=RandomForestClassifier(),\n",
       "             param_grid={'max_features': ['auto', 'sqrt', 'log2', None],\n",
       "                         'min_samples_split': range(2, 50)})"
      ]
     },
     "execution_count": 81,
     "metadata": {},
     "output_type": "execute_result"
    }
   ],
   "source": [
    "grid_rf = model_selection.GridSearchCV(estimator=rf, param_grid={\n",
    "                                                                'max_features':\n",
    "                                                                         ['auto','sqrt','log2',None],\n",
    "                                                                'min_samples_split': range(2, 50)\n",
    "                                                                }\n",
    "                                      )\n",
    "grid_rf.fit(X_train_scaled, y_train)"
   ]
  },
  {
   "cell_type": "code",
   "execution_count": 82,
   "id": "a3e7bae6",
   "metadata": {},
   "outputs": [
    {
     "data": {
      "text/plain": [
       "{'max_features': 'log2', 'min_samples_split': 44}"
      ]
     },
     "execution_count": 82,
     "metadata": {},
     "output_type": "execute_result"
    }
   ],
   "source": [
    "grid_rf.best_params_ ### Param�tres retenus"
   ]
  },
  {
   "cell_type": "code",
   "execution_count": 83,
   "id": "94ace5bc",
   "metadata": {},
   "outputs": [
    {
     "data": {
      "text/plain": [
       "0.651657458563536"
      ]
     },
     "execution_count": 83,
     "metadata": {},
     "output_type": "execute_result"
    }
   ],
   "source": [
    "grid_rf.score(X_test_scaled,y_test) ## taux de bien class�s"
   ]
  },
  {
   "cell_type": "code",
   "execution_count": 84,
   "id": "4c5a5b9b",
   "metadata": {},
   "outputs": [
    {
     "name": "stdout",
     "output_type": "stream",
     "text": [
      "              precision    recall  f1-score   support\n",
      "\n",
      "           0       0.77      0.77      0.77       978\n",
      "           1       0.55      0.49      0.52       961\n",
      "           2       0.55      0.62      0.58       900\n",
      "           3       0.77      0.75      0.76       781\n",
      "\n",
      "    accuracy                           0.65      3620\n",
      "   macro avg       0.66      0.66      0.66      3620\n",
      "weighted avg       0.66      0.65      0.65      3620\n",
      "\n"
     ]
    },
    {
     "data": {
      "text/html": [
       "<div>\n",
       "<style scoped>\n",
       "    .dataframe tbody tr th:only-of-type {\n",
       "        vertical-align: middle;\n",
       "    }\n",
       "\n",
       "    .dataframe tbody tr th {\n",
       "        vertical-align: top;\n",
       "    }\n",
       "\n",
       "    .dataframe thead th {\n",
       "        text-align: right;\n",
       "    }\n",
       "</style>\n",
       "<table border=\"1\" class=\"dataframe\">\n",
       "  <thead>\n",
       "    <tr style=\"text-align: right;\">\n",
       "      <th>Classe pr�dite svm</th>\n",
       "      <th>0</th>\n",
       "      <th>1</th>\n",
       "      <th>2</th>\n",
       "      <th>3</th>\n",
       "      <th>All</th>\n",
       "    </tr>\n",
       "    <tr>\n",
       "      <th>Classe r�elle</th>\n",
       "      <th></th>\n",
       "      <th></th>\n",
       "      <th></th>\n",
       "      <th></th>\n",
       "      <th></th>\n",
       "    </tr>\n",
       "  </thead>\n",
       "  <tbody>\n",
       "    <tr>\n",
       "      <th>0</th>\n",
       "      <td>752</td>\n",
       "      <td>195</td>\n",
       "      <td>27</td>\n",
       "      <td>4</td>\n",
       "      <td>978</td>\n",
       "    </tr>\n",
       "    <tr>\n",
       "      <th>1</th>\n",
       "      <td>191</td>\n",
       "      <td>474</td>\n",
       "      <td>267</td>\n",
       "      <td>29</td>\n",
       "      <td>961</td>\n",
       "    </tr>\n",
       "    <tr>\n",
       "      <th>2</th>\n",
       "      <td>28</td>\n",
       "      <td>169</td>\n",
       "      <td>561</td>\n",
       "      <td>142</td>\n",
       "      <td>900</td>\n",
       "    </tr>\n",
       "    <tr>\n",
       "      <th>3</th>\n",
       "      <td>3</td>\n",
       "      <td>24</td>\n",
       "      <td>171</td>\n",
       "      <td>583</td>\n",
       "      <td>781</td>\n",
       "    </tr>\n",
       "    <tr>\n",
       "      <th>All</th>\n",
       "      <td>974</td>\n",
       "      <td>862</td>\n",
       "      <td>1026</td>\n",
       "      <td>758</td>\n",
       "      <td>3620</td>\n",
       "    </tr>\n",
       "  </tbody>\n",
       "</table>\n",
       "</div>"
      ],
      "text/plain": [
       "Classe pr�dite svm    0    1     2    3   All\n",
       "Classe r�elle                                \n",
       "0                   752  195    27    4   978\n",
       "1                   191  474   267   29   961\n",
       "2                    28  169   561  142   900\n",
       "3                     3   24   171  583   781\n",
       "All                 974  862  1026  758  3620"
      ]
     },
     "execution_count": 84,
     "metadata": {},
     "output_type": "execute_result"
    }
   ],
   "source": [
    "from sklearn.metrics import classification_report\n",
    "\n",
    "# Calcul et affichage de classification_report\n",
    "\n",
    "\n",
    "y_pred = grid_svm.predict(X_test_scaled)\n",
    "print( classification_report(y_test, y_pred) )\n",
    "\n",
    "\n",
    "## matrice de confusion\n",
    "y_pred = grid_svm.predict(X_test_scaled)\n",
    "\n",
    "confusion_matrix=pd.crosstab(np.array(y_test), np.array(y_pred), rownames=['Classe r�elle'],\n",
    "                             colnames=['Classe pr�dite svm'],margins=True)\n",
    "confusion_matrix\n"
   ]
  },
  {
   "cell_type": "code",
   "execution_count": 85,
   "id": "27416613",
   "metadata": {},
   "outputs": [],
   "source": [
    "from sklearn.ensemble import RandomForestRegressor\n",
    "from sklearn.inspection import permutation_importance\n",
    "from matplotlib import pyplot as plt"
   ]
  },
  {
   "cell_type": "code",
   "execution_count": 86,
   "id": "beccd5e0",
   "metadata": {},
   "outputs": [
    {
     "data": {
      "text/plain": [
       "RandomForestRegressor(n_estimators=50)"
      ]
     },
     "execution_count": 86,
     "metadata": {},
     "output_type": "execute_result"
    }
   ],
   "source": [
    "rf = RandomForestRegressor(n_estimators=50)\n",
    "rf.fit(X_train, y_train)"
   ]
  },
  {
   "cell_type": "code",
   "execution_count": 87,
   "id": "d56f228c",
   "metadata": {},
   "outputs": [
    {
     "data": {
      "text/plain": [
       "array([0.02063662, 0.01919845, 0.02046026, 0.00505061, 0.00146003,\n",
       "       0.00515636, 0.00804735, 0.00606936, 0.0315421 , 0.03215957,\n",
       "       0.04120852, 0.06219251, 0.        , 0.02729425, 0.02859042,\n",
       "       0.69093359])"
      ]
     },
     "execution_count": 87,
     "metadata": {},
     "output_type": "execute_result"
    }
   ],
   "source": [
    "rf.feature_importances_"
   ]
  },
  {
   "cell_type": "code",
   "execution_count": 88,
   "id": "6edf6b20",
   "metadata": {},
   "outputs": [
    {
     "data": {
      "text/html": [
       "<div>\n",
       "<style scoped>\n",
       "    .dataframe tbody tr th:only-of-type {\n",
       "        vertical-align: middle;\n",
       "    }\n",
       "\n",
       "    .dataframe tbody tr th {\n",
       "        vertical-align: top;\n",
       "    }\n",
       "\n",
       "    .dataframe thead th {\n",
       "        text-align: right;\n",
       "    }\n",
       "</style>\n",
       "<table border=\"1\" class=\"dataframe\">\n",
       "  <thead>\n",
       "    <tr style=\"text-align: right;\">\n",
       "      <th></th>\n",
       "      <th>Importance</th>\n",
       "    </tr>\n",
       "  </thead>\n",
       "  <tbody>\n",
       "    <tr>\n",
       "      <th>proba_elo</th>\n",
       "      <td>0.690934</td>\n",
       "    </tr>\n",
       "    <tr>\n",
       "      <th>LRank</th>\n",
       "      <td>0.062193</td>\n",
       "    </tr>\n",
       "    <tr>\n",
       "      <th>WRank</th>\n",
       "      <td>0.041209</td>\n",
       "    </tr>\n",
       "    <tr>\n",
       "      <th>Loser</th>\n",
       "      <td>0.032160</td>\n",
       "    </tr>\n",
       "    <tr>\n",
       "      <th>Winner</th>\n",
       "      <td>0.031542</td>\n",
       "    </tr>\n",
       "    <tr>\n",
       "      <th>elo_loser</th>\n",
       "      <td>0.028590</td>\n",
       "    </tr>\n",
       "    <tr>\n",
       "      <th>elo_winner</th>\n",
       "      <td>0.027294</td>\n",
       "    </tr>\n",
       "    <tr>\n",
       "      <th>ATP</th>\n",
       "      <td>0.020637</td>\n",
       "    </tr>\n",
       "    <tr>\n",
       "      <th>Tournament</th>\n",
       "      <td>0.020460</td>\n",
       "    </tr>\n",
       "    <tr>\n",
       "      <th>Location</th>\n",
       "      <td>0.019198</td>\n",
       "    </tr>\n",
       "    <tr>\n",
       "      <th>Round</th>\n",
       "      <td>0.008047</td>\n",
       "    </tr>\n",
       "    <tr>\n",
       "      <th>Best of</th>\n",
       "      <td>0.006069</td>\n",
       "    </tr>\n",
       "    <tr>\n",
       "      <th>Surface</th>\n",
       "      <td>0.005156</td>\n",
       "    </tr>\n",
       "    <tr>\n",
       "      <th>Series</th>\n",
       "      <td>0.005051</td>\n",
       "    </tr>\n",
       "    <tr>\n",
       "      <th>Court</th>\n",
       "      <td>0.001460</td>\n",
       "    </tr>\n",
       "    <tr>\n",
       "      <th>Comment</th>\n",
       "      <td>0.000000</td>\n",
       "    </tr>\n",
       "  </tbody>\n",
       "</table>\n",
       "</div>"
      ],
      "text/plain": [
       "            Importance\n",
       "proba_elo     0.690934\n",
       "LRank         0.062193\n",
       "WRank         0.041209\n",
       "Loser         0.032160\n",
       "Winner        0.031542\n",
       "elo_loser     0.028590\n",
       "elo_winner    0.027294\n",
       "ATP           0.020637\n",
       "Tournament    0.020460\n",
       "Location      0.019198\n",
       "Round         0.008047\n",
       "Best of       0.006069\n",
       "Surface       0.005156\n",
       "Series        0.005051\n",
       "Court         0.001460\n",
       "Comment       0.000000"
      ]
     },
     "execution_count": 88,
     "metadata": {},
     "output_type": "execute_result"
    }
   ],
   "source": [
    "feats = {}\n",
    "for feature, importance in zip(X.columns, rf.feature_importances_):\n",
    "       feats[feature] = importance \n",
    "    \n",
    "importances = pd.DataFrame.from_dict(feats, orient='index').rename(columns={0: 'Importance'})\n",
    "importances.sort_values(by='Importance', ascending=False).head(16)"
   ]
  },
  {
   "cell_type": "markdown",
   "id": "91b8e0ab",
   "metadata": {},
   "source": [
    "Regression logistique"
   ]
  },
  {
   "cell_type": "code",
   "execution_count": 67,
   "id": "f6e494cb",
   "metadata": {},
   "outputs": [],
   "source": [
    "import sklearn\n",
    "from sklearn import linear_model\n",
    "from sklearn.linear_model import LogisticRegression"
   ]
  },
  {
   "cell_type": "code",
   "execution_count": 68,
   "id": "f02fd8c7",
   "metadata": {},
   "outputs": [
    {
     "name": "stderr",
     "output_type": "stream",
     "text": [
      "C:\\Program Files\\Anaconda3\\lib\\site-packages\\sklearn\\model_selection\\_validation.py:610: FitFailedWarning: Estimator fit failed. The score on this train-test partition for these parameters will be set to nan. Details: \n",
      "Traceback (most recent call last):\n",
      "  File \"C:\\Program Files\\Anaconda3\\lib\\site-packages\\sklearn\\model_selection\\_validation.py\", line 593, in _fit_and_score\n",
      "    estimator.fit(X_train, y_train, **fit_params)\n",
      "  File \"C:\\Program Files\\Anaconda3\\lib\\site-packages\\sklearn\\linear_model\\_logistic.py\", line 1306, in fit\n",
      "    solver = _check_solver(self.solver, self.penalty, self.dual)\n",
      "  File \"C:\\Program Files\\Anaconda3\\lib\\site-packages\\sklearn\\linear_model\\_logistic.py\", line 443, in _check_solver\n",
      "    raise ValueError(\"Solver %s supports only 'l2' or 'none' penalties, \"\n",
      "ValueError: Solver lbfgs supports only 'l2' or 'none' penalties, got l1 penalty.\n",
      "\n",
      "  warnings.warn(\"Estimator fit failed. The score on this train-test\"\n",
      "C:\\Program Files\\Anaconda3\\lib\\site-packages\\sklearn\\model_selection\\_validation.py:610: FitFailedWarning: Estimator fit failed. The score on this train-test partition for these parameters will be set to nan. Details: \n",
      "Traceback (most recent call last):\n",
      "  File \"C:\\Program Files\\Anaconda3\\lib\\site-packages\\sklearn\\model_selection\\_validation.py\", line 593, in _fit_and_score\n",
      "    estimator.fit(X_train, y_train, **fit_params)\n",
      "  File \"C:\\Program Files\\Anaconda3\\lib\\site-packages\\sklearn\\linear_model\\_logistic.py\", line 1306, in fit\n",
      "    solver = _check_solver(self.solver, self.penalty, self.dual)\n",
      "  File \"C:\\Program Files\\Anaconda3\\lib\\site-packages\\sklearn\\linear_model\\_logistic.py\", line 443, in _check_solver\n",
      "    raise ValueError(\"Solver %s supports only 'l2' or 'none' penalties, \"\n",
      "ValueError: Solver lbfgs supports only 'l2' or 'none' penalties, got l1 penalty.\n",
      "\n",
      "  warnings.warn(\"Estimator fit failed. The score on this train-test\"\n",
      "C:\\Program Files\\Anaconda3\\lib\\site-packages\\sklearn\\model_selection\\_validation.py:610: FitFailedWarning: Estimator fit failed. The score on this train-test partition for these parameters will be set to nan. Details: \n",
      "Traceback (most recent call last):\n",
      "  File \"C:\\Program Files\\Anaconda3\\lib\\site-packages\\sklearn\\model_selection\\_validation.py\", line 593, in _fit_and_score\n",
      "    estimator.fit(X_train, y_train, **fit_params)\n",
      "  File \"C:\\Program Files\\Anaconda3\\lib\\site-packages\\sklearn\\linear_model\\_logistic.py\", line 1306, in fit\n",
      "    solver = _check_solver(self.solver, self.penalty, self.dual)\n",
      "  File \"C:\\Program Files\\Anaconda3\\lib\\site-packages\\sklearn\\linear_model\\_logistic.py\", line 443, in _check_solver\n",
      "    raise ValueError(\"Solver %s supports only 'l2' or 'none' penalties, \"\n",
      "ValueError: Solver lbfgs supports only 'l2' or 'none' penalties, got l1 penalty.\n",
      "\n",
      "  warnings.warn(\"Estimator fit failed. The score on this train-test\"\n",
      "C:\\Program Files\\Anaconda3\\lib\\site-packages\\sklearn\\model_selection\\_validation.py:610: FitFailedWarning: Estimator fit failed. The score on this train-test partition for these parameters will be set to nan. Details: \n",
      "Traceback (most recent call last):\n",
      "  File \"C:\\Program Files\\Anaconda3\\lib\\site-packages\\sklearn\\model_selection\\_validation.py\", line 593, in _fit_and_score\n",
      "    estimator.fit(X_train, y_train, **fit_params)\n",
      "  File \"C:\\Program Files\\Anaconda3\\lib\\site-packages\\sklearn\\linear_model\\_logistic.py\", line 1306, in fit\n",
      "    solver = _check_solver(self.solver, self.penalty, self.dual)\n",
      "  File \"C:\\Program Files\\Anaconda3\\lib\\site-packages\\sklearn\\linear_model\\_logistic.py\", line 443, in _check_solver\n",
      "    raise ValueError(\"Solver %s supports only 'l2' or 'none' penalties, \"\n",
      "ValueError: Solver lbfgs supports only 'l2' or 'none' penalties, got l1 penalty.\n",
      "\n",
      "  warnings.warn(\"Estimator fit failed. The score on this train-test\"\n",
      "C:\\Program Files\\Anaconda3\\lib\\site-packages\\sklearn\\model_selection\\_validation.py:610: FitFailedWarning: Estimator fit failed. The score on this train-test partition for these parameters will be set to nan. Details: \n",
      "Traceback (most recent call last):\n",
      "  File \"C:\\Program Files\\Anaconda3\\lib\\site-packages\\sklearn\\model_selection\\_validation.py\", line 593, in _fit_and_score\n",
      "    estimator.fit(X_train, y_train, **fit_params)\n",
      "  File \"C:\\Program Files\\Anaconda3\\lib\\site-packages\\sklearn\\linear_model\\_logistic.py\", line 1306, in fit\n",
      "    solver = _check_solver(self.solver, self.penalty, self.dual)\n",
      "  File \"C:\\Program Files\\Anaconda3\\lib\\site-packages\\sklearn\\linear_model\\_logistic.py\", line 443, in _check_solver\n",
      "    raise ValueError(\"Solver %s supports only 'l2' or 'none' penalties, \"\n",
      "ValueError: Solver lbfgs supports only 'l2' or 'none' penalties, got l1 penalty.\n",
      "\n",
      "  warnings.warn(\"Estimator fit failed. The score on this train-test\"\n",
      "C:\\Program Files\\Anaconda3\\lib\\site-packages\\sklearn\\linear_model\\_logistic.py:763: ConvergenceWarning: lbfgs failed to converge (status=1):\n",
      "STOP: TOTAL NO. of ITERATIONS REACHED LIMIT.\n",
      "\n",
      "Increase the number of iterations (max_iter) or scale the data as shown in:\n",
      "    https://scikit-learn.org/stable/modules/preprocessing.html\n",
      "Please also refer to the documentation for alternative solver options:\n",
      "    https://scikit-learn.org/stable/modules/linear_model.html#logistic-regression\n",
      "  n_iter_i = _check_optimize_result(\n",
      "C:\\Program Files\\Anaconda3\\lib\\site-packages\\sklearn\\linear_model\\_logistic.py:763: ConvergenceWarning: lbfgs failed to converge (status=1):\n",
      "STOP: TOTAL NO. of ITERATIONS REACHED LIMIT.\n",
      "\n",
      "Increase the number of iterations (max_iter) or scale the data as shown in:\n",
      "    https://scikit-learn.org/stable/modules/preprocessing.html\n",
      "Please also refer to the documentation for alternative solver options:\n",
      "    https://scikit-learn.org/stable/modules/linear_model.html#logistic-regression\n",
      "  n_iter_i = _check_optimize_result(\n",
      "C:\\Program Files\\Anaconda3\\lib\\site-packages\\sklearn\\linear_model\\_logistic.py:763: ConvergenceWarning: lbfgs failed to converge (status=1):\n",
      "STOP: TOTAL NO. of ITERATIONS REACHED LIMIT.\n",
      "\n",
      "Increase the number of iterations (max_iter) or scale the data as shown in:\n",
      "    https://scikit-learn.org/stable/modules/preprocessing.html\n",
      "Please also refer to the documentation for alternative solver options:\n",
      "    https://scikit-learn.org/stable/modules/linear_model.html#logistic-regression\n",
      "  n_iter_i = _check_optimize_result(\n",
      "C:\\Program Files\\Anaconda3\\lib\\site-packages\\sklearn\\linear_model\\_logistic.py:763: ConvergenceWarning: lbfgs failed to converge (status=1):\n",
      "STOP: TOTAL NO. of ITERATIONS REACHED LIMIT.\n",
      "\n",
      "Increase the number of iterations (max_iter) or scale the data as shown in:\n",
      "    https://scikit-learn.org/stable/modules/preprocessing.html\n",
      "Please also refer to the documentation for alternative solver options:\n",
      "    https://scikit-learn.org/stable/modules/linear_model.html#logistic-regression\n",
      "  n_iter_i = _check_optimize_result(\n",
      "C:\\Program Files\\Anaconda3\\lib\\site-packages\\sklearn\\model_selection\\_validation.py:610: FitFailedWarning: Estimator fit failed. The score on this train-test partition for these parameters will be set to nan. Details: \n",
      "Traceback (most recent call last):\n",
      "  File \"C:\\Program Files\\Anaconda3\\lib\\site-packages\\sklearn\\model_selection\\_validation.py\", line 593, in _fit_and_score\n",
      "    estimator.fit(X_train, y_train, **fit_params)\n",
      "  File \"C:\\Program Files\\Anaconda3\\lib\\site-packages\\sklearn\\linear_model\\_logistic.py\", line 1306, in fit\n",
      "    solver = _check_solver(self.solver, self.penalty, self.dual)\n",
      "  File \"C:\\Program Files\\Anaconda3\\lib\\site-packages\\sklearn\\linear_model\\_logistic.py\", line 443, in _check_solver\n",
      "    raise ValueError(\"Solver %s supports only 'l2' or 'none' penalties, \"\n",
      "ValueError: Solver lbfgs supports only 'l2' or 'none' penalties, got elasticnet penalty.\n",
      "\n",
      "  warnings.warn(\"Estimator fit failed. The score on this train-test\"\n",
      "C:\\Program Files\\Anaconda3\\lib\\site-packages\\sklearn\\model_selection\\_validation.py:610: FitFailedWarning: Estimator fit failed. The score on this train-test partition for these parameters will be set to nan. Details: \n",
      "Traceback (most recent call last):\n",
      "  File \"C:\\Program Files\\Anaconda3\\lib\\site-packages\\sklearn\\model_selection\\_validation.py\", line 593, in _fit_and_score\n",
      "    estimator.fit(X_train, y_train, **fit_params)\n",
      "  File \"C:\\Program Files\\Anaconda3\\lib\\site-packages\\sklearn\\linear_model\\_logistic.py\", line 1306, in fit\n",
      "    solver = _check_solver(self.solver, self.penalty, self.dual)\n",
      "  File \"C:\\Program Files\\Anaconda3\\lib\\site-packages\\sklearn\\linear_model\\_logistic.py\", line 443, in _check_solver\n",
      "    raise ValueError(\"Solver %s supports only 'l2' or 'none' penalties, \"\n",
      "ValueError: Solver lbfgs supports only 'l2' or 'none' penalties, got elasticnet penalty.\n",
      "\n",
      "  warnings.warn(\"Estimator fit failed. The score on this train-test\"\n",
      "C:\\Program Files\\Anaconda3\\lib\\site-packages\\sklearn\\model_selection\\_validation.py:610: FitFailedWarning: Estimator fit failed. The score on this train-test partition for these parameters will be set to nan. Details: \n",
      "Traceback (most recent call last):\n",
      "  File \"C:\\Program Files\\Anaconda3\\lib\\site-packages\\sklearn\\model_selection\\_validation.py\", line 593, in _fit_and_score\n",
      "    estimator.fit(X_train, y_train, **fit_params)\n",
      "  File \"C:\\Program Files\\Anaconda3\\lib\\site-packages\\sklearn\\linear_model\\_logistic.py\", line 1306, in fit\n",
      "    solver = _check_solver(self.solver, self.penalty, self.dual)\n",
      "  File \"C:\\Program Files\\Anaconda3\\lib\\site-packages\\sklearn\\linear_model\\_logistic.py\", line 443, in _check_solver\n",
      "    raise ValueError(\"Solver %s supports only 'l2' or 'none' penalties, \"\n",
      "ValueError: Solver lbfgs supports only 'l2' or 'none' penalties, got elasticnet penalty.\n",
      "\n",
      "  warnings.warn(\"Estimator fit failed. The score on this train-test\"\n",
      "C:\\Program Files\\Anaconda3\\lib\\site-packages\\sklearn\\model_selection\\_validation.py:610: FitFailedWarning: Estimator fit failed. The score on this train-test partition for these parameters will be set to nan. Details: \n",
      "Traceback (most recent call last):\n",
      "  File \"C:\\Program Files\\Anaconda3\\lib\\site-packages\\sklearn\\model_selection\\_validation.py\", line 593, in _fit_and_score\n",
      "    estimator.fit(X_train, y_train, **fit_params)\n",
      "  File \"C:\\Program Files\\Anaconda3\\lib\\site-packages\\sklearn\\linear_model\\_logistic.py\", line 1306, in fit\n",
      "    solver = _check_solver(self.solver, self.penalty, self.dual)\n",
      "  File \"C:\\Program Files\\Anaconda3\\lib\\site-packages\\sklearn\\linear_model\\_logistic.py\", line 443, in _check_solver\n",
      "    raise ValueError(\"Solver %s supports only 'l2' or 'none' penalties, \"\n",
      "ValueError: Solver lbfgs supports only 'l2' or 'none' penalties, got elasticnet penalty.\n",
      "\n",
      "  warnings.warn(\"Estimator fit failed. The score on this train-test\"\n",
      "C:\\Program Files\\Anaconda3\\lib\\site-packages\\sklearn\\model_selection\\_validation.py:610: FitFailedWarning: Estimator fit failed. The score on this train-test partition for these parameters will be set to nan. Details: \n",
      "Traceback (most recent call last):\n",
      "  File \"C:\\Program Files\\Anaconda3\\lib\\site-packages\\sklearn\\model_selection\\_validation.py\", line 593, in _fit_and_score\n",
      "    estimator.fit(X_train, y_train, **fit_params)\n",
      "  File \"C:\\Program Files\\Anaconda3\\lib\\site-packages\\sklearn\\linear_model\\_logistic.py\", line 1306, in fit\n",
      "    solver = _check_solver(self.solver, self.penalty, self.dual)\n",
      "  File \"C:\\Program Files\\Anaconda3\\lib\\site-packages\\sklearn\\linear_model\\_logistic.py\", line 443, in _check_solver\n",
      "    raise ValueError(\"Solver %s supports only 'l2' or 'none' penalties, \"\n",
      "ValueError: Solver lbfgs supports only 'l2' or 'none' penalties, got elasticnet penalty.\n",
      "\n",
      "  warnings.warn(\"Estimator fit failed. The score on this train-test\"\n",
      "C:\\Program Files\\Anaconda3\\lib\\site-packages\\sklearn\\model_selection\\_validation.py:610: FitFailedWarning: Estimator fit failed. The score on this train-test partition for these parameters will be set to nan. Details: \n",
      "Traceback (most recent call last):\n",
      "  File \"C:\\Program Files\\Anaconda3\\lib\\site-packages\\sklearn\\model_selection\\_validation.py\", line 593, in _fit_and_score\n",
      "    estimator.fit(X_train, y_train, **fit_params)\n",
      "  File \"C:\\Program Files\\Anaconda3\\lib\\site-packages\\sklearn\\linear_model\\_logistic.py\", line 1306, in fit\n",
      "    solver = _check_solver(self.solver, self.penalty, self.dual)\n",
      "  File \"C:\\Program Files\\Anaconda3\\lib\\site-packages\\sklearn\\linear_model\\_logistic.py\", line 439, in _check_solver\n",
      "    raise ValueError(\"Logistic Regression supports only penalties in %s,\"\n",
      "ValueError: Logistic Regression supports only penalties in ['l1', 'l2', 'elasticnet', 'none'], got None.\n",
      "\n",
      "  warnings.warn(\"Estimator fit failed. The score on this train-test\"\n",
      "C:\\Program Files\\Anaconda3\\lib\\site-packages\\sklearn\\model_selection\\_validation.py:610: FitFailedWarning: Estimator fit failed. The score on this train-test partition for these parameters will be set to nan. Details: \n",
      "Traceback (most recent call last):\n",
      "  File \"C:\\Program Files\\Anaconda3\\lib\\site-packages\\sklearn\\model_selection\\_validation.py\", line 593, in _fit_and_score\n",
      "    estimator.fit(X_train, y_train, **fit_params)\n",
      "  File \"C:\\Program Files\\Anaconda3\\lib\\site-packages\\sklearn\\linear_model\\_logistic.py\", line 1306, in fit\n",
      "    solver = _check_solver(self.solver, self.penalty, self.dual)\n",
      "  File \"C:\\Program Files\\Anaconda3\\lib\\site-packages\\sklearn\\linear_model\\_logistic.py\", line 439, in _check_solver\n",
      "    raise ValueError(\"Logistic Regression supports only penalties in %s,\"\n",
      "ValueError: Logistic Regression supports only penalties in ['l1', 'l2', 'elasticnet', 'none'], got None.\n",
      "\n",
      "  warnings.warn(\"Estimator fit failed. The score on this train-test\"\n",
      "C:\\Program Files\\Anaconda3\\lib\\site-packages\\sklearn\\model_selection\\_validation.py:610: FitFailedWarning: Estimator fit failed. The score on this train-test partition for these parameters will be set to nan. Details: \n",
      "Traceback (most recent call last):\n",
      "  File \"C:\\Program Files\\Anaconda3\\lib\\site-packages\\sklearn\\model_selection\\_validation.py\", line 593, in _fit_and_score\n",
      "    estimator.fit(X_train, y_train, **fit_params)\n",
      "  File \"C:\\Program Files\\Anaconda3\\lib\\site-packages\\sklearn\\linear_model\\_logistic.py\", line 1306, in fit\n",
      "    solver = _check_solver(self.solver, self.penalty, self.dual)\n",
      "  File \"C:\\Program Files\\Anaconda3\\lib\\site-packages\\sklearn\\linear_model\\_logistic.py\", line 439, in _check_solver\n",
      "    raise ValueError(\"Logistic Regression supports only penalties in %s,\"\n",
      "ValueError: Logistic Regression supports only penalties in ['l1', 'l2', 'elasticnet', 'none'], got None.\n",
      "\n",
      "  warnings.warn(\"Estimator fit failed. The score on this train-test\"\n",
      "C:\\Program Files\\Anaconda3\\lib\\site-packages\\sklearn\\model_selection\\_validation.py:610: FitFailedWarning: Estimator fit failed. The score on this train-test partition for these parameters will be set to nan. Details: \n",
      "Traceback (most recent call last):\n",
      "  File \"C:\\Program Files\\Anaconda3\\lib\\site-packages\\sklearn\\model_selection\\_validation.py\", line 593, in _fit_and_score\n",
      "    estimator.fit(X_train, y_train, **fit_params)\n",
      "  File \"C:\\Program Files\\Anaconda3\\lib\\site-packages\\sklearn\\linear_model\\_logistic.py\", line 1306, in fit\n",
      "    solver = _check_solver(self.solver, self.penalty, self.dual)\n",
      "  File \"C:\\Program Files\\Anaconda3\\lib\\site-packages\\sklearn\\linear_model\\_logistic.py\", line 439, in _check_solver\n",
      "    raise ValueError(\"Logistic Regression supports only penalties in %s,\"\n",
      "ValueError: Logistic Regression supports only penalties in ['l1', 'l2', 'elasticnet', 'none'], got None.\n",
      "\n",
      "  warnings.warn(\"Estimator fit failed. The score on this train-test\"\n",
      "C:\\Program Files\\Anaconda3\\lib\\site-packages\\sklearn\\model_selection\\_validation.py:610: FitFailedWarning: Estimator fit failed. The score on this train-test partition for these parameters will be set to nan. Details: \n",
      "Traceback (most recent call last):\n",
      "  File \"C:\\Program Files\\Anaconda3\\lib\\site-packages\\sklearn\\model_selection\\_validation.py\", line 593, in _fit_and_score\n",
      "    estimator.fit(X_train, y_train, **fit_params)\n",
      "  File \"C:\\Program Files\\Anaconda3\\lib\\site-packages\\sklearn\\linear_model\\_logistic.py\", line 1306, in fit\n",
      "    solver = _check_solver(self.solver, self.penalty, self.dual)\n",
      "  File \"C:\\Program Files\\Anaconda3\\lib\\site-packages\\sklearn\\linear_model\\_logistic.py\", line 439, in _check_solver\n",
      "    raise ValueError(\"Logistic Regression supports only penalties in %s,\"\n",
      "ValueError: Logistic Regression supports only penalties in ['l1', 'l2', 'elasticnet', 'none'], got None.\n",
      "\n",
      "  warnings.warn(\"Estimator fit failed. The score on this train-test\"\n",
      "C:\\Program Files\\Anaconda3\\lib\\site-packages\\sklearn\\model_selection\\_search.py:918: UserWarning: One or more of the test scores are non-finite: [       nan 0.62411707        nan        nan]\n",
      "  warnings.warn(\n"
     ]
    },
    {
     "name": "stderr",
     "output_type": "stream",
     "text": [
      "C:\\Program Files\\Anaconda3\\lib\\site-packages\\sklearn\\linear_model\\_logistic.py:763: ConvergenceWarning: lbfgs failed to converge (status=1):\n",
      "STOP: TOTAL NO. of ITERATIONS REACHED LIMIT.\n",
      "\n",
      "Increase the number of iterations (max_iter) or scale the data as shown in:\n",
      "    https://scikit-learn.org/stable/modules/preprocessing.html\n",
      "Please also refer to the documentation for alternative solver options:\n",
      "    https://scikit-learn.org/stable/modules/linear_model.html#logistic-regression\n",
      "  n_iter_i = _check_optimize_result(\n",
      "C:\\Program Files\\Anaconda3\\lib\\site-packages\\sklearn\\linear_model\\_logistic.py:763: ConvergenceWarning: lbfgs failed to converge (status=1):\n",
      "STOP: TOTAL NO. of ITERATIONS REACHED LIMIT.\n",
      "\n",
      "Increase the number of iterations (max_iter) or scale the data as shown in:\n",
      "    https://scikit-learn.org/stable/modules/preprocessing.html\n",
      "Please also refer to the documentation for alternative solver options:\n",
      "    https://scikit-learn.org/stable/modules/linear_model.html#logistic-regression\n",
      "  n_iter_i = _check_optimize_result(\n"
     ]
    }
   ],
   "source": [
    "#Avec la regression logique \n",
    "\n",
    "clf = LogisticRegression()\n",
    "parametres={'C':[1.0],'tol':[0.0001],'max_iter':[100],           \n",
    "            'warm_start':[False] , 'n_jobs':[None],\n",
    "            'l1_ratio':[None],'penalty':['l1','l2','elasticnet', None],\n",
    "            'dual':[False],'fit_intercept':[True],\n",
    "            'intercept_scaling':[1], 'class_weight':[None],\n",
    "            'random_state':[None], 'solver':['lbfgs'],\n",
    "            'max_iter':[100], 'multi_class':['auto'],'verbose':[0]}\n",
    "grid_clf = model_selection.GridSearchCV(estimator=clf, param_grid=parametres)\n",
    "grid_clf.fit(X_train_scaled, y_train)\n",
    "\n",
    "clf.fit( X_train, y_train)\n",
    "y_pred = clf.predict(X_test)"
   ]
  },
  {
   "cell_type": "code",
   "execution_count": 69,
   "id": "1f4cef3c",
   "metadata": {},
   "outputs": [
    {
     "data": {
      "text/plain": [
       "{'C': 1.0,\n",
       " 'class_weight': None,\n",
       " 'dual': False,\n",
       " 'fit_intercept': True,\n",
       " 'intercept_scaling': 1,\n",
       " 'l1_ratio': None,\n",
       " 'max_iter': 100,\n",
       " 'multi_class': 'auto',\n",
       " 'n_jobs': None,\n",
       " 'penalty': 'l2',\n",
       " 'random_state': None,\n",
       " 'solver': 'lbfgs',\n",
       " 'tol': 0.0001,\n",
       " 'verbose': 0,\n",
       " 'warm_start': False}"
      ]
     },
     "execution_count": 69,
     "metadata": {},
     "output_type": "execute_result"
    }
   ],
   "source": [
    "grid_clf.best_params_ ### Param�tres retenus"
   ]
  },
  {
   "cell_type": "code",
   "execution_count": 70,
   "id": "2af3207b",
   "metadata": {},
   "outputs": [
    {
     "data": {
      "text/plain": [
       "0.6546961325966851"
      ]
     },
     "execution_count": 70,
     "metadata": {},
     "output_type": "execute_result"
    }
   ],
   "source": [
    "grid_clf.score(X_test_scaled, y_test) ## taux de bien class�s"
   ]
  },
  {
   "cell_type": "code",
   "execution_count": 71,
   "id": "a5bdea0b",
   "metadata": {},
   "outputs": [
    {
     "name": "stdout",
     "output_type": "stream",
     "text": [
      "              precision    recall  f1-score   support\n",
      "\n",
      "           0       0.77      0.77      0.77       978\n",
      "           1       0.54      0.51      0.52       961\n",
      "           2       0.52      0.54      0.53       900\n",
      "           3       0.71      0.74      0.72       781\n",
      "\n",
      "    accuracy                           0.63      3620\n",
      "   macro avg       0.63      0.64      0.64      3620\n",
      "weighted avg       0.63      0.63      0.63      3620\n",
      "\n"
     ]
    },
    {
     "data": {
      "text/html": [
       "<div>\n",
       "<style scoped>\n",
       "    .dataframe tbody tr th:only-of-type {\n",
       "        vertical-align: middle;\n",
       "    }\n",
       "\n",
       "    .dataframe tbody tr th {\n",
       "        vertical-align: top;\n",
       "    }\n",
       "\n",
       "    .dataframe thead th {\n",
       "        text-align: right;\n",
       "    }\n",
       "</style>\n",
       "<table border=\"1\" class=\"dataframe\">\n",
       "  <thead>\n",
       "    <tr style=\"text-align: right;\">\n",
       "      <th>Classe pr�dite clf</th>\n",
       "      <th>0</th>\n",
       "      <th>1</th>\n",
       "      <th>2</th>\n",
       "      <th>3</th>\n",
       "      <th>All</th>\n",
       "    </tr>\n",
       "    <tr>\n",
       "      <th>Classe r�elle</th>\n",
       "      <th></th>\n",
       "      <th></th>\n",
       "      <th></th>\n",
       "      <th></th>\n",
       "      <th></th>\n",
       "    </tr>\n",
       "  </thead>\n",
       "  <tbody>\n",
       "    <tr>\n",
       "      <th>0</th>\n",
       "      <td>750</td>\n",
       "      <td>199</td>\n",
       "      <td>28</td>\n",
       "      <td>1</td>\n",
       "      <td>978</td>\n",
       "    </tr>\n",
       "    <tr>\n",
       "      <th>1</th>\n",
       "      <td>198</td>\n",
       "      <td>486</td>\n",
       "      <td>247</td>\n",
       "      <td>30</td>\n",
       "      <td>961</td>\n",
       "    </tr>\n",
       "    <tr>\n",
       "      <th>2</th>\n",
       "      <td>24</td>\n",
       "      <td>190</td>\n",
       "      <td>482</td>\n",
       "      <td>204</td>\n",
       "      <td>900</td>\n",
       "    </tr>\n",
       "    <tr>\n",
       "      <th>3</th>\n",
       "      <td>5</td>\n",
       "      <td>22</td>\n",
       "      <td>177</td>\n",
       "      <td>577</td>\n",
       "      <td>781</td>\n",
       "    </tr>\n",
       "    <tr>\n",
       "      <th>All</th>\n",
       "      <td>977</td>\n",
       "      <td>897</td>\n",
       "      <td>934</td>\n",
       "      <td>812</td>\n",
       "      <td>3620</td>\n",
       "    </tr>\n",
       "  </tbody>\n",
       "</table>\n",
       "</div>"
      ],
      "text/plain": [
       "Classe pr�dite clf    0    1    2    3   All\n",
       "Classe r�elle                               \n",
       "0                   750  199   28    1   978\n",
       "1                   198  486  247   30   961\n",
       "2                    24  190  482  204   900\n",
       "3                     5   22  177  577   781\n",
       "All                 977  897  934  812  3620"
      ]
     },
     "execution_count": 71,
     "metadata": {},
     "output_type": "execute_result"
    }
   ],
   "source": [
    "#  Importer la classe classification_report\n",
    "from sklearn.metrics import classification_report\n",
    "\n",
    "# Calcul et affichage de classification_report\n",
    "print( classification_report(y_test, y_pred) )\n",
    "\n",
    "# Calcul et affichage de la matrice de confusion\n",
    "confusion_matrix = pd.crosstab(np.array(y_test), np.array(y_pred), rownames=['Classe r�elle'],\n",
    "                               colnames=['Classe pr�dite clf'],margins=True)\n",
    "confusion_matrix # mod�le LogisticRegression"
   ]
  },
  {
   "cell_type": "markdown",
   "id": "9f606fa4",
   "metadata": {},
   "source": [
    "## Evaluation des mod�les"
   ]
  },
  {
   "cell_type": "code",
   "execution_count": 75,
   "id": "f77d7c86",
   "metadata": {},
   "outputs": [
    {
     "name": "stdout",
     "output_type": "stream",
     "text": [
      "Le mod�le fournit la meilleure pr�cision est SVM & CLF avec 65,46%, contre\n",
      "Random forest(RF) avec 65,11% et KNN avec 61,02%\n"
     ]
    }
   ],
   "source": [
    "print ('Le mod�le fournit la meilleure pr�cision est SVM & CLF avec 65,46%, contre')\n",
    "print ('Random forest(RF) avec 65,11% et KNN avec 61,02%')"
   ]
  },
  {
   "cell_type": "markdown",
   "id": "fb7b9cfb",
   "metadata": {},
   "source": [
    "## Test sur le ROI des paris"
   ]
  },
  {
   "cell_type": "markdown",
   "id": "fdec6ef3",
   "metadata": {},
   "source": [
    "Disons qu'on parie 100� sur Djokovic avec une c�te de 1,3\n",
    "- S'il gagne, on repart avec nos 100� + 30� de b�n�fice => ROI de 30%\n",
    "- S'il perd on perd nos 100� => ROI de -100%\n"
   ]
  },
  {
   "cell_type": "code",
   "execution_count": 89,
   "id": "b35212bc",
   "metadata": {},
   "outputs": [
    {
     "name": "stdout",
     "output_type": "stream",
     "text": [
      "Si on parie sur tous les matches 100� sur Pinnacle on gagne en moyenne : 9.883310393453856 �/match si on a toujours bon\n",
      "Gains moyens sur les victoires : 191.32936236048184 �/match avec une proba moyenne de  0.6329844526673949 %\n",
      "Gains moyens sur les d�faites : 435.6051000110509 �/match avec une proba moyenne de  0.3910154361951676 %\n"
     ]
    }
   ],
   "source": [
    "\n",
    "budget=100\n",
    "dfroi=df.copy()\n",
    "dfroi['PSgain_si_Win_�']=(budget*dfroi['PSW'])\n",
    "dfroi['PSgain_si_Lose_�']=(budget*dfroi['PSL'])\n",
    "dfroi['PSperte_%']=1-(1/dfroi['PSW'])\n",
    "dfroi['PSroi']=((dfroi['PSgain_si_Win_�']*(1/dfroi['PSW']))-(dfroi['PSgain_si_Lose_�']*dfroi['PSperte_%'])) #La cote est une proba de victoire : on consid�re que c'est la proba de r�aliser le gain\n",
    "\n",
    "print('Si on parie sur tous les matches 100� sur Pinnacle on gagne en moyenne :',dfroi['PSroi'].mean(),'�/match si on a toujours bon')\n",
    "print('Gains moyens sur les victoires :',dfroi['PSgain_si_Win_�'].mean(),'�/match','avec une proba moyenne de ',(1/dfroi['PSW']).mean(),'%')\n",
    "print('Gains moyens sur les d�faites :',dfroi['PSgain_si_Lose_�'].mean(),'�/match','avec une proba moyenne de ',(1/dfroi['PSL']).mean(),'%')\n"
   ]
  },
  {
   "cell_type": "code",
   "execution_count": 90,
   "id": "bbbbf6dd",
   "metadata": {},
   "outputs": [
    {
     "name": "stdout",
     "output_type": "stream",
     "text": [
      "Si on parie sur tous les matches 100� sur Bet365 on gagne en moyenne  18.92938630219947 �/match si on a toujours bon\n",
      "Gains moyens sur les victoires : 182.15212178141226 �/match avec une proba moyenne de  0.6563200971970529 %\n",
      "Gains moyens sur les d�faites : 387.55269090507244 �/match avec une proba moyenne de  0.4108312878549511 %\n"
     ]
    }
   ],
   "source": [
    "dfroi['B365gain_si_Win_�']=(budget*dfroi['B365W'])\n",
    "dfroi['B365gain_si_Lose_�']=(budget*dfroi['B365L'])\n",
    "dfroi['B365perte_%']=1-(1/dfroi['B365W'])\n",
    "dfroi['B365roi']=((dfroi['B365gain_si_Win_�']*(1/dfroi['PSW']))-(dfroi['B365gain_si_Lose_�']*dfroi['B365perte_%'])) #La cote est une proba de victoire : on consid�re que c'est laproba de r�alsier le gain\n",
    "print('Si on parie sur tous les matches 100� sur Bet365 on gagne en moyenne ',dfroi['B365roi'].mean(),'�/match si on a toujours bon')\n",
    "print('Gains moyens sur les victoires :',dfroi['B365gain_si_Win_�'].mean(),'�/match','avec une proba moyenne de ',(1/dfroi['B365W']).mean(),'%')\n",
    "print('Gains moyens sur les d�faites :',dfroi['B365gain_si_Lose_�'].mean(),'�/match','avec une proba moyenne de ',(1/dfroi['B365L']).mean(),'%')\n"
   ]
  },
  {
   "cell_type": "code",
   "execution_count": 91,
   "id": "833bfbcb",
   "metadata": {},
   "outputs": [
    {
     "data": {
      "text/html": [
       "<div>\n",
       "<style scoped>\n",
       "    .dataframe tbody tr th:only-of-type {\n",
       "        vertical-align: middle;\n",
       "    }\n",
       "\n",
       "    .dataframe tbody tr th {\n",
       "        vertical-align: top;\n",
       "    }\n",
       "\n",
       "    .dataframe thead th {\n",
       "        text-align: right;\n",
       "    }\n",
       "</style>\n",
       "<table border=\"1\" class=\"dataframe\">\n",
       "  <thead>\n",
       "    <tr style=\"text-align: right;\">\n",
       "      <th></th>\n",
       "      <th>ATP</th>\n",
       "      <th>Location</th>\n",
       "      <th>Tournament</th>\n",
       "      <th>Date</th>\n",
       "      <th>Series</th>\n",
       "      <th>Court</th>\n",
       "      <th>Surface</th>\n",
       "      <th>Round</th>\n",
       "      <th>Best of</th>\n",
       "      <th>Winner</th>\n",
       "      <th>Loser</th>\n",
       "      <th>WRank</th>\n",
       "      <th>LRank</th>\n",
       "      <th>Wsets</th>\n",
       "      <th>Lsets</th>\n",
       "      <th>Comment</th>\n",
       "      <th>PSW</th>\n",
       "      <th>PSL</th>\n",
       "      <th>B365W</th>\n",
       "      <th>B365L</th>\n",
       "      <th>elo_winner</th>\n",
       "      <th>elo_loser</th>\n",
       "      <th>proba_elo</th>\n",
       "      <th>Cote</th>\n",
       "      <th>PSgain_si_Win_�</th>\n",
       "      <th>PSgain_si_Lose_�</th>\n",
       "      <th>PSperte_%</th>\n",
       "      <th>PSroi</th>\n",
       "      <th>B365gain_si_Win_�</th>\n",
       "      <th>B365gain_si_Lose_�</th>\n",
       "      <th>B365perte_%</th>\n",
       "      <th>B365roi</th>\n",
       "    </tr>\n",
       "  </thead>\n",
       "  <tbody>\n",
       "    <tr>\n",
       "      <th>0</th>\n",
       "      <td>3</td>\n",
       "      <td>23</td>\n",
       "      <td>79</td>\n",
       "      <td>2010-01-04</td>\n",
       "      <td>0</td>\n",
       "      <td>1</td>\n",
       "      <td>2</td>\n",
       "      <td>0</td>\n",
       "      <td>3</td>\n",
       "      <td>196</td>\n",
       "      <td>196</td>\n",
       "      <td>37</td>\n",
       "      <td>54</td>\n",
       "      <td>2.0</td>\n",
       "      <td>0.0</td>\n",
       "      <td>0</td>\n",
       "      <td>1.376</td>\n",
       "      <td>3.410</td>\n",
       "      <td>1.36</td>\n",
       "      <td>3.00</td>\n",
       "      <td>1700.586950</td>\n",
       "      <td>1564.557532</td>\n",
       "      <td>0.686337</td>\n",
       "      <td>0.726744</td>\n",
       "      <td>137.6</td>\n",
       "      <td>341.0</td>\n",
       "      <td>0.273256</td>\n",
       "      <td>6.819767</td>\n",
       "      <td>136.0</td>\n",
       "      <td>300.0</td>\n",
       "      <td>0.264706</td>\n",
       "      <td>19.425445</td>\n",
       "    </tr>\n",
       "    <tr>\n",
       "      <th>1</th>\n",
       "      <td>1</td>\n",
       "      <td>13</td>\n",
       "      <td>22</td>\n",
       "      <td>2010-01-04</td>\n",
       "      <td>0</td>\n",
       "      <td>1</td>\n",
       "      <td>2</td>\n",
       "      <td>0</td>\n",
       "      <td>3</td>\n",
       "      <td>121</td>\n",
       "      <td>102</td>\n",
       "      <td>81</td>\n",
       "      <td>32</td>\n",
       "      <td>2.0</td>\n",
       "      <td>0.0</td>\n",
       "      <td>0</td>\n",
       "      <td>2.580</td>\n",
       "      <td>1.581</td>\n",
       "      <td>2.62</td>\n",
       "      <td>1.44</td>\n",
       "      <td>1494.870839</td>\n",
       "      <td>1676.396972</td>\n",
       "      <td>0.260196</td>\n",
       "      <td>0.387597</td>\n",
       "      <td>258.0</td>\n",
       "      <td>158.1</td>\n",
       "      <td>0.612403</td>\n",
       "      <td>3.179070</td>\n",
       "      <td>262.0</td>\n",
       "      <td>144.0</td>\n",
       "      <td>0.618321</td>\n",
       "      <td>12.512220</td>\n",
       "    </tr>\n",
       "    <tr>\n",
       "      <th>2</th>\n",
       "      <td>1</td>\n",
       "      <td>13</td>\n",
       "      <td>22</td>\n",
       "      <td>2010-01-04</td>\n",
       "      <td>0</td>\n",
       "      <td>1</td>\n",
       "      <td>2</td>\n",
       "      <td>0</td>\n",
       "      <td>3</td>\n",
       "      <td>241</td>\n",
       "      <td>377</td>\n",
       "      <td>119</td>\n",
       "      <td>67</td>\n",
       "      <td>2.0</td>\n",
       "      <td>0.0</td>\n",
       "      <td>0</td>\n",
       "      <td>2.170</td>\n",
       "      <td>1.787</td>\n",
       "      <td>3.00</td>\n",
       "      <td>1.36</td>\n",
       "      <td>1325.868154</td>\n",
       "      <td>1663.757847</td>\n",
       "      <td>0.125094</td>\n",
       "      <td>0.460829</td>\n",
       "      <td>217.0</td>\n",
       "      <td>178.7</td>\n",
       "      <td>0.539171</td>\n",
       "      <td>3.650230</td>\n",
       "      <td>300.0</td>\n",
       "      <td>136.0</td>\n",
       "      <td>0.666667</td>\n",
       "      <td>47.582181</td>\n",
       "    </tr>\n",
       "    <tr>\n",
       "      <th>3</th>\n",
       "      <td>1</td>\n",
       "      <td>13</td>\n",
       "      <td>22</td>\n",
       "      <td>2010-01-04</td>\n",
       "      <td>0</td>\n",
       "      <td>1</td>\n",
       "      <td>2</td>\n",
       "      <td>0</td>\n",
       "      <td>3</td>\n",
       "      <td>393</td>\n",
       "      <td>426</td>\n",
       "      <td>12</td>\n",
       "      <td>306</td>\n",
       "      <td>2.0</td>\n",
       "      <td>0.0</td>\n",
       "      <td>0</td>\n",
       "      <td>1.087</td>\n",
       "      <td>9.950</td>\n",
       "      <td>1.04</td>\n",
       "      <td>10.00</td>\n",
       "      <td>1872.712058</td>\n",
       "      <td>1500.000000</td>\n",
       "      <td>0.895248</td>\n",
       "      <td>0.919963</td>\n",
       "      <td>108.7</td>\n",
       "      <td>995.0</td>\n",
       "      <td>0.080037</td>\n",
       "      <td>20.363385</td>\n",
       "      <td>104.0</td>\n",
       "      <td>1000.0</td>\n",
       "      <td>0.038462</td>\n",
       "      <td>57.214634</td>\n",
       "    </tr>\n",
       "    <tr>\n",
       "      <th>4</th>\n",
       "      <td>1</td>\n",
       "      <td>13</td>\n",
       "      <td>22</td>\n",
       "      <td>2010-01-04</td>\n",
       "      <td>0</td>\n",
       "      <td>1</td>\n",
       "      <td>2</td>\n",
       "      <td>0</td>\n",
       "      <td>3</td>\n",
       "      <td>344</td>\n",
       "      <td>386</td>\n",
       "      <td>7</td>\n",
       "      <td>77</td>\n",
       "      <td>2.0</td>\n",
       "      <td>0.0</td>\n",
       "      <td>0</td>\n",
       "      <td>1.121</td>\n",
       "      <td>7.830</td>\n",
       "      <td>1.08</td>\n",
       "      <td>7.00</td>\n",
       "      <td>1934.828255</td>\n",
       "      <td>1431.488569</td>\n",
       "      <td>0.947721</td>\n",
       "      <td>0.892061</td>\n",
       "      <td>112.1</td>\n",
       "      <td>783.0</td>\n",
       "      <td>0.107939</td>\n",
       "      <td>15.483497</td>\n",
       "      <td>108.0</td>\n",
       "      <td>700.0</td>\n",
       "      <td>0.074074</td>\n",
       "      <td>44.490699</td>\n",
       "    </tr>\n",
       "  </tbody>\n",
       "</table>\n",
       "</div>"
      ],
      "text/plain": [
       "   ATP  Location  Tournament       Date  Series  Court  Surface  Round  \\\n",
       "0    3        23          79 2010-01-04       0      1        2      0   \n",
       "1    1        13          22 2010-01-04       0      1        2      0   \n",
       "2    1        13          22 2010-01-04       0      1        2      0   \n",
       "3    1        13          22 2010-01-04       0      1        2      0   \n",
       "4    1        13          22 2010-01-04       0      1        2      0   \n",
       "\n",
       "   Best of  Winner  Loser  WRank  LRank  Wsets  Lsets  Comment    PSW    PSL  \\\n",
       "0        3     196    196     37     54    2.0    0.0        0  1.376  3.410   \n",
       "1        3     121    102     81     32    2.0    0.0        0  2.580  1.581   \n",
       "2        3     241    377    119     67    2.0    0.0        0  2.170  1.787   \n",
       "3        3     393    426     12    306    2.0    0.0        0  1.087  9.950   \n",
       "4        3     344    386      7     77    2.0    0.0        0  1.121  7.830   \n",
       "\n",
       "   B365W  B365L   elo_winner    elo_loser  proba_elo      Cote  \\\n",
       "0   1.36   3.00  1700.586950  1564.557532   0.686337  0.726744   \n",
       "1   2.62   1.44  1494.870839  1676.396972   0.260196  0.387597   \n",
       "2   3.00   1.36  1325.868154  1663.757847   0.125094  0.460829   \n",
       "3   1.04  10.00  1872.712058  1500.000000   0.895248  0.919963   \n",
       "4   1.08   7.00  1934.828255  1431.488569   0.947721  0.892061   \n",
       "\n",
       "   PSgain_si_Win_�  PSgain_si_Lose_�  PSperte_%      PSroi  B365gain_si_Win_�  \\\n",
       "0            137.6             341.0   0.273256   6.819767              136.0   \n",
       "1            258.0             158.1   0.612403   3.179070              262.0   \n",
       "2            217.0             178.7   0.539171   3.650230              300.0   \n",
       "3            108.7             995.0   0.080037  20.363385              104.0   \n",
       "4            112.1             783.0   0.107939  15.483497              108.0   \n",
       "\n",
       "   B365gain_si_Lose_�  B365perte_%    B365roi  \n",
       "0               300.0     0.264706  19.425445  \n",
       "1               144.0     0.618321  12.512220  \n",
       "2               136.0     0.666667  47.582181  \n",
       "3              1000.0     0.038462  57.214634  \n",
       "4               700.0     0.074074  44.490699  "
      ]
     },
     "execution_count": 91,
     "metadata": {},
     "output_type": "execute_result"
    }
   ],
   "source": [
    "dfroi.head()"
   ]
  },
  {
   "cell_type": "code",
   "execution_count": 130,
   "id": "5c99a135",
   "metadata": {},
   "outputs": [],
   "source": [
    "#Si on parie uniquement sur les victoires et les d�faites de notre mod�le Random Forest\n"
   ]
  },
  {
   "cell_type": "code",
   "execution_count": 92,
   "id": "28ee999f",
   "metadata": {
    "scrolled": true
   },
   "outputs": [
    {
     "name": "stdout",
     "output_type": "stream",
     "text": [
      "avec le Random Forest on a  13220 bonnes pr�dictions sur  18098\n"
     ]
    }
   ],
   "source": [
    "# On ajoute les pr�dictions du random forest au dfroi\n",
    "X_scaled = scaler.transform(X)\n",
    "\n",
    "y_pred_total = grid_rf.predict(X_scaled)\n",
    "\n",
    "dfroi['Predit']=y_pred_total\n",
    "dfroi['Reel']=y\n",
    "\n",
    "BonnePrediction=[]\n",
    "#for ligne in dfroi['Predit']:\n",
    "#    if ligne==dfroi['Reel'][ligne]:\n",
    "#        BonnePrediction.append(1)\n",
    "#    else: BonnePrediction.append(0)\n",
    "\n",
    "BonnePrediction=dfroi[dfroi['Predit']==(dfroi['Reel'])]\n",
    "\n",
    "\n",
    "BonnePrediction\n",
    "\n",
    "print('avec le Random Forest on a ',BonnePrediction.shape[0],'bonnes pr�dictions sur ',dfroi.shape[0])"
   ]
  },
  {
   "cell_type": "code",
   "execution_count": 93,
   "id": "47ccd7cc",
   "metadata": {},
   "outputs": [
    {
     "name": "stdout",
     "output_type": "stream",
     "text": [
      "Le ROi de tous les paris selon notre random Forest serait de :  19.341634434744165 %\n"
     ]
    }
   ],
   "source": [
    "#Si on parie sur tous les matches : ROI en �\n",
    "\n",
    "gainse=BonnePrediction['PSgain_si_Win_�'].sum() #Gains en � sur les paris gagn�s\n",
    "\n",
    "badPrediction=dfroi[dfroi['Predit']!=(dfroi['Reel'])]\n",
    "pertese=budget*badPrediction.shape[0] #Pertes e, # sur les paris perdus\n",
    "\n",
    "#ROI en % : \n",
    "roips=((BonnePrediction['PSgain_si_Win_�'].sum()-pertese)-(budget*dfroi.shape[0]))/dfroi.shape[0]\n",
    "\n",
    "print('Le ROi de tous les paris selon notre random Forest serait de : ',roips,'%')\n"
   ]
  },
  {
   "cell_type": "code",
   "execution_count": 94,
   "id": "11392f07",
   "metadata": {},
   "outputs": [
    {
     "ename": "NameError",
     "evalue": "name 'BonnePredictionp1' is not defined",
     "output_type": "error",
     "traceback": [
      "\u001b[1;31m---------------------------------------------------------------------------\u001b[0m",
      "\u001b[1;31mNameError\u001b[0m                                 Traceback (most recent call last)",
      "\u001b[1;32m<ipython-input-94-e27951cf2886>\u001b[0m in \u001b[0;36m<module>\u001b[1;34m\u001b[0m\n\u001b[0;32m      7\u001b[0m \u001b[1;33m\u001b[0m\u001b[0m\n\u001b[0;32m      8\u001b[0m \u001b[0mBonnePredictionp0\u001b[0m\u001b[1;33m=\u001b[0m\u001b[0mdfp0\u001b[0m\u001b[1;33m[\u001b[0m\u001b[0mdfp0\u001b[0m\u001b[1;33m[\u001b[0m\u001b[1;34m'Reel'\u001b[0m\u001b[1;33m]\u001b[0m\u001b[1;33m==\u001b[0m\u001b[1;36m0\u001b[0m\u001b[1;33m]\u001b[0m\u001b[1;33m\u001b[0m\u001b[1;33m\u001b[0m\u001b[0m\n\u001b[1;32m----> 9\u001b[1;33m \u001b[0mgainsp0\u001b[0m\u001b[1;33m=\u001b[0m\u001b[0mBonnePredictionp0\u001b[0m\u001b[1;33m[\u001b[0m\u001b[1;34m'PSgain_si_Lose_�'\u001b[0m\u001b[1;33m]\u001b[0m\u001b[1;33m.\u001b[0m\u001b[0msum\u001b[0m\u001b[1;33m(\u001b[0m\u001b[1;33m)\u001b[0m\u001b[1;33m+\u001b[0m\u001b[0mBonnePredictionp1\u001b[0m\u001b[1;33m[\u001b[0m\u001b[1;34m'PSgain_si_Win_�'\u001b[0m\u001b[1;33m]\u001b[0m\u001b[1;33m.\u001b[0m\u001b[0msum\u001b[0m\u001b[1;33m(\u001b[0m\u001b[1;33m)\u001b[0m\u001b[1;31m#ici on parie sur la d�faite\u001b[0m\u001b[1;33m\u001b[0m\u001b[1;33m\u001b[0m\u001b[0m\n\u001b[0m\u001b[0;32m     10\u001b[0m \u001b[0mbadPredictionp0\u001b[0m\u001b[1;33m=\u001b[0m\u001b[0mdfp0\u001b[0m\u001b[1;33m[\u001b[0m\u001b[0mdfp0\u001b[0m\u001b[1;33m[\u001b[0m\u001b[1;34m'Reel'\u001b[0m\u001b[1;33m]\u001b[0m\u001b[1;33m==\u001b[0m\u001b[1;36m0\u001b[0m\u001b[1;33m]\u001b[0m \u001b[1;31m#<2 = d�faite\u001b[0m\u001b[1;33m\u001b[0m\u001b[1;33m\u001b[0m\u001b[0m\n\u001b[0;32m     11\u001b[0m \u001b[0mpertesp0\u001b[0m\u001b[1;33m=\u001b[0m\u001b[0mbudget\u001b[0m\u001b[1;33m*\u001b[0m\u001b[0mbadPredictionp0\u001b[0m\u001b[1;33m.\u001b[0m\u001b[0mshape\u001b[0m\u001b[1;33m[\u001b[0m\u001b[1;36m0\u001b[0m\u001b[1;33m]\u001b[0m\u001b[1;33m\u001b[0m\u001b[1;33m\u001b[0m\u001b[0m\n",
      "\u001b[1;31mNameError\u001b[0m: name 'BonnePredictionp1' is not defined"
     ]
    }
   ],
   "source": [
    "#On calcule le ROI si on parie 100� sur tous les matches a pr�diction 3 (surs)\n",
    "dfp0=dfroi.loc[dfroi['Predit']==0].copy()\n",
    "dfp1=dfroi.loc[dfroi['Predit']==1].copy()\n",
    "dfp2=dfroi.loc[dfroi['Predit']==2].copy()\n",
    "dfp3=dfroi.loc[dfroi['Predit']==3].copy()\n",
    "\n",
    "\n",
    "BonnePredictionp0=dfp0[dfp0['Reel']==0]\n",
    "gainsp0=BonnePredictionp0['PSgain_si_Lose_�'].sum()+BonnePredictionp1['PSgain_si_Win_�'].sum()#ici on parie sur la d�faite \n",
    "badPredictionp0=dfp0[dfp0['Reel']==0] #<2 = d�faite\n",
    "pertesp0=budget*badPredictionp0.shape[0]\n",
    "\n",
    "BonnePredictionp1=dfp1[dfp1['Reel']==1]\n",
    "gainsp1=BonnePredictionp1['PSgain_si_Lose_�'].sum()+BonnePredictionp0['PSgain_si_Win_�'].sum()#ici on parie sur la d�faite \n",
    "badPredictionp1=dfp1[dfp1['Reel']==1]\n",
    "pertesp1=budget*badPredictionp1.shape[0]\n",
    "\n",
    "BonnePredictionp2=dfp2[dfp2['Reel']==2] #>1 = victoire\n",
    "gainsp2=BonnePredictionp2['PSgain_si_Win_�'].sum()+BonnePredictionp3['PSgain_si_Win_�'].sum() #ici on parie sur la victoire \n",
    "badPredictionp2=dfp2[dfp2['Reel']==2]\n",
    "pertesp2=budget*badPredictionp2.shape[0]\n",
    "\n",
    "BonnePredictionp3=(dfp3[dfp3['Reel']==3]) \n",
    "gainsp3=BonnePredictionp3['PSgain_si_Win_�'].sum()+BonnePredictionp2['PSgain_si_Win_�'].sum() #ici on parie sur la victoire\n",
    "badPredictionp3=dfp3[dfp3['Reel']==3]\n",
    "pertesp3=budget*badPredictionp3.shape[0]\n",
    "\n",
    "\n",
    "\n",
    "#ROI en % : \n",
    "roipsp0=((gainsp0-pertesp0)-(budget*dfp0.shape[0]))/dfp0.shape[0]\n",
    "roipsp1=((gainsp1-pertesp1)-(budget*dfp1.shape[0]))/dfp1.shape[0]\n",
    "roipsp2=((gainsp2-pertesp2)-(budget*dfp2.shape[0]))/dfp2.shape[0]\n",
    "roipsp3=((gainsp3-pertesp3)-(budget*dfp3.shape[0]))/dfp3.shape[0]\n",
    "\n",
    "\n",
    "\n",
    "\n",
    "#R�sultat\n",
    "print('on gagne en moyenne : ',(gainsp0-pertesp0)/dfp0.shape[0],'�/match en pariant',budget,'� sur les',dfp0.shape[0],'matches � pr�diction 0 (d�faite certaine)')\n",
    "print('on gagne en moyenne : ',(gainsp1-pertesp1)/dfp1.shape[0],'�/match en pariant',budget,'� sur les',dfp1.shape[0],'matches � pr�diction 1 (d�faite possible)')\n",
    "print('on gagne en moyenne : ',(gainsp2-pertesp2)/dfp2.shape[0],'�/match en pariant',budget,'� sur les',dfp2.shape[0],'matches � pr�diction 2 (victoire possible)')\n",
    "print('on gagne en moyenne : ',(gainsp3-pertesp3)/dfp3.shape[0],'�/match en pariant',budget,'� sur les',dfp3.shape[0],'matches � pr�diction 3 (victoire certaine)')\n",
    "\n",
    "print('parier sur les d�faites semble rapporter davantage :')\n",
    "print('ROI en % : ',roipsp0,'% sur les predictions0',roipsp1,'% sur les predictions1',roipsp2,'% sur les predictions2',roipsp3,'% sur les predictions3')"
   ]
  },
  {
   "cell_type": "code",
   "execution_count": null,
   "id": "14c8d6ff",
   "metadata": {},
   "outputs": [],
   "source": [
    "#R�sultat\n",
    "#print('on gagnerait en moyenne : ',dfp0['PSgain_si_Win_�'].mean(),'�  � chaque match si on pariait',budget,'� sur les',dfp0.shape[0],'matches � pr�diction 0')\n",
    "#print('on gagnerait en moyenne : ',dfp1['PSgain_si_Win_�'].mean(),'�  � chaque match si on pariait',budget,'� sur les',dfp1.shape[0],'matches � pr�diction 1')\n",
    "#print('on gagnerait en moyenne : ',dfp2['PSgain_si_Win_�'].mean(),'�  � chaque match si on pariait',budget,'� sur les',dfp2.shape[0],'matches � pr�diction 2')\n",
    "#print('on gagnerait en moyenne : ',dfp3['PSgain_si_Win_�'].mean(),'�  � chaque match si on pariait',budget,'� sur les',dfp3.shape[0],'matches � pr�diction 3')\n"
   ]
  },
  {
   "cell_type": "code",
   "execution_count": null,
   "id": "c3e07e38",
   "metadata": {},
   "outputs": [],
   "source": [
    "#Piste en cours d'�laboration !!!\n",
    "\n",
    "predictions = {'reel'  : y_test,\n",
    "                'pr�dit':y_pred,}\n",
    "\n",
    "# Creation du DataFrame\n",
    "predict= pd.DataFrame(predictions)\n",
    "pari�=[]\n",
    "for ligne in predict['pr�dit']:\n",
    "    if ligne==3:\n",
    "        pari�.append(budget)\n",
    "    else:\n",
    "        pari�.append(0)\n",
    "predict['Pari']=pari�\n",
    "\n",
    "resultat=[]\n",
    "for prediction in predict['reel']:\n",
    "    if prediction==3:\n",
    "        resultat.append(100)\n",
    "    else:\n",
    "        resultat.append(0)\n",
    "\n",
    "predict['resultat']=resultat\n",
    "resultat\n",
    "\n",
    "\n",
    "#predict.head(50)\n",
    "#print('pari� : ',predict['Pari'].sum())\n",
    "#print('r�sultat : ',predict['resultat'].sum())"
   ]
  },
  {
   "cell_type": "code",
   "execution_count": null,
   "id": "eabee281",
   "metadata": {},
   "outputs": [],
   "source": [
    "predict.head(45)"
   ]
  },
  {
   "cell_type": "code",
   "execution_count": null,
   "id": "e6fa0d00",
   "metadata": {},
   "outputs": [],
   "source": []
  }
 ],
 "metadata": {
  "kernelspec": {
   "display_name": "Python 3",
   "language": "python",
   "name": "python3"
  },
  "language_info": {
   "codemirror_mode": {
    "name": "ipython",
    "version": 3
   },
   "file_extension": ".py",
   "mimetype": "text/x-python",
   "name": "python",
   "nbconvert_exporter": "python",
   "pygments_lexer": "ipython3",
   "version": "3.8.8"
  }
 },
 "nbformat": 4,
 "nbformat_minor": 5
}